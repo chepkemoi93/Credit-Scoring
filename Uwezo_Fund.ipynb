{
  "cells": [
    {
      "cell_type": "markdown",
      "metadata": {
        "id": "view-in-github",
        "colab_type": "text"
      },
      "source": [
        "<a href=\"https://colab.research.google.com/github/chepkemoi93/credit_scoring/blob/main/Uwezo_Fund.ipynb\" target=\"_parent\"><img src=\"https://colab.research.google.com/assets/colab-badge.svg\" alt=\"Open In Colab\"/></a>"
      ]
    },
    {
      "cell_type": "markdown",
      "metadata": {
        "id": "m3B3emvtSpeA"
      },
      "source": [
        "\n",
        "\n",
        "# **1.   DATA PREPARATION**\n",
        "\n",
        "\n"
      ]
    },
    {
      "cell_type": "markdown",
      "source": [
        "**Libraries**"
      ],
      "metadata": {
        "id": "-OSbBKBsc7ip"
      }
    },
    {
      "cell_type": "code",
      "execution_count": 1,
      "metadata": {
        "id": "SOkn5RW0SpeE"
      },
      "outputs": [],
      "source": [
        "#import Standard libraries\n",
        "import pandas as pd\n",
        "from numpy import asarray\n",
        "import numpy as np\n",
        "from numpy import asarray\n",
        "import matplotlib.pyplot as plt\n",
        "import seaborn as sns\n",
        "from sklearn.preprocessing import LabelEncoder\n",
        "from sklearn.compose import ColumnTransformer\n",
        "\n"
      ]
    },
    {
      "cell_type": "markdown",
      "metadata": {
        "id": "jugoiEbxSpeG"
      },
      "source": [
        "**Raw** **Data**  **Uwezo** **Fund**"
      ]
    },
    {
      "cell_type": "code",
      "execution_count": 2,
      "metadata": {
        "id": "Z-Lh3OZfSpeH"
      },
      "outputs": [],
      "source": [
        "#Read dataset to pandas dataframe\n",
        "dataset= pd.read_excel(\"uwezofund.xlsx\")"
      ]
    },
    {
      "cell_type": "code",
      "execution_count": 3,
      "metadata": {
        "colab": {
          "base_uri": "https://localhost:8080/",
          "height": 533
        },
        "id": "LReEDI9HSpeH",
        "outputId": "1f164d81-e055-4e1b-f57d-91f8f80dfd7a",
        "scrolled": true
      },
      "outputs": [
        {
          "output_type": "execute_result",
          "data": {
            "text/plain": [
              "   S/NO        Date_of_Issue                  Group_Name  \\\n",
              "0    53  2014-08-12 00:00:00             Ilkinyiaku Y.G.   \n",
              "1    54  2014-08-12 00:00:00            Illanyuak Dapash   \n",
              "2    55  2014-08-12 00:00:00  Illaramatak Nkokolani Y.G.   \n",
              "3    56  2014-08-12 00:00:00       Olpusimoru Pamoja W.G   \n",
              "4    57  2014-08-12 00:00:00                Ilariak Y.G.   \n",
              "\n",
              "                    GFS_Code  Group_Age_In_Years  Group_Location       Sector  \\\n",
              "0  4-033-179-4110201-401-001                 9.0           179.0  Agriculture   \n",
              "1  4-033-179-4110201-401-002                 9.0           179.0  Agriculture   \n",
              "2  4-033-179-4110201-401-003                 9.0           179.0  Agriculture   \n",
              "3  4-033-179-4110202-402-004                 9.0           179.0  Agriculture   \n",
              "4  4-033-179-4110201-401-005                 9.0           179.0  Agriculture   \n",
              "\n",
              "  Category Amount_Applied                P_Voucher  ...  \\\n",
              "0    Youth          50000  1-103-0140-03-4110201-1  ...   \n",
              "1    Youth         150000            “           “  ...   \n",
              "2    Youth          50000            “           “  ...   \n",
              "3    Women         100000            “           “  ...   \n",
              "4    Youth         150000            “           “  ...   \n",
              "\n",
              "   Repayment_Period_In_Years  Existing_Loans Table_Banking Amount_Issued  \\\n",
              "0                        2.0             Yes            No       50000.0   \n",
              "1                        2.0             Yes           Yes      150000.0   \n",
              "2                        2.0             Yes           Yes       50000.0   \n",
              "3                        2.0             Yes            No      100000.0   \n",
              "4                        2.0             Yes           Yes      150000.0   \n",
              "\n",
              "   Amount_Due (KShs)  Amount_Repaid (KShs)  \\\n",
              "0        4166.666667                   0.0   \n",
              "1       12500.000000               12500.0   \n",
              "2        4166.666667               27045.0   \n",
              "3        8333.333333                   0.0   \n",
              "4       12500.000000                6250.0   \n",
              "\n",
              "   Amount_cummulatively_in_arrears (KShs)  Outstanding_Loan_Balance (KShs)  \\\n",
              "0                             4166.666667                          50000.0   \n",
              "1                                0.000000                         137500.0   \n",
              "2                           -22878.333333                          22955.0   \n",
              "3                             8333.333333                         100000.0   \n",
              "4                             6250.000000                         143750.0   \n",
              "\n",
              "   Date_of_Repayment _Completion Remarks  \n",
              "0            2017-08-06 00:00:00     NaN  \n",
              "1            2017-08-06 00:00:00     NaN  \n",
              "2            2017-08-06 00:00:00     NaN  \n",
              "3            2017-08-06 00:00:00     NaN  \n",
              "4            2017-08-06 00:00:00     NaN  \n",
              "\n",
              "[5 rows x 21 columns]"
            ],
            "text/html": [
              "\n",
              "  <div id=\"df-f49f0b82-a44a-4687-8ea6-8c28298ff07a\" class=\"colab-df-container\">\n",
              "    <div>\n",
              "<style scoped>\n",
              "    .dataframe tbody tr th:only-of-type {\n",
              "        vertical-align: middle;\n",
              "    }\n",
              "\n",
              "    .dataframe tbody tr th {\n",
              "        vertical-align: top;\n",
              "    }\n",
              "\n",
              "    .dataframe thead th {\n",
              "        text-align: right;\n",
              "    }\n",
              "</style>\n",
              "<table border=\"1\" class=\"dataframe\">\n",
              "  <thead>\n",
              "    <tr style=\"text-align: right;\">\n",
              "      <th></th>\n",
              "      <th>S/NO</th>\n",
              "      <th>Date_of_Issue</th>\n",
              "      <th>Group_Name</th>\n",
              "      <th>GFS_Code</th>\n",
              "      <th>Group_Age_In_Years</th>\n",
              "      <th>Group_Location</th>\n",
              "      <th>Sector</th>\n",
              "      <th>Category</th>\n",
              "      <th>Amount_Applied</th>\n",
              "      <th>P_Voucher</th>\n",
              "      <th>...</th>\n",
              "      <th>Repayment_Period_In_Years</th>\n",
              "      <th>Existing_Loans</th>\n",
              "      <th>Table_Banking</th>\n",
              "      <th>Amount_Issued</th>\n",
              "      <th>Amount_Due (KShs)</th>\n",
              "      <th>Amount_Repaid (KShs)</th>\n",
              "      <th>Amount_cummulatively_in_arrears (KShs)</th>\n",
              "      <th>Outstanding_Loan_Balance (KShs)</th>\n",
              "      <th>Date_of_Repayment _Completion</th>\n",
              "      <th>Remarks</th>\n",
              "    </tr>\n",
              "  </thead>\n",
              "  <tbody>\n",
              "    <tr>\n",
              "      <th>0</th>\n",
              "      <td>53</td>\n",
              "      <td>2014-08-12 00:00:00</td>\n",
              "      <td>Ilkinyiaku Y.G.</td>\n",
              "      <td>4-033-179-4110201-401-001</td>\n",
              "      <td>9.0</td>\n",
              "      <td>179.0</td>\n",
              "      <td>Agriculture</td>\n",
              "      <td>Youth</td>\n",
              "      <td>50000</td>\n",
              "      <td>1-103-0140-03-4110201-1</td>\n",
              "      <td>...</td>\n",
              "      <td>2.0</td>\n",
              "      <td>Yes</td>\n",
              "      <td>No</td>\n",
              "      <td>50000.0</td>\n",
              "      <td>4166.666667</td>\n",
              "      <td>0.0</td>\n",
              "      <td>4166.666667</td>\n",
              "      <td>50000.0</td>\n",
              "      <td>2017-08-06 00:00:00</td>\n",
              "      <td>NaN</td>\n",
              "    </tr>\n",
              "    <tr>\n",
              "      <th>1</th>\n",
              "      <td>54</td>\n",
              "      <td>2014-08-12 00:00:00</td>\n",
              "      <td>Illanyuak Dapash</td>\n",
              "      <td>4-033-179-4110201-401-002</td>\n",
              "      <td>9.0</td>\n",
              "      <td>179.0</td>\n",
              "      <td>Agriculture</td>\n",
              "      <td>Youth</td>\n",
              "      <td>150000</td>\n",
              "      <td>“           “</td>\n",
              "      <td>...</td>\n",
              "      <td>2.0</td>\n",
              "      <td>Yes</td>\n",
              "      <td>Yes</td>\n",
              "      <td>150000.0</td>\n",
              "      <td>12500.000000</td>\n",
              "      <td>12500.0</td>\n",
              "      <td>0.000000</td>\n",
              "      <td>137500.0</td>\n",
              "      <td>2017-08-06 00:00:00</td>\n",
              "      <td>NaN</td>\n",
              "    </tr>\n",
              "    <tr>\n",
              "      <th>2</th>\n",
              "      <td>55</td>\n",
              "      <td>2014-08-12 00:00:00</td>\n",
              "      <td>Illaramatak Nkokolani Y.G.</td>\n",
              "      <td>4-033-179-4110201-401-003</td>\n",
              "      <td>9.0</td>\n",
              "      <td>179.0</td>\n",
              "      <td>Agriculture</td>\n",
              "      <td>Youth</td>\n",
              "      <td>50000</td>\n",
              "      <td>“           “</td>\n",
              "      <td>...</td>\n",
              "      <td>2.0</td>\n",
              "      <td>Yes</td>\n",
              "      <td>Yes</td>\n",
              "      <td>50000.0</td>\n",
              "      <td>4166.666667</td>\n",
              "      <td>27045.0</td>\n",
              "      <td>-22878.333333</td>\n",
              "      <td>22955.0</td>\n",
              "      <td>2017-08-06 00:00:00</td>\n",
              "      <td>NaN</td>\n",
              "    </tr>\n",
              "    <tr>\n",
              "      <th>3</th>\n",
              "      <td>56</td>\n",
              "      <td>2014-08-12 00:00:00</td>\n",
              "      <td>Olpusimoru Pamoja W.G</td>\n",
              "      <td>4-033-179-4110202-402-004</td>\n",
              "      <td>9.0</td>\n",
              "      <td>179.0</td>\n",
              "      <td>Agriculture</td>\n",
              "      <td>Women</td>\n",
              "      <td>100000</td>\n",
              "      <td>“           “</td>\n",
              "      <td>...</td>\n",
              "      <td>2.0</td>\n",
              "      <td>Yes</td>\n",
              "      <td>No</td>\n",
              "      <td>100000.0</td>\n",
              "      <td>8333.333333</td>\n",
              "      <td>0.0</td>\n",
              "      <td>8333.333333</td>\n",
              "      <td>100000.0</td>\n",
              "      <td>2017-08-06 00:00:00</td>\n",
              "      <td>NaN</td>\n",
              "    </tr>\n",
              "    <tr>\n",
              "      <th>4</th>\n",
              "      <td>57</td>\n",
              "      <td>2014-08-12 00:00:00</td>\n",
              "      <td>Ilariak Y.G.</td>\n",
              "      <td>4-033-179-4110201-401-005</td>\n",
              "      <td>9.0</td>\n",
              "      <td>179.0</td>\n",
              "      <td>Agriculture</td>\n",
              "      <td>Youth</td>\n",
              "      <td>150000</td>\n",
              "      <td>“           “</td>\n",
              "      <td>...</td>\n",
              "      <td>2.0</td>\n",
              "      <td>Yes</td>\n",
              "      <td>Yes</td>\n",
              "      <td>150000.0</td>\n",
              "      <td>12500.000000</td>\n",
              "      <td>6250.0</td>\n",
              "      <td>6250.000000</td>\n",
              "      <td>143750.0</td>\n",
              "      <td>2017-08-06 00:00:00</td>\n",
              "      <td>NaN</td>\n",
              "    </tr>\n",
              "  </tbody>\n",
              "</table>\n",
              "<p>5 rows × 21 columns</p>\n",
              "</div>\n",
              "    <div class=\"colab-df-buttons\">\n",
              "\n",
              "  <div class=\"colab-df-container\">\n",
              "    <button class=\"colab-df-convert\" onclick=\"convertToInteractive('df-f49f0b82-a44a-4687-8ea6-8c28298ff07a')\"\n",
              "            title=\"Convert this dataframe to an interactive table.\"\n",
              "            style=\"display:none;\">\n",
              "\n",
              "  <svg xmlns=\"http://www.w3.org/2000/svg\" height=\"24px\" viewBox=\"0 -960 960 960\">\n",
              "    <path d=\"M120-120v-720h720v720H120Zm60-500h600v-160H180v160Zm220 220h160v-160H400v160Zm0 220h160v-160H400v160ZM180-400h160v-160H180v160Zm440 0h160v-160H620v160ZM180-180h160v-160H180v160Zm440 0h160v-160H620v160Z\"/>\n",
              "  </svg>\n",
              "    </button>\n",
              "\n",
              "  <style>\n",
              "    .colab-df-container {\n",
              "      display:flex;\n",
              "      gap: 12px;\n",
              "    }\n",
              "\n",
              "    .colab-df-convert {\n",
              "      background-color: #E8F0FE;\n",
              "      border: none;\n",
              "      border-radius: 50%;\n",
              "      cursor: pointer;\n",
              "      display: none;\n",
              "      fill: #1967D2;\n",
              "      height: 32px;\n",
              "      padding: 0 0 0 0;\n",
              "      width: 32px;\n",
              "    }\n",
              "\n",
              "    .colab-df-convert:hover {\n",
              "      background-color: #E2EBFA;\n",
              "      box-shadow: 0px 1px 2px rgba(60, 64, 67, 0.3), 0px 1px 3px 1px rgba(60, 64, 67, 0.15);\n",
              "      fill: #174EA6;\n",
              "    }\n",
              "\n",
              "    .colab-df-buttons div {\n",
              "      margin-bottom: 4px;\n",
              "    }\n",
              "\n",
              "    [theme=dark] .colab-df-convert {\n",
              "      background-color: #3B4455;\n",
              "      fill: #D2E3FC;\n",
              "    }\n",
              "\n",
              "    [theme=dark] .colab-df-convert:hover {\n",
              "      background-color: #434B5C;\n",
              "      box-shadow: 0px 1px 3px 1px rgba(0, 0, 0, 0.15);\n",
              "      filter: drop-shadow(0px 1px 2px rgba(0, 0, 0, 0.3));\n",
              "      fill: #FFFFFF;\n",
              "    }\n",
              "  </style>\n",
              "\n",
              "    <script>\n",
              "      const buttonEl =\n",
              "        document.querySelector('#df-f49f0b82-a44a-4687-8ea6-8c28298ff07a button.colab-df-convert');\n",
              "      buttonEl.style.display =\n",
              "        google.colab.kernel.accessAllowed ? 'block' : 'none';\n",
              "\n",
              "      async function convertToInteractive(key) {\n",
              "        const element = document.querySelector('#df-f49f0b82-a44a-4687-8ea6-8c28298ff07a');\n",
              "        const dataTable =\n",
              "          await google.colab.kernel.invokeFunction('convertToInteractive',\n",
              "                                                    [key], {});\n",
              "        if (!dataTable) return;\n",
              "\n",
              "        const docLinkHtml = 'Like what you see? Visit the ' +\n",
              "          '<a target=\"_blank\" href=https://colab.research.google.com/notebooks/data_table.ipynb>data table notebook</a>'\n",
              "          + ' to learn more about interactive tables.';\n",
              "        element.innerHTML = '';\n",
              "        dataTable['output_type'] = 'display_data';\n",
              "        await google.colab.output.renderOutput(dataTable, element);\n",
              "        const docLink = document.createElement('div');\n",
              "        docLink.innerHTML = docLinkHtml;\n",
              "        element.appendChild(docLink);\n",
              "      }\n",
              "    </script>\n",
              "  </div>\n",
              "\n",
              "\n",
              "<div id=\"df-df74f68a-e8d1-433f-8817-750d29bce625\">\n",
              "  <button class=\"colab-df-quickchart\" onclick=\"quickchart('df-df74f68a-e8d1-433f-8817-750d29bce625')\"\n",
              "            title=\"Suggest charts\"\n",
              "            style=\"display:none;\">\n",
              "\n",
              "<svg xmlns=\"http://www.w3.org/2000/svg\" height=\"24px\"viewBox=\"0 0 24 24\"\n",
              "     width=\"24px\">\n",
              "    <g>\n",
              "        <path d=\"M19 3H5c-1.1 0-2 .9-2 2v14c0 1.1.9 2 2 2h14c1.1 0 2-.9 2-2V5c0-1.1-.9-2-2-2zM9 17H7v-7h2v7zm4 0h-2V7h2v10zm4 0h-2v-4h2v4z\"/>\n",
              "    </g>\n",
              "</svg>\n",
              "  </button>\n",
              "\n",
              "<style>\n",
              "  .colab-df-quickchart {\n",
              "      --bg-color: #E8F0FE;\n",
              "      --fill-color: #1967D2;\n",
              "      --hover-bg-color: #E2EBFA;\n",
              "      --hover-fill-color: #174EA6;\n",
              "      --disabled-fill-color: #AAA;\n",
              "      --disabled-bg-color: #DDD;\n",
              "  }\n",
              "\n",
              "  [theme=dark] .colab-df-quickchart {\n",
              "      --bg-color: #3B4455;\n",
              "      --fill-color: #D2E3FC;\n",
              "      --hover-bg-color: #434B5C;\n",
              "      --hover-fill-color: #FFFFFF;\n",
              "      --disabled-bg-color: #3B4455;\n",
              "      --disabled-fill-color: #666;\n",
              "  }\n",
              "\n",
              "  .colab-df-quickchart {\n",
              "    background-color: var(--bg-color);\n",
              "    border: none;\n",
              "    border-radius: 50%;\n",
              "    cursor: pointer;\n",
              "    display: none;\n",
              "    fill: var(--fill-color);\n",
              "    height: 32px;\n",
              "    padding: 0;\n",
              "    width: 32px;\n",
              "  }\n",
              "\n",
              "  .colab-df-quickchart:hover {\n",
              "    background-color: var(--hover-bg-color);\n",
              "    box-shadow: 0 1px 2px rgba(60, 64, 67, 0.3), 0 1px 3px 1px rgba(60, 64, 67, 0.15);\n",
              "    fill: var(--button-hover-fill-color);\n",
              "  }\n",
              "\n",
              "  .colab-df-quickchart-complete:disabled,\n",
              "  .colab-df-quickchart-complete:disabled:hover {\n",
              "    background-color: var(--disabled-bg-color);\n",
              "    fill: var(--disabled-fill-color);\n",
              "    box-shadow: none;\n",
              "  }\n",
              "\n",
              "  .colab-df-spinner {\n",
              "    border: 2px solid var(--fill-color);\n",
              "    border-color: transparent;\n",
              "    border-bottom-color: var(--fill-color);\n",
              "    animation:\n",
              "      spin 1s steps(1) infinite;\n",
              "  }\n",
              "\n",
              "  @keyframes spin {\n",
              "    0% {\n",
              "      border-color: transparent;\n",
              "      border-bottom-color: var(--fill-color);\n",
              "      border-left-color: var(--fill-color);\n",
              "    }\n",
              "    20% {\n",
              "      border-color: transparent;\n",
              "      border-left-color: var(--fill-color);\n",
              "      border-top-color: var(--fill-color);\n",
              "    }\n",
              "    30% {\n",
              "      border-color: transparent;\n",
              "      border-left-color: var(--fill-color);\n",
              "      border-top-color: var(--fill-color);\n",
              "      border-right-color: var(--fill-color);\n",
              "    }\n",
              "    40% {\n",
              "      border-color: transparent;\n",
              "      border-right-color: var(--fill-color);\n",
              "      border-top-color: var(--fill-color);\n",
              "    }\n",
              "    60% {\n",
              "      border-color: transparent;\n",
              "      border-right-color: var(--fill-color);\n",
              "    }\n",
              "    80% {\n",
              "      border-color: transparent;\n",
              "      border-right-color: var(--fill-color);\n",
              "      border-bottom-color: var(--fill-color);\n",
              "    }\n",
              "    90% {\n",
              "      border-color: transparent;\n",
              "      border-bottom-color: var(--fill-color);\n",
              "    }\n",
              "  }\n",
              "</style>\n",
              "\n",
              "  <script>\n",
              "    async function quickchart(key) {\n",
              "      const quickchartButtonEl =\n",
              "        document.querySelector('#' + key + ' button');\n",
              "      quickchartButtonEl.disabled = true;  // To prevent multiple clicks.\n",
              "      quickchartButtonEl.classList.add('colab-df-spinner');\n",
              "      try {\n",
              "        const charts = await google.colab.kernel.invokeFunction(\n",
              "            'suggestCharts', [key], {});\n",
              "      } catch (error) {\n",
              "        console.error('Error during call to suggestCharts:', error);\n",
              "      }\n",
              "      quickchartButtonEl.classList.remove('colab-df-spinner');\n",
              "      quickchartButtonEl.classList.add('colab-df-quickchart-complete');\n",
              "    }\n",
              "    (() => {\n",
              "      let quickchartButtonEl =\n",
              "        document.querySelector('#df-df74f68a-e8d1-433f-8817-750d29bce625 button');\n",
              "      quickchartButtonEl.style.display =\n",
              "        google.colab.kernel.accessAllowed ? 'block' : 'none';\n",
              "    })();\n",
              "  </script>\n",
              "</div>\n",
              "\n",
              "    </div>\n",
              "  </div>\n"
            ]
          },
          "metadata": {},
          "execution_count": 3
        }
      ],
      "source": [
        "#see what's inside dataset\n",
        "dataset.head()"
      ]
    },
    {
      "cell_type": "code",
      "source": [
        "dataset.info()"
      ],
      "metadata": {
        "colab": {
          "base_uri": "https://localhost:8080/"
        },
        "id": "__OwlVlmctH7",
        "outputId": "19e7540b-14b2-4d4e-c413-aa8b0147dd24"
      },
      "execution_count": 6,
      "outputs": [
        {
          "output_type": "stream",
          "name": "stdout",
          "text": [
            "<class 'pandas.core.frame.DataFrame'>\n",
            "RangeIndex: 1021 entries, 0 to 1020\n",
            "Data columns (total 21 columns):\n",
            " #   Column                                  Non-Null Count  Dtype  \n",
            "---  ------                                  --------------  -----  \n",
            " 0   S/NO                                    1021 non-null   int64  \n",
            " 1   Date_of_Issue                           1020 non-null   object \n",
            " 2   Group_Name                              1021 non-null   object \n",
            " 3   GFS_Code                                1020 non-null   object \n",
            " 4   Group_Age_In_Years                      1019 non-null   float64\n",
            " 5   Group_Location                          1020 non-null   float64\n",
            " 6   Sector                                  1020 non-null   object \n",
            " 7   Category                                1021 non-null   object \n",
            " 8   Amount_Applied                          1021 non-null   object \n",
            " 9   P_Voucher                               1018 non-null   object \n",
            " 10  Cheque_No                               1020 non-null   float64\n",
            " 11  Repayment_Period_In_Years               990 non-null    float64\n",
            " 12  Existing_Loans                          1021 non-null   object \n",
            " 13  Table_Banking                           1021 non-null   object \n",
            " 14  Amount_Issued                           1020 non-null   float64\n",
            " 15  Amount_Due (KShs)                       990 non-null    float64\n",
            " 16  Amount_Repaid (KShs)                    1013 non-null   float64\n",
            " 17  Amount_cummulatively_in_arrears (KShs)  992 non-null    float64\n",
            " 18  Outstanding_Loan_Balance (KShs)         1013 non-null   float64\n",
            " 19  Date_of_Repayment _Completion           1004 non-null   object \n",
            " 20  Remarks                                 394 non-null    object \n",
            "dtypes: float64(9), int64(1), object(11)\n",
            "memory usage: 167.6+ KB\n"
          ]
        }
      ]
    },
    {
      "cell_type": "markdown",
      "metadata": {
        "id": "ekqjhQylXx37"
      },
      "source": [
        "**Columns description of the raw data:**\n",
        "\n",
        "\n",
        "1.  **S/NO**: This feature shows the numberof the group as captured in excel\n",
        "\n",
        "2.   **Date_of_Issue**:This feature indicates the date which loan was issued to a group\n",
        "\n",
        "3. **Group_Name**:This feature is the name of the group\n",
        "\n",
        "4. **GFS_Code**:\n",
        "\n",
        "5. **Group_Age_In_Years**: This feature represents the age of the group\n",
        "\n",
        "6. **Group_Location**: This feature indicates where the group is based\n",
        "\n",
        "7.  **Sector**: This feature indicates the group's activity or the purpose for the loan\n",
        "\n",
        "8. **Category**: This feature presents the composition of the group/membership profile\n",
        "\n",
        "9. **Amount_Applied**: This is the amount applied by the group. might be equal or less the amount issued.\n",
        "\n",
        "10.  **P_Voucher**:\n",
        "\n",
        "11. **Cheque_No**:\n",
        "\n",
        "12. **Repayment_Period_In_Months**: show the duration or term of the loan  \n",
        "\n",
        "13. **Table_Banking**: shows whether the group operates table banking\n",
        "\n",
        "14. **Amount_Issued**: It indicates the monetary value of the loan.\n",
        "\n",
        "15. **Amount_Due (KShs)**:It represents the amount not yet  paid\n",
        "\n",
        "16. **Amount_Repaid (KShs)**:It represents the amount already repaid by the group\n",
        "\n",
        "17. **Amount_cummulatively_in_arrears (KShs)**\n",
        "\n",
        "18. **Outstanding_Loan_Balance (KShs)**\n",
        "\n",
        "19. **Date_of_Repayment _Completion**: The expected date of loan repayment.\n",
        "\n",
        "20. **Remarks**: this represents the recommendation from the officer in charge\n",
        "\n",
        "\n",
        "\n"
      ]
    },
    {
      "cell_type": "markdown",
      "metadata": {
        "id": "Bup34jH168gM"
      },
      "source": [
        " **Data Cleaning**\n",
        "\n",
        "This step involves understanding the data by inspecting its structure and identifying missing values, outliers, and inconsistencies."
      ]
    },
    {
      "cell_type": "code",
      "execution_count": 7,
      "metadata": {
        "colab": {
          "base_uri": "https://localhost:8080/"
        },
        "id": "cQgX_MgrSpeN",
        "outputId": "bb83c21a-eac3-4a36-ddbe-d92b4949785b"
      },
      "outputs": [
        {
          "output_type": "execute_result",
          "data": {
            "text/plain": [
              "S/NO                                        0\n",
              "Date_of_Issue                               1\n",
              "Group_Name                                  0\n",
              "GFS_Code                                    1\n",
              "Group_Age_In_Years                          2\n",
              "Group_Location                              1\n",
              "Sector                                      1\n",
              "Category                                    0\n",
              "Amount_Applied                              0\n",
              "P_Voucher                                   3\n",
              "Cheque_No                                   1\n",
              "Repayment_Period_In_Years                  31\n",
              "Existing_Loans                              0\n",
              "Table_Banking                               0\n",
              "Amount_Issued                               1\n",
              "Amount_Due (KShs)                          31\n",
              "Amount_Repaid (KShs)                        8\n",
              "Amount_cummulatively_in_arrears (KShs)     29\n",
              "Outstanding_Loan_Balance (KShs)             8\n",
              "Date_of_Repayment _Completion              17\n",
              "Remarks                                   627\n",
              "dtype: int64"
            ]
          },
          "metadata": {},
          "execution_count": 7
        }
      ],
      "source": [
        "#check and Count for missing values\n",
        "dataset.isnull().sum()"
      ]
    },
    {
      "cell_type": "markdown",
      "metadata": {
        "id": "Cnr4TA5vyEXU"
      },
      "source": [
        "The dataset has a number of missing values.\n",
        "\n",
        "\n",
        "\n",
        "\n",
        "\n"
      ]
    },
    {
      "cell_type": "code",
      "execution_count": 8,
      "metadata": {
        "colab": {
          "base_uri": "https://localhost:8080/"
        },
        "id": "PezuCv-Tk3FN",
        "outputId": "1d359e1b-5248-47dd-cf3a-cb15ea193d34"
      },
      "outputs": [
        {
          "output_type": "stream",
          "name": "stdout",
          "text": [
            "<class 'pandas.core.frame.DataFrame'>\n",
            "RangeIndex: 1021 entries, 0 to 1020\n",
            "Data columns (total 21 columns):\n",
            " #   Column                                  Non-Null Count  Dtype  \n",
            "---  ------                                  --------------  -----  \n",
            " 0   S/NO                                    1021 non-null   int64  \n",
            " 1   Date_of_Issue                           1020 non-null   object \n",
            " 2   Group_Name                              1021 non-null   object \n",
            " 3   GFS_Code                                1020 non-null   object \n",
            " 4   Group_Age_In_Years                      1019 non-null   float64\n",
            " 5   Group_Location                          1020 non-null   float64\n",
            " 6   Sector                                  1020 non-null   object \n",
            " 7   Category                                1021 non-null   object \n",
            " 8   Amount_Applied                          1021 non-null   object \n",
            " 9   P_Voucher                               1018 non-null   object \n",
            " 10  Cheque_No                               1020 non-null   float64\n",
            " 11  Repayment_Period_In_Years               990 non-null    float64\n",
            " 12  Existing_Loans                          1021 non-null   object \n",
            " 13  Table_Banking                           1021 non-null   object \n",
            " 14  Amount_Issued                           1020 non-null   float64\n",
            " 15  Amount_Due (KShs)                       990 non-null    float64\n",
            " 16  Amount_Repaid (KShs)                    1013 non-null   float64\n",
            " 17  Amount_cummulatively_in_arrears (KShs)  992 non-null    float64\n",
            " 18  Outstanding_Loan_Balance (KShs)         1013 non-null   float64\n",
            " 19  Date_of_Repayment _Completion           1004 non-null   object \n",
            " 20  Remarks                                 394 non-null    object \n",
            "dtypes: float64(9), int64(1), object(11)\n",
            "memory usage: 167.6+ KB\n"
          ]
        }
      ],
      "source": [
        "#dataset overview\n",
        "dataset.info()"
      ]
    },
    {
      "cell_type": "markdown",
      "metadata": {
        "id": "6v0ojqTG768U"
      },
      "source": [
        " From the above dataset info,\n",
        "\n",
        "We can see that Group_Age,Sector, Repayment_period, Amount_Due, Amount cummulatively_in_arrears, Date_of_Repayment_Completion and Remarks have an unequal number of counts and some of the columns are categorical and have data type objects and some are integer and float values.\n",
        "\n",
        "\n"
      ]
    },
    {
      "cell_type": "markdown",
      "metadata": {
        "id": "Ar7uIRIz9JE8"
      },
      "source": [
        "**Descriptive** **structure** **of** **the** **data** **using** **dataset**.**describe**()"
      ]
    },
    {
      "cell_type": "code",
      "execution_count": 9,
      "metadata": {
        "colab": {
          "base_uri": "https://localhost:8080/",
          "height": 337
        },
        "id": "zO6bI1vt9ISc",
        "outputId": "8a913757-055a-401f-9892-07e74df7fa8e"
      },
      "outputs": [
        {
          "output_type": "execute_result",
          "data": {
            "text/plain": [
              "              S/NO  Group_Age_In_Years  Group_Location    Cheque_No  \\\n",
              "count  1021.000000         1019.000000     1020.000000  1020.000000   \n",
              "mean    512.818805            7.152110      184.046078   154.427451   \n",
              "std     295.161723            4.420596        7.905156   105.407968   \n",
              "min       1.000000            0.000000      177.000000     0.000000   \n",
              "25%     258.000000            5.000000      178.000000    63.750000   \n",
              "50%     513.000000            8.000000      179.000000   144.000000   \n",
              "75%     768.000000            9.000000      194.000000   232.000000   \n",
              "max    1023.000000          124.000000      194.000000   503.000000   \n",
              "\n",
              "       Repayment_Period_In_Years  Amount_Issued  Amount_Due (KShs)  \\\n",
              "count                 990.000000    1020.000000         990.000000   \n",
              "mean                    2.438384  100896.078431        9920.606061   \n",
              "std                     3.829762   57122.221669       15590.879793   \n",
              "min                     0.000000       0.000000           0.000000   \n",
              "25%                     2.000000   70000.000000        5000.000000   \n",
              "50%                     2.000000  100000.000000        8333.333333   \n",
              "75%                     2.000000  100000.000000       10000.000000   \n",
              "max                   117.000000  440000.000000      455325.000000   \n",
              "\n",
              "       Amount_Repaid (KShs)  Amount_cummulatively_in_arrears (KShs)  \\\n",
              "count           1013.000000                              992.000000   \n",
              "mean           34891.608095                            31031.104503   \n",
              "std            49088.850071                            62874.033952   \n",
              "min                0.000000                          -366666.666667   \n",
              "25%                0.000000                                0.000000   \n",
              "50%            16750.000000                             8333.333333   \n",
              "75%            50000.000000                            58000.000000   \n",
              "max           400000.000000                           455325.000000   \n",
              "\n",
              "       Outstanding_Loan_Balance (KShs)  \n",
              "count                      1013.000000  \n",
              "mean                      62354.428430  \n",
              "std                       58046.852979  \n",
              "min                      -50000.000000  \n",
              "25%                       19000.000000  \n",
              "50%                       50600.000000  \n",
              "75%                       95000.000000  \n",
              "max                      440000.000000  "
            ],
            "text/html": [
              "\n",
              "  <div id=\"df-073b9303-076a-478c-8705-feefc60388a4\" class=\"colab-df-container\">\n",
              "    <div>\n",
              "<style scoped>\n",
              "    .dataframe tbody tr th:only-of-type {\n",
              "        vertical-align: middle;\n",
              "    }\n",
              "\n",
              "    .dataframe tbody tr th {\n",
              "        vertical-align: top;\n",
              "    }\n",
              "\n",
              "    .dataframe thead th {\n",
              "        text-align: right;\n",
              "    }\n",
              "</style>\n",
              "<table border=\"1\" class=\"dataframe\">\n",
              "  <thead>\n",
              "    <tr style=\"text-align: right;\">\n",
              "      <th></th>\n",
              "      <th>S/NO</th>\n",
              "      <th>Group_Age_In_Years</th>\n",
              "      <th>Group_Location</th>\n",
              "      <th>Cheque_No</th>\n",
              "      <th>Repayment_Period_In_Years</th>\n",
              "      <th>Amount_Issued</th>\n",
              "      <th>Amount_Due (KShs)</th>\n",
              "      <th>Amount_Repaid (KShs)</th>\n",
              "      <th>Amount_cummulatively_in_arrears (KShs)</th>\n",
              "      <th>Outstanding_Loan_Balance (KShs)</th>\n",
              "    </tr>\n",
              "  </thead>\n",
              "  <tbody>\n",
              "    <tr>\n",
              "      <th>count</th>\n",
              "      <td>1021.000000</td>\n",
              "      <td>1019.000000</td>\n",
              "      <td>1020.000000</td>\n",
              "      <td>1020.000000</td>\n",
              "      <td>990.000000</td>\n",
              "      <td>1020.000000</td>\n",
              "      <td>990.000000</td>\n",
              "      <td>1013.000000</td>\n",
              "      <td>992.000000</td>\n",
              "      <td>1013.000000</td>\n",
              "    </tr>\n",
              "    <tr>\n",
              "      <th>mean</th>\n",
              "      <td>512.818805</td>\n",
              "      <td>7.152110</td>\n",
              "      <td>184.046078</td>\n",
              "      <td>154.427451</td>\n",
              "      <td>2.438384</td>\n",
              "      <td>100896.078431</td>\n",
              "      <td>9920.606061</td>\n",
              "      <td>34891.608095</td>\n",
              "      <td>31031.104503</td>\n",
              "      <td>62354.428430</td>\n",
              "    </tr>\n",
              "    <tr>\n",
              "      <th>std</th>\n",
              "      <td>295.161723</td>\n",
              "      <td>4.420596</td>\n",
              "      <td>7.905156</td>\n",
              "      <td>105.407968</td>\n",
              "      <td>3.829762</td>\n",
              "      <td>57122.221669</td>\n",
              "      <td>15590.879793</td>\n",
              "      <td>49088.850071</td>\n",
              "      <td>62874.033952</td>\n",
              "      <td>58046.852979</td>\n",
              "    </tr>\n",
              "    <tr>\n",
              "      <th>min</th>\n",
              "      <td>1.000000</td>\n",
              "      <td>0.000000</td>\n",
              "      <td>177.000000</td>\n",
              "      <td>0.000000</td>\n",
              "      <td>0.000000</td>\n",
              "      <td>0.000000</td>\n",
              "      <td>0.000000</td>\n",
              "      <td>0.000000</td>\n",
              "      <td>-366666.666667</td>\n",
              "      <td>-50000.000000</td>\n",
              "    </tr>\n",
              "    <tr>\n",
              "      <th>25%</th>\n",
              "      <td>258.000000</td>\n",
              "      <td>5.000000</td>\n",
              "      <td>178.000000</td>\n",
              "      <td>63.750000</td>\n",
              "      <td>2.000000</td>\n",
              "      <td>70000.000000</td>\n",
              "      <td>5000.000000</td>\n",
              "      <td>0.000000</td>\n",
              "      <td>0.000000</td>\n",
              "      <td>19000.000000</td>\n",
              "    </tr>\n",
              "    <tr>\n",
              "      <th>50%</th>\n",
              "      <td>513.000000</td>\n",
              "      <td>8.000000</td>\n",
              "      <td>179.000000</td>\n",
              "      <td>144.000000</td>\n",
              "      <td>2.000000</td>\n",
              "      <td>100000.000000</td>\n",
              "      <td>8333.333333</td>\n",
              "      <td>16750.000000</td>\n",
              "      <td>8333.333333</td>\n",
              "      <td>50600.000000</td>\n",
              "    </tr>\n",
              "    <tr>\n",
              "      <th>75%</th>\n",
              "      <td>768.000000</td>\n",
              "      <td>9.000000</td>\n",
              "      <td>194.000000</td>\n",
              "      <td>232.000000</td>\n",
              "      <td>2.000000</td>\n",
              "      <td>100000.000000</td>\n",
              "      <td>10000.000000</td>\n",
              "      <td>50000.000000</td>\n",
              "      <td>58000.000000</td>\n",
              "      <td>95000.000000</td>\n",
              "    </tr>\n",
              "    <tr>\n",
              "      <th>max</th>\n",
              "      <td>1023.000000</td>\n",
              "      <td>124.000000</td>\n",
              "      <td>194.000000</td>\n",
              "      <td>503.000000</td>\n",
              "      <td>117.000000</td>\n",
              "      <td>440000.000000</td>\n",
              "      <td>455325.000000</td>\n",
              "      <td>400000.000000</td>\n",
              "      <td>455325.000000</td>\n",
              "      <td>440000.000000</td>\n",
              "    </tr>\n",
              "  </tbody>\n",
              "</table>\n",
              "</div>\n",
              "    <div class=\"colab-df-buttons\">\n",
              "\n",
              "  <div class=\"colab-df-container\">\n",
              "    <button class=\"colab-df-convert\" onclick=\"convertToInteractive('df-073b9303-076a-478c-8705-feefc60388a4')\"\n",
              "            title=\"Convert this dataframe to an interactive table.\"\n",
              "            style=\"display:none;\">\n",
              "\n",
              "  <svg xmlns=\"http://www.w3.org/2000/svg\" height=\"24px\" viewBox=\"0 -960 960 960\">\n",
              "    <path d=\"M120-120v-720h720v720H120Zm60-500h600v-160H180v160Zm220 220h160v-160H400v160Zm0 220h160v-160H400v160ZM180-400h160v-160H180v160Zm440 0h160v-160H620v160ZM180-180h160v-160H180v160Zm440 0h160v-160H620v160Z\"/>\n",
              "  </svg>\n",
              "    </button>\n",
              "\n",
              "  <style>\n",
              "    .colab-df-container {\n",
              "      display:flex;\n",
              "      gap: 12px;\n",
              "    }\n",
              "\n",
              "    .colab-df-convert {\n",
              "      background-color: #E8F0FE;\n",
              "      border: none;\n",
              "      border-radius: 50%;\n",
              "      cursor: pointer;\n",
              "      display: none;\n",
              "      fill: #1967D2;\n",
              "      height: 32px;\n",
              "      padding: 0 0 0 0;\n",
              "      width: 32px;\n",
              "    }\n",
              "\n",
              "    .colab-df-convert:hover {\n",
              "      background-color: #E2EBFA;\n",
              "      box-shadow: 0px 1px 2px rgba(60, 64, 67, 0.3), 0px 1px 3px 1px rgba(60, 64, 67, 0.15);\n",
              "      fill: #174EA6;\n",
              "    }\n",
              "\n",
              "    .colab-df-buttons div {\n",
              "      margin-bottom: 4px;\n",
              "    }\n",
              "\n",
              "    [theme=dark] .colab-df-convert {\n",
              "      background-color: #3B4455;\n",
              "      fill: #D2E3FC;\n",
              "    }\n",
              "\n",
              "    [theme=dark] .colab-df-convert:hover {\n",
              "      background-color: #434B5C;\n",
              "      box-shadow: 0px 1px 3px 1px rgba(0, 0, 0, 0.15);\n",
              "      filter: drop-shadow(0px 1px 2px rgba(0, 0, 0, 0.3));\n",
              "      fill: #FFFFFF;\n",
              "    }\n",
              "  </style>\n",
              "\n",
              "    <script>\n",
              "      const buttonEl =\n",
              "        document.querySelector('#df-073b9303-076a-478c-8705-feefc60388a4 button.colab-df-convert');\n",
              "      buttonEl.style.display =\n",
              "        google.colab.kernel.accessAllowed ? 'block' : 'none';\n",
              "\n",
              "      async function convertToInteractive(key) {\n",
              "        const element = document.querySelector('#df-073b9303-076a-478c-8705-feefc60388a4');\n",
              "        const dataTable =\n",
              "          await google.colab.kernel.invokeFunction('convertToInteractive',\n",
              "                                                    [key], {});\n",
              "        if (!dataTable) return;\n",
              "\n",
              "        const docLinkHtml = 'Like what you see? Visit the ' +\n",
              "          '<a target=\"_blank\" href=https://colab.research.google.com/notebooks/data_table.ipynb>data table notebook</a>'\n",
              "          + ' to learn more about interactive tables.';\n",
              "        element.innerHTML = '';\n",
              "        dataTable['output_type'] = 'display_data';\n",
              "        await google.colab.output.renderOutput(dataTable, element);\n",
              "        const docLink = document.createElement('div');\n",
              "        docLink.innerHTML = docLinkHtml;\n",
              "        element.appendChild(docLink);\n",
              "      }\n",
              "    </script>\n",
              "  </div>\n",
              "\n",
              "\n",
              "<div id=\"df-77190912-8692-4786-9d70-7db0b0fe9fba\">\n",
              "  <button class=\"colab-df-quickchart\" onclick=\"quickchart('df-77190912-8692-4786-9d70-7db0b0fe9fba')\"\n",
              "            title=\"Suggest charts\"\n",
              "            style=\"display:none;\">\n",
              "\n",
              "<svg xmlns=\"http://www.w3.org/2000/svg\" height=\"24px\"viewBox=\"0 0 24 24\"\n",
              "     width=\"24px\">\n",
              "    <g>\n",
              "        <path d=\"M19 3H5c-1.1 0-2 .9-2 2v14c0 1.1.9 2 2 2h14c1.1 0 2-.9 2-2V5c0-1.1-.9-2-2-2zM9 17H7v-7h2v7zm4 0h-2V7h2v10zm4 0h-2v-4h2v4z\"/>\n",
              "    </g>\n",
              "</svg>\n",
              "  </button>\n",
              "\n",
              "<style>\n",
              "  .colab-df-quickchart {\n",
              "      --bg-color: #E8F0FE;\n",
              "      --fill-color: #1967D2;\n",
              "      --hover-bg-color: #E2EBFA;\n",
              "      --hover-fill-color: #174EA6;\n",
              "      --disabled-fill-color: #AAA;\n",
              "      --disabled-bg-color: #DDD;\n",
              "  }\n",
              "\n",
              "  [theme=dark] .colab-df-quickchart {\n",
              "      --bg-color: #3B4455;\n",
              "      --fill-color: #D2E3FC;\n",
              "      --hover-bg-color: #434B5C;\n",
              "      --hover-fill-color: #FFFFFF;\n",
              "      --disabled-bg-color: #3B4455;\n",
              "      --disabled-fill-color: #666;\n",
              "  }\n",
              "\n",
              "  .colab-df-quickchart {\n",
              "    background-color: var(--bg-color);\n",
              "    border: none;\n",
              "    border-radius: 50%;\n",
              "    cursor: pointer;\n",
              "    display: none;\n",
              "    fill: var(--fill-color);\n",
              "    height: 32px;\n",
              "    padding: 0;\n",
              "    width: 32px;\n",
              "  }\n",
              "\n",
              "  .colab-df-quickchart:hover {\n",
              "    background-color: var(--hover-bg-color);\n",
              "    box-shadow: 0 1px 2px rgba(60, 64, 67, 0.3), 0 1px 3px 1px rgba(60, 64, 67, 0.15);\n",
              "    fill: var(--button-hover-fill-color);\n",
              "  }\n",
              "\n",
              "  .colab-df-quickchart-complete:disabled,\n",
              "  .colab-df-quickchart-complete:disabled:hover {\n",
              "    background-color: var(--disabled-bg-color);\n",
              "    fill: var(--disabled-fill-color);\n",
              "    box-shadow: none;\n",
              "  }\n",
              "\n",
              "  .colab-df-spinner {\n",
              "    border: 2px solid var(--fill-color);\n",
              "    border-color: transparent;\n",
              "    border-bottom-color: var(--fill-color);\n",
              "    animation:\n",
              "      spin 1s steps(1) infinite;\n",
              "  }\n",
              "\n",
              "  @keyframes spin {\n",
              "    0% {\n",
              "      border-color: transparent;\n",
              "      border-bottom-color: var(--fill-color);\n",
              "      border-left-color: var(--fill-color);\n",
              "    }\n",
              "    20% {\n",
              "      border-color: transparent;\n",
              "      border-left-color: var(--fill-color);\n",
              "      border-top-color: var(--fill-color);\n",
              "    }\n",
              "    30% {\n",
              "      border-color: transparent;\n",
              "      border-left-color: var(--fill-color);\n",
              "      border-top-color: var(--fill-color);\n",
              "      border-right-color: var(--fill-color);\n",
              "    }\n",
              "    40% {\n",
              "      border-color: transparent;\n",
              "      border-right-color: var(--fill-color);\n",
              "      border-top-color: var(--fill-color);\n",
              "    }\n",
              "    60% {\n",
              "      border-color: transparent;\n",
              "      border-right-color: var(--fill-color);\n",
              "    }\n",
              "    80% {\n",
              "      border-color: transparent;\n",
              "      border-right-color: var(--fill-color);\n",
              "      border-bottom-color: var(--fill-color);\n",
              "    }\n",
              "    90% {\n",
              "      border-color: transparent;\n",
              "      border-bottom-color: var(--fill-color);\n",
              "    }\n",
              "  }\n",
              "</style>\n",
              "\n",
              "  <script>\n",
              "    async function quickchart(key) {\n",
              "      const quickchartButtonEl =\n",
              "        document.querySelector('#' + key + ' button');\n",
              "      quickchartButtonEl.disabled = true;  // To prevent multiple clicks.\n",
              "      quickchartButtonEl.classList.add('colab-df-spinner');\n",
              "      try {\n",
              "        const charts = await google.colab.kernel.invokeFunction(\n",
              "            'suggestCharts', [key], {});\n",
              "      } catch (error) {\n",
              "        console.error('Error during call to suggestCharts:', error);\n",
              "      }\n",
              "      quickchartButtonEl.classList.remove('colab-df-spinner');\n",
              "      quickchartButtonEl.classList.add('colab-df-quickchart-complete');\n",
              "    }\n",
              "    (() => {\n",
              "      let quickchartButtonEl =\n",
              "        document.querySelector('#df-77190912-8692-4786-9d70-7db0b0fe9fba button');\n",
              "      quickchartButtonEl.style.display =\n",
              "        google.colab.kernel.accessAllowed ? 'block' : 'none';\n",
              "    })();\n",
              "  </script>\n",
              "</div>\n",
              "\n",
              "    </div>\n",
              "  </div>\n"
            ]
          },
          "metadata": {},
          "execution_count": 9
        }
      ],
      "source": [
        "dataset.describe()"
      ]
    },
    {
      "cell_type": "markdown",
      "metadata": {
        "id": "d8diigDi-TYq"
      },
      "source": [
        "# Check the categorical and numerical columns\n",
        "\n"
      ]
    },
    {
      "cell_type": "code",
      "execution_count": 10,
      "metadata": {
        "colab": {
          "base_uri": "https://localhost:8080/"
        },
        "id": "JJW8g_yU-ZVn",
        "outputId": "fbfedcad-d048-4fec-be2b-57b995120601"
      },
      "outputs": [
        {
          "output_type": "stream",
          "name": "stdout",
          "text": [
            "Categorical columns : ['Date_of_Issue', 'Group_Name', 'GFS_Code', 'Sector', 'Category', 'Amount_Applied', 'P_Voucher', 'Existing_Loans', 'Table_Banking', 'Date_of_Repayment _Completion', 'Remarks']\n",
            "Numerical columns : ['S/NO', 'Group_Age_In_Years', 'Group_Location', 'Cheque_No', 'Repayment_Period_In_Years', 'Amount_Issued', 'Amount_Due (KShs)', 'Amount_Repaid (KShs)', 'Amount_cummulatively_in_arrears (KShs)', 'Outstanding_Loan_Balance (KShs)']\n"
          ]
        }
      ],
      "source": [
        "# Categorical columns\n",
        "cat_col = [col for col in dataset.columns if dataset[col].dtype == 'object']\n",
        "print('Categorical columns :',cat_col)\n",
        "# Numerical columns\n",
        "num_col = [col for col in dataset.columns if dataset[col].dtype != 'object']\n",
        "print('Numerical columns :',num_col)"
      ]
    },
    {
      "cell_type": "markdown",
      "metadata": {
        "id": "Tnh9kk4X-umM"
      },
      "source": [
        "# Check the total number of unique values in the Categorical columns"
      ]
    },
    {
      "cell_type": "code",
      "execution_count": 11,
      "metadata": {
        "colab": {
          "base_uri": "https://localhost:8080/"
        },
        "id": "dj7vTUIG-w6m",
        "outputId": "6f128bd9-49cf-4308-bab1-48aef31bd132"
      },
      "outputs": [
        {
          "output_type": "execute_result",
          "data": {
            "text/plain": [
              "Date_of_Issue                     52\n",
              "Group_Name                       932\n",
              "GFS_Code                         746\n",
              "Sector                             6\n",
              "Category                           3\n",
              "Amount_Applied                    36\n",
              "P_Voucher                        213\n",
              "Existing_Loans                     2\n",
              "Table_Banking                      2\n",
              "Date_of_Repayment _Completion     44\n",
              "Remarks                            4\n",
              "dtype: int64"
            ]
          },
          "metadata": {},
          "execution_count": 11
        }
      ],
      "source": [
        "dataset[cat_col].nunique()"
      ]
    },
    {
      "cell_type": "markdown",
      "metadata": {
        "id": "DpVXPTMt_Ivc"
      },
      "source": [
        " **Removal of unwanted observations**\n",
        "\n",
        "\n",
        "\n",
        "\n",
        "This includes deleting duplicate/ redundant or irrelevant values from the dataset. Duplicate observations arose during data collection and Irrelevant observations are those that don’t actually fit our specific problem.\n",
        "\n",
        "\n",
        "*   Redundant observations alter the efficiency to a great extent as the data repeats and may add towards the correct side or towards the incorrect side, thereby producing unfaithful results.\n",
        "*   Irrelevant observations are any type of data that is of no use to us and can be removed directly.\n",
        "\n",
        "Now we have to make a decision according to the subject of analysis, which factor is important for our discussion. As we know our machines don’t understand the text data. So, we have to either drop or convert the categorical column values into numerical types.\n",
        "\n",
        "Drop 'S/NO','Group_Name', 'GFS_Code', 'P_Voucher' 'Cheque_No', 'Date_of_Issue (account opening )','Date_of_Repayment _Completion' and 'Remarks'.\n",
        "\n",
        "\n",
        "\n"
      ]
    },
    {
      "cell_type": "code",
      "execution_count": 14,
      "metadata": {
        "colab": {
          "base_uri": "https://localhost:8080/"
        },
        "id": "dxzs4mANG7-F",
        "outputId": "eec2cee9-3360-40d7-c2b3-0e863458b6c1"
      },
      "outputs": [
        {
          "output_type": "execute_result",
          "data": {
            "text/plain": [
              "(1021, 12)"
            ]
          },
          "metadata": {},
          "execution_count": 14
        }
      ],
      "source": [
        "dataset1 = dataset.drop(columns=[ 'S/NO','Group_Name', 'GFS_Code', 'P_Voucher', 'Cheque_No','Remarks','Date_of_Issue','Date_of_Repayment _Completion','Amount_Applied'])\n",
        "dataset1.shape"
      ]
    },
    {
      "cell_type": "code",
      "source": [
        "dataset1.rename(columns={'Amount_Repaid (KShs)': 'Amount_Repaid'}, inplace=True)\n",
        "dataset1.rename(columns={'Outstanding_Loan_Balance (KShs)': 'Outstanding_Loan_Balance'}, inplace=True)\n",
        "dataset1.rename(columns={'Amount_cummulatively_in_arrears (KShs)': 'Amount_cummulatively_in_arrears'}, inplace=True)\n",
        "dataset1.rename(columns={'Amount_Due (KShs)': 'Amount_Due'}, inplace=True)\n",
        "\n",
        "print (dataset1)"
      ],
      "metadata": {
        "colab": {
          "base_uri": "https://localhost:8080/"
        },
        "id": "PcERDCOrQNtS",
        "outputId": "47d5ca0c-4ae5-45e0-bf4f-00813c3299dc"
      },
      "execution_count": 15,
      "outputs": [
        {
          "output_type": "stream",
          "name": "stdout",
          "text": [
            "      Group_Age_In_Years  Group_Location       Sector Category  \\\n",
            "0                    9.0           179.0  Agriculture    Youth   \n",
            "1                    9.0           179.0  Agriculture    Youth   \n",
            "2                    9.0           179.0  Agriculture    Youth   \n",
            "3                    9.0           179.0  Agriculture    Women   \n",
            "4                    9.0           179.0  Agriculture    Youth   \n",
            "...                  ...             ...          ...      ...   \n",
            "1016                 0.0           178.0        Trade    Women   \n",
            "1017                 0.0           178.0        Trade    Youth   \n",
            "1018                 0.0           178.0        Trade    Women   \n",
            "1019                 0.0           178.0  Agriculture    Women   \n",
            "1020                 0.0           178.0        Trade    Women   \n",
            "\n",
            "      Repayment_Period_In_Years Existing_Loans Table_Banking  Amount_Issued  \\\n",
            "0                           2.0            Yes            No        50000.0   \n",
            "1                           2.0            Yes           Yes       150000.0   \n",
            "2                           2.0            Yes           Yes        50000.0   \n",
            "3                           2.0            Yes            No       100000.0   \n",
            "4                           2.0            Yes           Yes       150000.0   \n",
            "...                         ...            ...           ...            ...   \n",
            "1016                        1.0            Yes            No       100000.0   \n",
            "1017                        1.0            Yes            No       250000.0   \n",
            "1018                        1.0            Yes            No       200000.0   \n",
            "1019                        1.0            Yes            No       150000.0   \n",
            "1020                        1.0            Yes            No       250000.0   \n",
            "\n",
            "        Amount_Due  Amount_Repaid  Amount_cummulatively_in_arrears  \\\n",
            "0      4166.666667            0.0                      4166.666667   \n",
            "1     12500.000000        12500.0                         0.000000   \n",
            "2      4166.666667        27045.0                    -22878.333333   \n",
            "3      8333.333333            0.0                      8333.333333   \n",
            "4     12500.000000         6250.0                      6250.000000   \n",
            "...            ...            ...                              ...   \n",
            "1016   4166.666667            0.0                         0.000000   \n",
            "1017  10416.666667            0.0                         0.000000   \n",
            "1018   8333.333333            0.0                         0.000000   \n",
            "1019   6250.000000            0.0                         0.000000   \n",
            "1020  10416.666667            0.0                         0.000000   \n",
            "\n",
            "      Outstanding_Loan_Balance  \n",
            "0                      50000.0  \n",
            "1                     137500.0  \n",
            "2                      22955.0  \n",
            "3                     100000.0  \n",
            "4                     143750.0  \n",
            "...                        ...  \n",
            "1016                  100000.0  \n",
            "1017                  250000.0  \n",
            "1018                  200000.0  \n",
            "1019                  150000.0  \n",
            "1020                  250000.0  \n",
            "\n",
            "[1021 rows x 12 columns]\n"
          ]
        }
      ]
    },
    {
      "cell_type": "code",
      "source": [
        "dataset1.info()"
      ],
      "metadata": {
        "colab": {
          "base_uri": "https://localhost:8080/"
        },
        "id": "AkHHYkiIQdUP",
        "outputId": "515228f9-e573-4071-d46a-cc800a265285"
      },
      "execution_count": 16,
      "outputs": [
        {
          "output_type": "stream",
          "name": "stdout",
          "text": [
            "<class 'pandas.core.frame.DataFrame'>\n",
            "RangeIndex: 1021 entries, 0 to 1020\n",
            "Data columns (total 12 columns):\n",
            " #   Column                           Non-Null Count  Dtype  \n",
            "---  ------                           --------------  -----  \n",
            " 0   Group_Age_In_Years               1019 non-null   float64\n",
            " 1   Group_Location                   1020 non-null   float64\n",
            " 2   Sector                           1020 non-null   object \n",
            " 3   Category                         1021 non-null   object \n",
            " 4   Repayment_Period_In_Years        990 non-null    float64\n",
            " 5   Existing_Loans                   1021 non-null   object \n",
            " 6   Table_Banking                    1021 non-null   object \n",
            " 7   Amount_Issued                    1020 non-null   float64\n",
            " 8   Amount_Due                       990 non-null    float64\n",
            " 9   Amount_Repaid                    1013 non-null   float64\n",
            " 10  Amount_cummulatively_in_arrears  992 non-null    float64\n",
            " 11  Outstanding_Loan_Balance         1013 non-null   float64\n",
            "dtypes: float64(8), object(4)\n",
            "memory usage: 95.8+ KB\n"
          ]
        }
      ]
    },
    {
      "cell_type": "code",
      "source": [
        "\n",
        "# Selecting duplicate rows except first\n",
        "# occurrence based on all columns\n",
        "duplicate = dataset1[dataset1.duplicated()]\n",
        "\n",
        "print(\"Duplicate Rows :\")\n",
        "\n",
        "# Print the resultant Dataframe\n",
        "duplicate"
      ],
      "metadata": {
        "id": "UdbZi7JMOy-i",
        "colab": {
          "base_uri": "https://localhost:8080/",
          "height": 462
        },
        "outputId": "737a5c64-504d-4c14-838e-0e10896293c1"
      },
      "execution_count": 17,
      "outputs": [
        {
          "output_type": "stream",
          "name": "stdout",
          "text": [
            "Duplicate Rows :\n"
          ]
        },
        {
          "output_type": "execute_result",
          "data": {
            "text/plain": [
              "      Group_Age_In_Years  Group_Location       Sector Category  \\\n",
              "6                    9.0           179.0  Agriculture    Women   \n",
              "15                   9.0           179.0  Agriculture    Women   \n",
              "18                   9.0           179.0  Agriculture    Women   \n",
              "19                   9.0           179.0  Agriculture    Women   \n",
              "24                   9.0           179.0  Agriculture    Women   \n",
              "...                  ...             ...          ...      ...   \n",
              "987                  1.0           194.0  Agriculture    Youth   \n",
              "994                  1.0           194.0  Agriculture    Women   \n",
              "998                  1.0           177.0        Trade    Women   \n",
              "1005                 1.0           179.0        Other    Youth   \n",
              "1006                 1.0           179.0        Other    Youth   \n",
              "\n",
              "      Repayment_Period_In_Years Existing_Loans Table_Banking  Amount_Issued  \\\n",
              "6                           2.0            Yes            No       100000.0   \n",
              "15                          2.0             No           Yes        50000.0   \n",
              "18                          2.0            Yes            No       100000.0   \n",
              "19                          2.0            Yes            No        50000.0   \n",
              "24                          2.0            Yes            No       150000.0   \n",
              "...                         ...            ...           ...            ...   \n",
              "987                         2.0            Yes            No       100000.0   \n",
              "994                         2.0            Yes            No       100000.0   \n",
              "998                         NaN             No            No       400000.0   \n",
              "1005                        0.0            Yes            No       100000.0   \n",
              "1006                        0.0            Yes            No       100000.0   \n",
              "\n",
              "        Amount_Due  Amount_Repaid  Amount_cummulatively_in_arrears  \\\n",
              "6      8333.333333            0.0                      8333.333333   \n",
              "15     4166.666667       100000.0                    -95833.333333   \n",
              "18     8333.333333            0.0                      8333.333333   \n",
              "19     4166.666667            0.0                      4166.666667   \n",
              "24    12500.000000            0.0                     12500.000000   \n",
              "...            ...            ...                              ...   \n",
              "987    8333.333333            0.0                    100000.000000   \n",
              "994    8333.333333            0.0                    100000.000000   \n",
              "998            NaN            NaN                              NaN   \n",
              "1005      0.000000            0.0                     20833.333333   \n",
              "1006      0.000000            0.0                     20833.333333   \n",
              "\n",
              "      Outstanding_Loan_Balance  \n",
              "6                     100000.0  \n",
              "15                    -50000.0  \n",
              "18                    100000.0  \n",
              "19                     50000.0  \n",
              "24                    150000.0  \n",
              "...                        ...  \n",
              "987                   100000.0  \n",
              "994                   100000.0  \n",
              "998                        NaN  \n",
              "1005                  100000.0  \n",
              "1006                  100000.0  \n",
              "\n",
              "[217 rows x 12 columns]"
            ],
            "text/html": [
              "\n",
              "  <div id=\"df-7a8509e0-b270-4b4b-8433-81bacc1a3696\" class=\"colab-df-container\">\n",
              "    <div>\n",
              "<style scoped>\n",
              "    .dataframe tbody tr th:only-of-type {\n",
              "        vertical-align: middle;\n",
              "    }\n",
              "\n",
              "    .dataframe tbody tr th {\n",
              "        vertical-align: top;\n",
              "    }\n",
              "\n",
              "    .dataframe thead th {\n",
              "        text-align: right;\n",
              "    }\n",
              "</style>\n",
              "<table border=\"1\" class=\"dataframe\">\n",
              "  <thead>\n",
              "    <tr style=\"text-align: right;\">\n",
              "      <th></th>\n",
              "      <th>Group_Age_In_Years</th>\n",
              "      <th>Group_Location</th>\n",
              "      <th>Sector</th>\n",
              "      <th>Category</th>\n",
              "      <th>Repayment_Period_In_Years</th>\n",
              "      <th>Existing_Loans</th>\n",
              "      <th>Table_Banking</th>\n",
              "      <th>Amount_Issued</th>\n",
              "      <th>Amount_Due</th>\n",
              "      <th>Amount_Repaid</th>\n",
              "      <th>Amount_cummulatively_in_arrears</th>\n",
              "      <th>Outstanding_Loan_Balance</th>\n",
              "    </tr>\n",
              "  </thead>\n",
              "  <tbody>\n",
              "    <tr>\n",
              "      <th>6</th>\n",
              "      <td>9.0</td>\n",
              "      <td>179.0</td>\n",
              "      <td>Agriculture</td>\n",
              "      <td>Women</td>\n",
              "      <td>2.0</td>\n",
              "      <td>Yes</td>\n",
              "      <td>No</td>\n",
              "      <td>100000.0</td>\n",
              "      <td>8333.333333</td>\n",
              "      <td>0.0</td>\n",
              "      <td>8333.333333</td>\n",
              "      <td>100000.0</td>\n",
              "    </tr>\n",
              "    <tr>\n",
              "      <th>15</th>\n",
              "      <td>9.0</td>\n",
              "      <td>179.0</td>\n",
              "      <td>Agriculture</td>\n",
              "      <td>Women</td>\n",
              "      <td>2.0</td>\n",
              "      <td>No</td>\n",
              "      <td>Yes</td>\n",
              "      <td>50000.0</td>\n",
              "      <td>4166.666667</td>\n",
              "      <td>100000.0</td>\n",
              "      <td>-95833.333333</td>\n",
              "      <td>-50000.0</td>\n",
              "    </tr>\n",
              "    <tr>\n",
              "      <th>18</th>\n",
              "      <td>9.0</td>\n",
              "      <td>179.0</td>\n",
              "      <td>Agriculture</td>\n",
              "      <td>Women</td>\n",
              "      <td>2.0</td>\n",
              "      <td>Yes</td>\n",
              "      <td>No</td>\n",
              "      <td>100000.0</td>\n",
              "      <td>8333.333333</td>\n",
              "      <td>0.0</td>\n",
              "      <td>8333.333333</td>\n",
              "      <td>100000.0</td>\n",
              "    </tr>\n",
              "    <tr>\n",
              "      <th>19</th>\n",
              "      <td>9.0</td>\n",
              "      <td>179.0</td>\n",
              "      <td>Agriculture</td>\n",
              "      <td>Women</td>\n",
              "      <td>2.0</td>\n",
              "      <td>Yes</td>\n",
              "      <td>No</td>\n",
              "      <td>50000.0</td>\n",
              "      <td>4166.666667</td>\n",
              "      <td>0.0</td>\n",
              "      <td>4166.666667</td>\n",
              "      <td>50000.0</td>\n",
              "    </tr>\n",
              "    <tr>\n",
              "      <th>24</th>\n",
              "      <td>9.0</td>\n",
              "      <td>179.0</td>\n",
              "      <td>Agriculture</td>\n",
              "      <td>Women</td>\n",
              "      <td>2.0</td>\n",
              "      <td>Yes</td>\n",
              "      <td>No</td>\n",
              "      <td>150000.0</td>\n",
              "      <td>12500.000000</td>\n",
              "      <td>0.0</td>\n",
              "      <td>12500.000000</td>\n",
              "      <td>150000.0</td>\n",
              "    </tr>\n",
              "    <tr>\n",
              "      <th>...</th>\n",
              "      <td>...</td>\n",
              "      <td>...</td>\n",
              "      <td>...</td>\n",
              "      <td>...</td>\n",
              "      <td>...</td>\n",
              "      <td>...</td>\n",
              "      <td>...</td>\n",
              "      <td>...</td>\n",
              "      <td>...</td>\n",
              "      <td>...</td>\n",
              "      <td>...</td>\n",
              "      <td>...</td>\n",
              "    </tr>\n",
              "    <tr>\n",
              "      <th>987</th>\n",
              "      <td>1.0</td>\n",
              "      <td>194.0</td>\n",
              "      <td>Agriculture</td>\n",
              "      <td>Youth</td>\n",
              "      <td>2.0</td>\n",
              "      <td>Yes</td>\n",
              "      <td>No</td>\n",
              "      <td>100000.0</td>\n",
              "      <td>8333.333333</td>\n",
              "      <td>0.0</td>\n",
              "      <td>100000.000000</td>\n",
              "      <td>100000.0</td>\n",
              "    </tr>\n",
              "    <tr>\n",
              "      <th>994</th>\n",
              "      <td>1.0</td>\n",
              "      <td>194.0</td>\n",
              "      <td>Agriculture</td>\n",
              "      <td>Women</td>\n",
              "      <td>2.0</td>\n",
              "      <td>Yes</td>\n",
              "      <td>No</td>\n",
              "      <td>100000.0</td>\n",
              "      <td>8333.333333</td>\n",
              "      <td>0.0</td>\n",
              "      <td>100000.000000</td>\n",
              "      <td>100000.0</td>\n",
              "    </tr>\n",
              "    <tr>\n",
              "      <th>998</th>\n",
              "      <td>1.0</td>\n",
              "      <td>177.0</td>\n",
              "      <td>Trade</td>\n",
              "      <td>Women</td>\n",
              "      <td>NaN</td>\n",
              "      <td>No</td>\n",
              "      <td>No</td>\n",
              "      <td>400000.0</td>\n",
              "      <td>NaN</td>\n",
              "      <td>NaN</td>\n",
              "      <td>NaN</td>\n",
              "      <td>NaN</td>\n",
              "    </tr>\n",
              "    <tr>\n",
              "      <th>1005</th>\n",
              "      <td>1.0</td>\n",
              "      <td>179.0</td>\n",
              "      <td>Other</td>\n",
              "      <td>Youth</td>\n",
              "      <td>0.0</td>\n",
              "      <td>Yes</td>\n",
              "      <td>No</td>\n",
              "      <td>100000.0</td>\n",
              "      <td>0.000000</td>\n",
              "      <td>0.0</td>\n",
              "      <td>20833.333333</td>\n",
              "      <td>100000.0</td>\n",
              "    </tr>\n",
              "    <tr>\n",
              "      <th>1006</th>\n",
              "      <td>1.0</td>\n",
              "      <td>179.0</td>\n",
              "      <td>Other</td>\n",
              "      <td>Youth</td>\n",
              "      <td>0.0</td>\n",
              "      <td>Yes</td>\n",
              "      <td>No</td>\n",
              "      <td>100000.0</td>\n",
              "      <td>0.000000</td>\n",
              "      <td>0.0</td>\n",
              "      <td>20833.333333</td>\n",
              "      <td>100000.0</td>\n",
              "    </tr>\n",
              "  </tbody>\n",
              "</table>\n",
              "<p>217 rows × 12 columns</p>\n",
              "</div>\n",
              "    <div class=\"colab-df-buttons\">\n",
              "\n",
              "  <div class=\"colab-df-container\">\n",
              "    <button class=\"colab-df-convert\" onclick=\"convertToInteractive('df-7a8509e0-b270-4b4b-8433-81bacc1a3696')\"\n",
              "            title=\"Convert this dataframe to an interactive table.\"\n",
              "            style=\"display:none;\">\n",
              "\n",
              "  <svg xmlns=\"http://www.w3.org/2000/svg\" height=\"24px\" viewBox=\"0 -960 960 960\">\n",
              "    <path d=\"M120-120v-720h720v720H120Zm60-500h600v-160H180v160Zm220 220h160v-160H400v160Zm0 220h160v-160H400v160ZM180-400h160v-160H180v160Zm440 0h160v-160H620v160ZM180-180h160v-160H180v160Zm440 0h160v-160H620v160Z\"/>\n",
              "  </svg>\n",
              "    </button>\n",
              "\n",
              "  <style>\n",
              "    .colab-df-container {\n",
              "      display:flex;\n",
              "      gap: 12px;\n",
              "    }\n",
              "\n",
              "    .colab-df-convert {\n",
              "      background-color: #E8F0FE;\n",
              "      border: none;\n",
              "      border-radius: 50%;\n",
              "      cursor: pointer;\n",
              "      display: none;\n",
              "      fill: #1967D2;\n",
              "      height: 32px;\n",
              "      padding: 0 0 0 0;\n",
              "      width: 32px;\n",
              "    }\n",
              "\n",
              "    .colab-df-convert:hover {\n",
              "      background-color: #E2EBFA;\n",
              "      box-shadow: 0px 1px 2px rgba(60, 64, 67, 0.3), 0px 1px 3px 1px rgba(60, 64, 67, 0.15);\n",
              "      fill: #174EA6;\n",
              "    }\n",
              "\n",
              "    .colab-df-buttons div {\n",
              "      margin-bottom: 4px;\n",
              "    }\n",
              "\n",
              "    [theme=dark] .colab-df-convert {\n",
              "      background-color: #3B4455;\n",
              "      fill: #D2E3FC;\n",
              "    }\n",
              "\n",
              "    [theme=dark] .colab-df-convert:hover {\n",
              "      background-color: #434B5C;\n",
              "      box-shadow: 0px 1px 3px 1px rgba(0, 0, 0, 0.15);\n",
              "      filter: drop-shadow(0px 1px 2px rgba(0, 0, 0, 0.3));\n",
              "      fill: #FFFFFF;\n",
              "    }\n",
              "  </style>\n",
              "\n",
              "    <script>\n",
              "      const buttonEl =\n",
              "        document.querySelector('#df-7a8509e0-b270-4b4b-8433-81bacc1a3696 button.colab-df-convert');\n",
              "      buttonEl.style.display =\n",
              "        google.colab.kernel.accessAllowed ? 'block' : 'none';\n",
              "\n",
              "      async function convertToInteractive(key) {\n",
              "        const element = document.querySelector('#df-7a8509e0-b270-4b4b-8433-81bacc1a3696');\n",
              "        const dataTable =\n",
              "          await google.colab.kernel.invokeFunction('convertToInteractive',\n",
              "                                                    [key], {});\n",
              "        if (!dataTable) return;\n",
              "\n",
              "        const docLinkHtml = 'Like what you see? Visit the ' +\n",
              "          '<a target=\"_blank\" href=https://colab.research.google.com/notebooks/data_table.ipynb>data table notebook</a>'\n",
              "          + ' to learn more about interactive tables.';\n",
              "        element.innerHTML = '';\n",
              "        dataTable['output_type'] = 'display_data';\n",
              "        await google.colab.output.renderOutput(dataTable, element);\n",
              "        const docLink = document.createElement('div');\n",
              "        docLink.innerHTML = docLinkHtml;\n",
              "        element.appendChild(docLink);\n",
              "      }\n",
              "    </script>\n",
              "  </div>\n",
              "\n",
              "\n",
              "<div id=\"df-f6bc6448-3f56-4131-b616-c934a6a589cb\">\n",
              "  <button class=\"colab-df-quickchart\" onclick=\"quickchart('df-f6bc6448-3f56-4131-b616-c934a6a589cb')\"\n",
              "            title=\"Suggest charts\"\n",
              "            style=\"display:none;\">\n",
              "\n",
              "<svg xmlns=\"http://www.w3.org/2000/svg\" height=\"24px\"viewBox=\"0 0 24 24\"\n",
              "     width=\"24px\">\n",
              "    <g>\n",
              "        <path d=\"M19 3H5c-1.1 0-2 .9-2 2v14c0 1.1.9 2 2 2h14c1.1 0 2-.9 2-2V5c0-1.1-.9-2-2-2zM9 17H7v-7h2v7zm4 0h-2V7h2v10zm4 0h-2v-4h2v4z\"/>\n",
              "    </g>\n",
              "</svg>\n",
              "  </button>\n",
              "\n",
              "<style>\n",
              "  .colab-df-quickchart {\n",
              "      --bg-color: #E8F0FE;\n",
              "      --fill-color: #1967D2;\n",
              "      --hover-bg-color: #E2EBFA;\n",
              "      --hover-fill-color: #174EA6;\n",
              "      --disabled-fill-color: #AAA;\n",
              "      --disabled-bg-color: #DDD;\n",
              "  }\n",
              "\n",
              "  [theme=dark] .colab-df-quickchart {\n",
              "      --bg-color: #3B4455;\n",
              "      --fill-color: #D2E3FC;\n",
              "      --hover-bg-color: #434B5C;\n",
              "      --hover-fill-color: #FFFFFF;\n",
              "      --disabled-bg-color: #3B4455;\n",
              "      --disabled-fill-color: #666;\n",
              "  }\n",
              "\n",
              "  .colab-df-quickchart {\n",
              "    background-color: var(--bg-color);\n",
              "    border: none;\n",
              "    border-radius: 50%;\n",
              "    cursor: pointer;\n",
              "    display: none;\n",
              "    fill: var(--fill-color);\n",
              "    height: 32px;\n",
              "    padding: 0;\n",
              "    width: 32px;\n",
              "  }\n",
              "\n",
              "  .colab-df-quickchart:hover {\n",
              "    background-color: var(--hover-bg-color);\n",
              "    box-shadow: 0 1px 2px rgba(60, 64, 67, 0.3), 0 1px 3px 1px rgba(60, 64, 67, 0.15);\n",
              "    fill: var(--button-hover-fill-color);\n",
              "  }\n",
              "\n",
              "  .colab-df-quickchart-complete:disabled,\n",
              "  .colab-df-quickchart-complete:disabled:hover {\n",
              "    background-color: var(--disabled-bg-color);\n",
              "    fill: var(--disabled-fill-color);\n",
              "    box-shadow: none;\n",
              "  }\n",
              "\n",
              "  .colab-df-spinner {\n",
              "    border: 2px solid var(--fill-color);\n",
              "    border-color: transparent;\n",
              "    border-bottom-color: var(--fill-color);\n",
              "    animation:\n",
              "      spin 1s steps(1) infinite;\n",
              "  }\n",
              "\n",
              "  @keyframes spin {\n",
              "    0% {\n",
              "      border-color: transparent;\n",
              "      border-bottom-color: var(--fill-color);\n",
              "      border-left-color: var(--fill-color);\n",
              "    }\n",
              "    20% {\n",
              "      border-color: transparent;\n",
              "      border-left-color: var(--fill-color);\n",
              "      border-top-color: var(--fill-color);\n",
              "    }\n",
              "    30% {\n",
              "      border-color: transparent;\n",
              "      border-left-color: var(--fill-color);\n",
              "      border-top-color: var(--fill-color);\n",
              "      border-right-color: var(--fill-color);\n",
              "    }\n",
              "    40% {\n",
              "      border-color: transparent;\n",
              "      border-right-color: var(--fill-color);\n",
              "      border-top-color: var(--fill-color);\n",
              "    }\n",
              "    60% {\n",
              "      border-color: transparent;\n",
              "      border-right-color: var(--fill-color);\n",
              "    }\n",
              "    80% {\n",
              "      border-color: transparent;\n",
              "      border-right-color: var(--fill-color);\n",
              "      border-bottom-color: var(--fill-color);\n",
              "    }\n",
              "    90% {\n",
              "      border-color: transparent;\n",
              "      border-bottom-color: var(--fill-color);\n",
              "    }\n",
              "  }\n",
              "</style>\n",
              "\n",
              "  <script>\n",
              "    async function quickchart(key) {\n",
              "      const quickchartButtonEl =\n",
              "        document.querySelector('#' + key + ' button');\n",
              "      quickchartButtonEl.disabled = true;  // To prevent multiple clicks.\n",
              "      quickchartButtonEl.classList.add('colab-df-spinner');\n",
              "      try {\n",
              "        const charts = await google.colab.kernel.invokeFunction(\n",
              "            'suggestCharts', [key], {});\n",
              "      } catch (error) {\n",
              "        console.error('Error during call to suggestCharts:', error);\n",
              "      }\n",
              "      quickchartButtonEl.classList.remove('colab-df-spinner');\n",
              "      quickchartButtonEl.classList.add('colab-df-quickchart-complete');\n",
              "    }\n",
              "    (() => {\n",
              "      let quickchartButtonEl =\n",
              "        document.querySelector('#df-f6bc6448-3f56-4131-b616-c934a6a589cb button');\n",
              "      quickchartButtonEl.style.display =\n",
              "        google.colab.kernel.accessAllowed ? 'block' : 'none';\n",
              "    })();\n",
              "  </script>\n",
              "</div>\n",
              "\n",
              "  <div id=\"id_2462c3cd-15da-4a48-a35c-9d8e022f217a\">\n",
              "    <style>\n",
              "      .colab-df-generate {\n",
              "        background-color: #E8F0FE;\n",
              "        border: none;\n",
              "        border-radius: 50%;\n",
              "        cursor: pointer;\n",
              "        display: none;\n",
              "        fill: #1967D2;\n",
              "        height: 32px;\n",
              "        padding: 0 0 0 0;\n",
              "        width: 32px;\n",
              "      }\n",
              "\n",
              "      .colab-df-generate:hover {\n",
              "        background-color: #E2EBFA;\n",
              "        box-shadow: 0px 1px 2px rgba(60, 64, 67, 0.3), 0px 1px 3px 1px rgba(60, 64, 67, 0.15);\n",
              "        fill: #174EA6;\n",
              "      }\n",
              "\n",
              "      [theme=dark] .colab-df-generate {\n",
              "        background-color: #3B4455;\n",
              "        fill: #D2E3FC;\n",
              "      }\n",
              "\n",
              "      [theme=dark] .colab-df-generate:hover {\n",
              "        background-color: #434B5C;\n",
              "        box-shadow: 0px 1px 3px 1px rgba(0, 0, 0, 0.15);\n",
              "        filter: drop-shadow(0px 1px 2px rgba(0, 0, 0, 0.3));\n",
              "        fill: #FFFFFF;\n",
              "      }\n",
              "    </style>\n",
              "    <button class=\"colab-df-generate\" onclick=\"generateWithVariable('duplicate')\"\n",
              "            title=\"Generate code using this dataframe.\"\n",
              "            style=\"display:none;\">\n",
              "\n",
              "  <svg xmlns=\"http://www.w3.org/2000/svg\" height=\"24px\"viewBox=\"0 0 24 24\"\n",
              "       width=\"24px\">\n",
              "    <path d=\"M7,19H8.4L18.45,9,17,7.55,7,17.6ZM5,21V16.75L18.45,3.32a2,2,0,0,1,2.83,0l1.4,1.43a1.91,1.91,0,0,1,.58,1.4,1.91,1.91,0,0,1-.58,1.4L9.25,21ZM18.45,9,17,7.55Zm-12,3A5.31,5.31,0,0,0,4.9,8.1,5.31,5.31,0,0,0,1,6.5,5.31,5.31,0,0,0,4.9,4.9,5.31,5.31,0,0,0,6.5,1,5.31,5.31,0,0,0,8.1,4.9,5.31,5.31,0,0,0,12,6.5,5.46,5.46,0,0,0,6.5,12Z\"/>\n",
              "  </svg>\n",
              "    </button>\n",
              "    <script>\n",
              "      (() => {\n",
              "      const buttonEl =\n",
              "        document.querySelector('#id_2462c3cd-15da-4a48-a35c-9d8e022f217a button.colab-df-generate');\n",
              "      buttonEl.style.display =\n",
              "        google.colab.kernel.accessAllowed ? 'block' : 'none';\n",
              "\n",
              "      buttonEl.onclick = () => {\n",
              "        google.colab.notebook.generateWithVariable('duplicate');\n",
              "      }\n",
              "      })();\n",
              "    </script>\n",
              "  </div>\n",
              "\n",
              "    </div>\n",
              "  </div>\n"
            ]
          },
          "metadata": {},
          "execution_count": 17
        }
      ]
    },
    {
      "cell_type": "code",
      "source": [
        "# dropping duplicate values\n",
        "dataset1.drop_duplicates(keep=False, inplace=True)"
      ],
      "metadata": {
        "id": "bWidSKgYSp40"
      },
      "execution_count": 18,
      "outputs": []
    },
    {
      "cell_type": "code",
      "source": [
        "dataset1.info()"
      ],
      "metadata": {
        "colab": {
          "base_uri": "https://localhost:8080/"
        },
        "id": "t5P1bbh0S9WW",
        "outputId": "d4ebd42c-6229-4598-d191-0fdd9298cc58"
      },
      "execution_count": 19,
      "outputs": [
        {
          "output_type": "stream",
          "name": "stdout",
          "text": [
            "<class 'pandas.core.frame.DataFrame'>\n",
            "Int64Index: 709 entries, 2 to 1020\n",
            "Data columns (total 12 columns):\n",
            " #   Column                           Non-Null Count  Dtype  \n",
            "---  ------                           --------------  -----  \n",
            " 0   Group_Age_In_Years               707 non-null    float64\n",
            " 1   Group_Location                   708 non-null    float64\n",
            " 2   Sector                           708 non-null    object \n",
            " 3   Category                         709 non-null    object \n",
            " 4   Repayment_Period_In_Years        682 non-null    float64\n",
            " 5   Existing_Loans                   709 non-null    object \n",
            " 6   Table_Banking                    709 non-null    object \n",
            " 7   Amount_Issued                    708 non-null    float64\n",
            " 8   Amount_Due                       682 non-null    float64\n",
            " 9   Amount_Repaid                    703 non-null    float64\n",
            " 10  Amount_cummulatively_in_arrears  684 non-null    float64\n",
            " 11  Outstanding_Loan_Balance         703 non-null    float64\n",
            "dtypes: float64(8), object(4)\n",
            "memory usage: 72.0+ KB\n"
          ]
        }
      ]
    },
    {
      "cell_type": "markdown",
      "metadata": {
        "id": "drPklZ9JHbOy"
      },
      "source": [
        "**Handling missing data**\n",
        "\n",
        "\n",
        "Occured due to data collection issues.\n",
        "\n",
        "The % missing values columns-wise for each row\n",
        "\n",
        "\n"
      ]
    },
    {
      "cell_type": "code",
      "execution_count": 20,
      "metadata": {
        "colab": {
          "base_uri": "https://localhost:8080/"
        },
        "id": "TKT6mQD-HaPy",
        "outputId": "b683ac45-d77e-4f2d-fea7-149c50054210"
      },
      "outputs": [
        {
          "output_type": "execute_result",
          "data": {
            "text/plain": [
              "Group_Age_In_Years                 0.28\n",
              "Group_Location                     0.14\n",
              "Sector                             0.14\n",
              "Category                           0.00\n",
              "Repayment_Period_In_Years          3.81\n",
              "Existing_Loans                     0.00\n",
              "Table_Banking                      0.00\n",
              "Amount_Issued                      0.14\n",
              "Amount_Due                         3.81\n",
              "Amount_Repaid                      0.85\n",
              "Amount_cummulatively_in_arrears    3.53\n",
              "Outstanding_Loan_Balance           0.85\n",
              "dtype: float64"
            ]
          },
          "metadata": {},
          "execution_count": 20
        }
      ],
      "source": [
        "\n",
        "round((dataset1.isnull().sum()/dataset1.shape[0])*100,2)"
      ]
    },
    {
      "cell_type": "markdown",
      "metadata": {
        "id": "i_nsmAUyNAyf"
      },
      "source": [
        "Drop the null values rows of columns with  <1%  of missing values\n",
        "\n",
        "Impute the missing values for columns with >1%"
      ]
    },
    {
      "cell_type": "code",
      "execution_count": 21,
      "metadata": {
        "colab": {
          "base_uri": "https://localhost:8080/"
        },
        "id": "e9fugEZzKZ19",
        "outputId": "942c447a-d699-4806-c9b9-803c653b2d0e"
      },
      "outputs": [
        {
          "output_type": "execute_result",
          "data": {
            "text/plain": [
              "(700, 12)"
            ]
          },
          "metadata": {},
          "execution_count": 21
        }
      ],
      "source": [
        "dataset1.dropna(subset=['Group_Age_In_Years', 'Group_Location','Sector','Amount_Issued','Amount_Repaid'], axis=0, inplace=True)\n",
        "dataset1.shape"
      ]
    },
    {
      "cell_type": "code",
      "execution_count": 22,
      "metadata": {
        "colab": {
          "base_uri": "https://localhost:8080/"
        },
        "id": "gxFYrdVMNZU_",
        "outputId": "da62920b-abd3-4494-c3a5-5254a5ea3f03"
      },
      "outputs": [
        {
          "output_type": "execute_result",
          "data": {
            "text/plain": [
              "Group_Age_In_Years                 0\n",
              "Group_Location                     0\n",
              "Sector                             0\n",
              "Category                           0\n",
              "Repayment_Period_In_Years          0\n",
              "Existing_Loans                     0\n",
              "Table_Banking                      0\n",
              "Amount_Issued                      0\n",
              "Amount_Due                         0\n",
              "Amount_Repaid                      0\n",
              "Amount_cummulatively_in_arrears    0\n",
              "Outstanding_Loan_Balance           0\n",
              "dtype: int64"
            ]
          },
          "metadata": {},
          "execution_count": 22
        }
      ],
      "source": [
        "# Median imputation\n",
        "dataset2 = dataset1.fillna(dataset1.Group_Age_In_Years.median())\n",
        "# Let's check the null values again\n",
        "dataset2.isnull().sum()"
      ]
    },
    {
      "cell_type": "code",
      "execution_count": 23,
      "metadata": {
        "colab": {
          "base_uri": "https://localhost:8080/"
        },
        "id": "t9W3flgJWDnv",
        "outputId": "0b94e1bd-8ae3-42e7-cb50-4ed3e6d5ecbc"
      },
      "outputs": [
        {
          "output_type": "stream",
          "name": "stdout",
          "text": [
            "<class 'pandas.core.frame.DataFrame'>\n",
            "Int64Index: 700 entries, 2 to 1020\n",
            "Data columns (total 12 columns):\n",
            " #   Column                           Non-Null Count  Dtype  \n",
            "---  ------                           --------------  -----  \n",
            " 0   Group_Age_In_Years               700 non-null    float64\n",
            " 1   Group_Location                   700 non-null    float64\n",
            " 2   Sector                           700 non-null    object \n",
            " 3   Category                         700 non-null    object \n",
            " 4   Repayment_Period_In_Years        700 non-null    float64\n",
            " 5   Existing_Loans                   700 non-null    object \n",
            " 6   Table_Banking                    700 non-null    object \n",
            " 7   Amount_Issued                    700 non-null    float64\n",
            " 8   Amount_Due                       700 non-null    float64\n",
            " 9   Amount_Repaid                    700 non-null    float64\n",
            " 10  Amount_cummulatively_in_arrears  700 non-null    float64\n",
            " 11  Outstanding_Loan_Balance         700 non-null    float64\n",
            "dtypes: float64(8), object(4)\n",
            "memory usage: 71.1+ KB\n"
          ]
        }
      ],
      "source": [
        "#dataset overview\n",
        "dataset2.info()"
      ]
    },
    {
      "cell_type": "markdown",
      "metadata": {
        "id": "p6RcX6CgS9iG"
      },
      "source": [
        "**Handling outliers:**\n",
        "\n",
        "Extreme values that deviate significantly from the majority of the data.\n",
        "\n",
        "Box plotcheck the outliers. It shows a variable’s median, quartiles, and potential outliers. The line inside the box denotes the median, while the box itself denotes the interquartile range (IQR).\n",
        "\n",
        " Techniques such as clustering, interpolation, or transformation can be used to handle outliers.\n",
        "\n",
        " Box plot for  Amount_Issued column data.\n",
        "\n",
        "\n"
      ]
    },
    {
      "cell_type": "code",
      "execution_count": null,
      "metadata": {
        "colab": {
          "base_uri": "https://localhost:8080/",
          "height": 450
        },
        "id": "2wF6wtlcUecd",
        "outputId": "59a261a6-59b6-4769-9ab7-0e96ca212367"
      },
      "outputs": [
        {
          "output_type": "display_data",
          "data": {
            "text/plain": [
              "<Figure size 640x480 with 1 Axes>"
            ],
            "image/png": "[encoded data removed]"
          },
          "metadata": {}
        }
      ],
      "source": [
        "plt.boxplot(dataset2['Amount_Issued'], vert=False)\n",
        "plt.ylabel('Variable')\n",
        "plt.xlabel('Amount_Issued  Plot')\n",
        "plt.show()"
      ]
    },
    {
      "cell_type": "code",
      "execution_count": 24,
      "metadata": {
        "colab": {
          "base_uri": "https://localhost:8080/"
        },
        "id": "Hmr9Af3yYS3l",
        "outputId": "9af514c3-5928-4fe1-fbfa-e75568f9f083"
      },
      "outputs": [
        {
          "output_type": "stream",
          "name": "stdout",
          "text": [
            "Lower Bound : -17904.905153581814\n",
            "Upper Bound : 223898.6194392961\n"
          ]
        }
      ],
      "source": [
        "# calculate summary statistics\n",
        "mean = dataset2['Amount_Issued'].mean()\n",
        "std  = dataset2['Amount_Issued'].std()\n",
        "\n",
        "# Calculate the lower and upper bounds\n",
        "lower_bound = mean - std*2\n",
        "upper_bound = mean + std*2\n",
        "\n",
        "print('Lower Bound :',lower_bound)\n",
        "print('Upper Bound :',upper_bound)\n"
      ]
    },
    {
      "cell_type": "code",
      "execution_count": 25,
      "metadata": {
        "colab": {
          "base_uri": "https://localhost:8080/"
        },
        "id": "ge5iLDx7droQ",
        "outputId": "c9f0586a-1a03-4449-f140-ab44186e7288"
      },
      "outputs": [
        {
          "output_type": "execute_result",
          "data": {
            "text/plain": [
              "array(['Agriculture', 'Other', 'Trade', 'Service', 'Manufacturing', ' '],\n",
              "      dtype=object)"
            ]
          },
          "metadata": {},
          "execution_count": 25
        }
      ],
      "source": [
        "dataset2['Sector'].unique()"
      ]
    },
    {
      "cell_type": "code",
      "execution_count": 26,
      "metadata": {
        "colab": {
          "base_uri": "https://localhost:8080/",
          "height": 436
        },
        "id": "QyBuwzYddZBs",
        "outputId": "d212c76f-958a-46fa-a733-b82af4528602"
      },
      "outputs": [
        {
          "output_type": "execute_result",
          "data": {
            "text/plain": [
              "<Axes: >"
            ]
          },
          "metadata": {},
          "execution_count": 26
        },
        {
          "output_type": "display_data",
          "data": {
            "text/plain": [
              "<Figure size 1000x500 with 1 Axes>"
            ],
            "image/png": "[encoded data removed]"
          },
          "metadata": {}
        }
      ],
      "source": [
        "plt.figure(figsize=(10,5))\n",
        "dataset2['Sector'].value_counts().plot(kind='bar')"
      ]
    },
    {
      "cell_type": "code",
      "source": [
        "plt.figure(figsize=(10,5))\n",
        "dataset2['Category'].value_counts().plot(kind='bar')"
      ],
      "metadata": {
        "colab": {
          "base_uri": "https://localhost:8080/",
          "height": 398
        },
        "id": "zVYsCUmS4LUR",
        "outputId": "5633ae72-399a-450e-b5e0-ac18b04939fb"
      },
      "execution_count": 27,
      "outputs": [
        {
          "output_type": "execute_result",
          "data": {
            "text/plain": [
              "<Axes: >"
            ]
          },
          "metadata": {},
          "execution_count": 27
        },
        {
          "output_type": "display_data",
          "data": {
            "text/plain": [
              "<Figure size 1000x500 with 1 Axes>"
            ],
            "image/png": "[encoded data removed]"
          },
          "metadata": {}
        }
      ]
    },
    {
      "cell_type": "code",
      "execution_count": 28,
      "metadata": {
        "id": "ad51c4fd",
        "outputId": "52ccfd84-e295-4391-841c-da8b954e489b",
        "colab": {
          "base_uri": "https://localhost:8080/",
          "height": 722
        }
      },
      "outputs": [
        {
          "output_type": "stream",
          "name": "stderr",
          "text": [
            "<ipython-input-28-cad2aa51606f>:19: FutureWarning: The series.append method is deprecated and will be removed from pandas in a future version. Use pandas.concat instead.\n",
            "  cat_counts = cat_counts_top.append(cat_counts_other)\n"
          ]
        },
        {
          "output_type": "display_data",
          "data": {
            "text/plain": [
              "<Figure size 1500x1500 with 5 Axes>"
            ],
            "image/png": "[encoded data removed]"
          },
          "metadata": {}
        }
      ],
      "source": [
        "# Specify the maximum number of categories to show individually\n",
        "max_categories = 5\n",
        "\n",
        "cat_vars = ['Sector', 'Category']\n",
        "\n",
        "# Create a figure and axes\n",
        "fig, axs = plt.subplots(nrows=2, ncols=3, figsize=(15, 15))\n",
        "\n",
        "# Create a pie chart for each categorical variable\n",
        "for i, var in enumerate(cat_vars):\n",
        "    if i < len(axs.flat):\n",
        "        # Count the number of occurrences for each category\n",
        "        cat_counts = dataset2[var].value_counts()\n",
        "\n",
        "        # Group categories beyond the top max_categories as 'Other'\n",
        "        if len(cat_counts) > max_categories:\n",
        "            cat_counts_top = cat_counts[:max_categories]\n",
        "            cat_counts_other = pd.Series(cat_counts[max_categories:].sum(), index=['Other'])\n",
        "            cat_counts = cat_counts_top.append(cat_counts_other)\n",
        "\n",
        "        # Create a pie chart\n",
        "        axs.flat[i].pie(cat_counts, labels=cat_counts.index, autopct='%1.1f%%', startangle=90)\n",
        "\n",
        "        # Set a title for each subplot\n",
        "        axs.flat[i].set_title(f'{var} Distribution')\n",
        "\n",
        "# Adjust spacing between subplots\n",
        "fig.tight_layout()\n",
        "\n",
        "# remove sixth plot\n",
        "fig.delaxes(axs[1][2])\n",
        "\n",
        "# Show the plot\n",
        "plt.show()"
      ]
    },
    {
      "cell_type": "markdown",
      "source": [
        "**Calculating** **Credit** **Scores**\n",
        "\n",
        "The dataset doesn’t have any feature representing the credit scores of individuals. To calculate the credit scores, we are going to use  FICO score, a commonly used credit scoring model in the industry.\n",
        "\n",
        "Below is how we can implement the FICO score method to calculate credit scores:"
      ],
      "metadata": {
        "id": "DFeTNfp9EcOc"
      }
    },
    {
      "cell_type": "code",
      "source": [
        "s = (dataset2.dtypes == 'object')\n",
        "object_cols = list(s[s].index)\n",
        "print(\"Categorical variables:\")\n",
        "print(object_cols)"
      ],
      "metadata": {
        "colab": {
          "base_uri": "https://localhost:8080/"
        },
        "id": "T8d48NCWgch6",
        "outputId": "a28d7564-89a1-4b2f-f6c8-dfdf47828142"
      },
      "execution_count": 29,
      "outputs": [
        {
          "output_type": "stream",
          "name": "stdout",
          "text": [
            "Categorical variables:\n",
            "['Sector', 'Category', 'Existing_Loans', 'Table_Banking']\n"
          ]
        }
      ]
    },
    {
      "cell_type": "code",
      "source": [
        "# Define the mapping for categorical features\n",
        "sector_mapping = {' ': 0, 'Other': 1,'Manufacturing' : 2, 'Service': 3,  'Trade': 4,'Agriculture': 5}\n",
        "category_mapping = {'PWDs': 1, 'Youth': 2, 'Women': 3}\n",
        "existing_Loans_mapping = {'No': 0, 'Yes': 1}\n",
        "table_Banking_mapping = {'No': 0, 'Yes': 1}\n",
        "# Apply mapping to categorical features\n",
        "dataset2['Sector'] = dataset2['Sector'].map(sector_mapping )\n",
        "dataset2['Category'] = dataset2['Category'].map(category_mapping)\n",
        "dataset2['Existing_Loans'] = dataset2['Existing_Loans'].map(existing_Loans_mapping)\n",
        "dataset2['Table_Banking'] = dataset2['Table_Banking'].map(table_Banking_mapping)\n",
        "\n",
        "print (dataset2)"
      ],
      "metadata": {
        "colab": {
          "base_uri": "https://localhost:8080/"
        },
        "id": "2bM4FOTUHvFb",
        "outputId": "6080705c-ea38-4df5-fcf5-c72b52bab3e0"
      },
      "execution_count": 30,
      "outputs": [
        {
          "output_type": "stream",
          "name": "stdout",
          "text": [
            "      Group_Age_In_Years  Group_Location  Sector  Category  \\\n",
            "2                    9.0           179.0       5         2   \n",
            "5                    9.0           179.0       5         3   \n",
            "7                    9.0           179.0       5         3   \n",
            "8                    9.0           179.0       5         2   \n",
            "9                    9.0           179.0       5         3   \n",
            "...                  ...             ...     ...       ...   \n",
            "1016                 0.0           178.0       4         3   \n",
            "1017                 0.0           178.0       4         2   \n",
            "1018                 0.0           178.0       4         3   \n",
            "1019                 0.0           178.0       5         3   \n",
            "1020                 0.0           178.0       4         3   \n",
            "\n",
            "      Repayment_Period_In_Years  Existing_Loans  Table_Banking  Amount_Issued  \\\n",
            "2                           2.0               1              1        50000.0   \n",
            "5                           2.0               1              0       200000.0   \n",
            "7                           2.0               1              1       100000.0   \n",
            "8                           2.0               1              1       350000.0   \n",
            "9                           2.0               1              1       100000.0   \n",
            "...                         ...             ...            ...            ...   \n",
            "1016                        1.0               1              0       100000.0   \n",
            "1017                        1.0               1              0       250000.0   \n",
            "1018                        1.0               1              0       200000.0   \n",
            "1019                        1.0               1              0       150000.0   \n",
            "1020                        1.0               1              0       250000.0   \n",
            "\n",
            "        Amount_Due  Amount_Repaid  Amount_cummulatively_in_arrears  \\\n",
            "2      4166.666667        27045.0                    -22878.333333   \n",
            "5     16666.666667            0.0                     16666.666667   \n",
            "7      8333.333333        16680.0                     -8346.666667   \n",
            "8     29166.666667        11000.0                     18166.666667   \n",
            "9      8333.333333        25005.0                    -16671.666667   \n",
            "...            ...            ...                              ...   \n",
            "1016   4166.666667            0.0                         0.000000   \n",
            "1017  10416.666667            0.0                         0.000000   \n",
            "1018   8333.333333            0.0                         0.000000   \n",
            "1019   6250.000000            0.0                         0.000000   \n",
            "1020  10416.666667            0.0                         0.000000   \n",
            "\n",
            "      Outstanding_Loan_Balance  \n",
            "2                      22955.0  \n",
            "5                     200000.0  \n",
            "7                      83320.0  \n",
            "8                     339000.0  \n",
            "9                      74995.0  \n",
            "...                        ...  \n",
            "1016                  100000.0  \n",
            "1017                  250000.0  \n",
            "1018                  200000.0  \n",
            "1019                  150000.0  \n",
            "1020                  250000.0  \n",
            "\n",
            "[700 rows x 12 columns]\n"
          ]
        }
      ]
    },
    {
      "cell_type": "code",
      "source": [
        "# Calculate credit scores using the complete FICO formula\n",
        "credit_scores = []\n",
        "for index, row in dataset2.iterrows():\n",
        "      Amount_Repaid = row['Amount_Repaid']\n",
        "      Amount_cummulatively_in_arrears= row['Amount_cummulatively_in_arrears']\n",
        "      Repayment_Period_In_Years = row['Repayment_Period_In_Years']\n",
        "      Sector= row['Sector']\n",
        "      Category= row['Category']\n",
        "\n",
        "    # Apply the FICO formula to calculate the credit score\n",
        "      credit_score = (Amount_Repaid * 0.35) + (Amount_cummulatively_in_arrears * 0.30) + ( Repayment_Period_In_Years* 0.15) + (Sector* 0.10) + (Category * 0.10)\n",
        "      credit_scores.append(credit_score)\n",
        "\n",
        "# Add the credit scores as a new column to the dataset2\n",
        "dataset2['Credit Score'] = credit_scores\n",
        "\n",
        "print(dataset2.head())"
      ],
      "metadata": {
        "colab": {
          "base_uri": "https://localhost:8080/"
        },
        "id": "md8rpc40Qw3i",
        "outputId": "7e3b0f0f-d09a-45e0-93fb-fa7760d390f6"
      },
      "execution_count": 32,
      "outputs": [
        {
          "output_type": "stream",
          "name": "stdout",
          "text": [
            "   Group_Age_In_Years  Group_Location  Sector  Category  \\\n",
            "2                 9.0           179.0       5         2   \n",
            "5                 9.0           179.0       5         3   \n",
            "7                 9.0           179.0       5         3   \n",
            "8                 9.0           179.0       5         2   \n",
            "9                 9.0           179.0       5         3   \n",
            "\n",
            "   Repayment_Period_In_Years  Existing_Loans  Table_Banking  Amount_Issued  \\\n",
            "2                        2.0               1              1        50000.0   \n",
            "5                        2.0               1              0       200000.0   \n",
            "7                        2.0               1              1       100000.0   \n",
            "8                        2.0               1              1       350000.0   \n",
            "9                        2.0               1              1       100000.0   \n",
            "\n",
            "     Amount_Due  Amount_Repaid  Amount_cummulatively_in_arrears  \\\n",
            "2   4166.666667        27045.0                    -22878.333333   \n",
            "5  16666.666667            0.0                     16666.666667   \n",
            "7   8333.333333        16680.0                     -8346.666667   \n",
            "8  29166.666667        11000.0                     18166.666667   \n",
            "9   8333.333333        25005.0                    -16671.666667   \n",
            "\n",
            "   Outstanding_Loan_Balance  Credit Score  \n",
            "2                   22955.0       2603.25  \n",
            "5                  200000.0       5001.10  \n",
            "7                   83320.0       3335.10  \n",
            "8                  339000.0       9301.00  \n",
            "9                   74995.0       3751.35  \n"
          ]
        }
      ]
    },
    {
      "cell_type": "markdown",
      "source": [
        "**Segmentation Based on Credit Scores**"
      ],
      "metadata": {
        "id": "RumlnP5Rv1kO"
      }
    },
    {
      "cell_type": "code",
      "source": [
        "from sklearn.cluster import KMeans\n",
        "\n",
        "X = dataset2[['Credit Score']]\n",
        "kmeans = KMeans(n_clusters=4, n_init=10, random_state=42)\n",
        "kmeans.fit(X)\n",
        "dataset2['Segment'] = kmeans.labels_"
      ],
      "metadata": {
        "id": "xnEn9evQpYYt"
      },
      "execution_count": 36,
      "outputs": []
    },
    {
      "cell_type": "markdown",
      "source": [
        " **Segments**:"
      ],
      "metadata": {
        "id": "nTq1t1l-psKE"
      }
    },
    {
      "cell_type": "code",
      "source": [
        "# Convert the 'Segment' column to category data type\n",
        "dataset2['Segment'] = dataset2['Segment'].astype('category')\n",
        "\n",
        "# Visualize the segments using Plotly\n",
        "import plotly.express as px\n",
        "fig = px.scatter(dataset2, x=dataset2.index, y='Credit Score', color='Segment',\n",
        "                 color_discrete_sequence=['green', 'blue', 'yellow', 'red'])\n",
        "fig.update_layout(\n",
        "    xaxis_title='Customer Index',\n",
        "    yaxis_title='Credit Score',\n",
        "    title='Customer Segmentation based on Credit Scores'\n",
        ")\n",
        "fig.show()"
      ],
      "metadata": {
        "colab": {
          "base_uri": "https://localhost:8080/",
          "height": 542
        },
        "id": "9Fs9UXYopi-Q",
        "outputId": "529f7ccf-049c-49fc-b0fc-b73c410a49a0"
      },
      "execution_count": 37,
      "outputs": [
        {
          "output_type": "display_data",
          "data": {
            "text/html": [
              "<html>\n",
              "<head><meta charset=\"utf-8\" /></head>\n",
              "<body>\n",
              "    <div>            <script src=\"https://cdnjs.cloudflare.com/ajax/libs/mathjax/2.7.5/MathJax.js?config=TeX-AMS-MML_SVG\"></script><script type=\"text/javascript\">if (window.MathJax && window.MathJax.Hub && window.MathJax.Hub.Config) {window.MathJax.Hub.Config({SVG: {font: \"STIX-Web\"}});}</script>                <script type=\"text/javascript\">window.PlotlyConfig = {MathJaxConfig: 'local'};</script>\n",
              "        <script charset=\"utf-8\" src=\"https://cdn.plot.ly/plotly-2.24.1.min.js\"></script>                <div id=\"633fed19-1a04-4a2b-8513-87cf1f8c740e\" class=\"plotly-graph-div\" style=\"height:525px; width:100%;\"></div>            <script type=\"text/javascript\">                                    window.PLOTLYENV=window.PLOTLYENV || {};                                    if (document.getElementById(\"633fed19-1a04-4a2b-8513-87cf1f8c740e\")) {                    Plotly.newPlot(                        \"633fed19-1a04-4a2b-8513-87cf1f8c740e\",                        [{\"hovertemplate\":\"Segment=1\\u003cbr\\u003eindex=%{x}\\u003cbr\\u003eCredit Score=%{y}\\u003cextra\\u003e\\u003c\\u002fextra\\u003e\",\"legendgroup\":\"1\",\"marker\":{\"color\":\"green\",\"symbol\":\"circle\"},\"mode\":\"markers\",\"name\":\"1\",\"orientation\":\"v\",\"showlegend\":true,\"x\":[2,5,7,8,9,10,12,14,16,21,22,25,26,27,35,36,37,39,40,41,42,43,45,46,48,49,50,53,55,56,58,59,60,61,62,63,64,65,66,69,71,73,74,75,78,79,81,134,136,138,139,140,144,148,150,152,154,155,156,157,158,159,162,163,165,166,167,168,169,171,175,178,179,183,185,188,189,190,191,192,194,199,200,202,203,205,207,208,211,214,215,217,219,221,223,224,225,226,227,229,233,234,235,236,238,239,241,243,244,245,246,247,248,249,250,252,254,256,268,281,283,284,285,286,288,289,290,291,297,298,299,300,301,302,303,304,306,307,308,313,314,315,320,321,322,323,324,325,326,346,348,353,367,372,749,750,796,797,798,799,800,801,802,803,804,805,806,807,808,809,812,813,814,815,816,817,818,819,820,821,824,826,828,830,831,832,833,834,835,851,852,853,858,859,860,861,862,864,865,866,867,869,870,871,872,873,874,959,960,964,968,969,1001,1003,1007,1008,1010,1011,1012,1013,1014,1015,1016,1017,1018,1019,1020],\"xaxis\":\"x\",\"y\":[2603.250000000001,5001.1,3335.100000000001,9301.0,3751.3500000000013,6501.1,8515.599999999997,7501.0,3544.499999999998,2841.0000000000005,6251.0,13750.6,7373.5,8501.0,6001.100000000004,2338.5,3010.9999999999995,5751.0,2413.6,5251.1,3251.1000000000004,2251.1000000000004,2196.000000000001,4063.6000000000004,1466.0,7501.0,2926.0,2251.0,3478.3500000000004,2001.1,6250.999999999999,8751.0,2085.100000000001,2301.1,6251.25,2751.1000000000013,5000.9,5515.600000000002,7501.0,4794.6,1750.9999999999998,1250.6,2091.000000000001,3751.0000000000014,11250.999999999998,7373.400000000001,5000.8,5137.499999999999,2251.0,1451.0,1355.25,1501.0,2181.0000000000005,2426.0000000000005,2656.1000000000004,3500.999999999998,4875.6,2160.700000000001,3126.1000000000004,4266.1,2583.35,2630.15,2743.2500000000005,3326.100000000001,1566.1,2375.9,1501.0,2951.1000000000004,1500.9,2001.0,1965.9000000000005,0.8,1340.8500000000001,1250.8999999999999,1701.1,2351.0,3752.95,1461.0,2686.1000000000004,1576.1,1188.2500000000002,1326.0,2591.0,1951.0,3694.5,1501.1,750.85,1250.8,2651.0,3125.3,1385.8,3101.1000000000004,3120.3500000000004,2335.9,3625.9,2993.4,5751.0,2336.0000000000005,2326.1000000000004,1168.2500000000002,795.7,4.3,2336.1000000000004,2333.5,1926.1000000000004,4.3,354.29999999999995,2733.4,3305.5999999999995,3335.9999999999995,3951.0,2530.5,2335.8,3451.0999999999995,4686.000000000002,2781.0,3751.1499999999996,4.3999999999999995,2500.7000000000003,2125.6,3111.1000000000004,1876.1000000000004,0.7,1425.9,2500.9,1876.9000000000003,1621.1,4636.0,4.3,1876.0,1976.0000000000005,2983.5,2573.5,3751.6000000000004,4.3,4.3,2443.5,2738.5,1250.6999999999998,1426.0,3508.400000000001,1700.9000000000003,2901.0,5500.600000000002,2626.1000000000004,2630.5499999999993,3238.6000000000004,3106.1000000000004,5001.1,5000.700000000001,7500.9,7500.6,10000.6,11850.6,5001.0,5001.0,2163.9000000000005,1501.0,354.29999999999995,1251.0,1826.1,3005.5000000000005,1250.8,2251.0,3383.100000000001,3751.1000000000004,3750.9,1651.0000000000002,2325.9,2501.0,1459.3999999999999,4747.75,1354.8999999999999,1565.9,1359.9499999999998,1551.1,1401.1,1559.5,1900.9000000000005,1355.9,2293.5000000000005,1750.9999999999998,1558.6999999999998,1881.1000000000004,1881.0000000000005,1351.1,1955.3500000000004,2501.1000000000004,3018.1000000000004,2251.0000000000005,1501.1,2396.1000000000004,1750.8999999999996,2251.1000000000004,4501.0,2251.0,1501.0,3526.1,4001.1000000000004,6253.6,12951.0,8850.899999999998,2500.7000000000003,9000.6,3350.7000000000003,5491.100000000002,3001.0000000000005,1988.4499999999991,5300.850000000003,2750.8500000000013,1276.0,1276.1,6250.500000000001,6250.4000000000015,6250.200000000002,6250.700000000001,8750.799999999997,5000.8,7500.7,1276.0,1.0,0.75,0.8500000000000001,0.75,0.8500000000000001,0.9500000000000001,0.8500000000000001],\"yaxis\":\"y\",\"type\":\"scatter\"},{\"hovertemplate\":\"Segment=3\\u003cbr\\u003eindex=%{x}\\u003cbr\\u003eCredit Score=%{y}\\u003cextra\\u003e\\u003c\\u002fextra\\u003e\",\"legendgroup\":\"3\",\"marker\":{\"color\":\"blue\",\"symbol\":\"circle\"},\"mode\":\"markers\",\"name\":\"3\",\"orientation\":\"v\",\"showlegend\":true,\"x\":[80,82,84,85,86,90,92,93,94,95,96,97,98,99,100,101,102,103,105,106,108,109,111,112,113,114,115,117,118,119,121,123,124,126,127,128,129,130,131,132,222,240,255,266,267,319,327,328,329,331,332,333,336,337,339,340,342,345,347,352,354,355,359,360,361,363,364,366,369,373,375,376,377,378,379,380,382,383,385,386,387,388,389,390,391,392,394,396,397,398,399,402,404,405,406,407,408,410,411,412,413,415,416,417,418,419,420,421,422,423,424,425,426,427,430,431,432,433,434,435,436,437,438,439,440,441,444,446,448,449,450,451,454,455,456,457,458,460,461,462,463,464,465,466,467,469,470,471,472,474,475,476,480,481,484,485,486,487,488,489,490,491,493,496,497,498,500,501,502,503,504,505,508,515,516,521,522,524,526,527,528,529,530,531,532,537,538,539,540,541,546,548,549,550,551,553,554,556,557,558,559,560,561,562,563,565,567,568,569,570,573,575,576,577,578,579,581,582,583,584,586,587,588,589,590,591,592,593,594,595,596,598,602,603,604,605,606,607,608,609,610,611,612,615,617,619,620,621,622,625,626,627,628,629,631,633,634,635,636,637,638,639,640,641,642,643,645,646,647,652,655,656,657,658,659,660,661,662,664,665,667,668,669,671,672,673,674,677,679,680,681,682,683,684,686,687,689,691,693,694,695,696,697,699,701,702,703,705,706,708,709,710,713,714,715,716,717,718,719,721,722,723,724,725,726,727,728,729,735,737,739,741,742,743,744,748,751,753,754,756,760,761,762,763,768,779,780,789,792,793,810,822,823,827,838,846,848,863,868,876,887,888,897,900,901,904,905,906,908,909,911,912,913,914,915,916,917,918,919,922,923,924,929,961,966,970,973,979,985,1009],\"xaxis\":\"x\",\"y\":[16001.100000000002,33473.65000000001,16511.1,26224.1,30776.1,32200.8,32200.8,25301.0,26182.35,31265.899999999998,21001.0,25335.8,35000.6,26026.0,15550.899999999998,35000.90000000001,25886.1,21851.1,24851.0,21001.0,27051.0,31500.8,25982.0,24500.9,30555.5,28000.8,32801.100000000006,31876.1,32431.1,35001.00000000001,30936.1,20636.1,24701.0,27049.6,32041.1,32551.099999999995,35001.0,33521.0,28001.0,35000.700000000004,32694.3,32694.399999999998,17504.300000000003,35004.2,15754.399999999998,35004.299999999996,29750.6,27150.6,25000.699999999997,22500.699999999997,29500.9,25751.0,21000.6,26750.9,35000.700000000004,20000.699999999997,27875.699999999997,21292.449999999997,23250.699999999997,25000.6,30000.899999999998,30000.6,15000.899999999998,27250.6,29000.6,26851.2,25001.0,23750.699999999997,31150.699999999997,26500.9,39143.200000000004,21001.05,18666.45,24501.25,17381.45,15851.449999999999,15951.45,20251.55,15836.449999999999,15591.449999999999,15301.449999999999,15401.55,24206.2,17081.45,19626.45,16736.55,16891.55,15251.45,15886.35,15656.449999999999,18326.25,21001.45,22851.45,24151.350000000002,25646.35,33001.450000000004,21316.45,25753.850000000002,30701.35,24501.45,25051.45,21751.45,21751.25,22526.35,15356.449999999999,15279.35,25736.35,30251.45,20351.35,23266.55,22171.45,25872.55,35001.450000000004,26569.75,35001.25,20646.45,24101.45,24001.350000000002,20301.45,18201.350000000002,25626.649999999998,21331.45,19844.45,18471.55,16251.45,24053.95,32533.55,27939.05,32076.350000000002,17001.149999999998,16406.45,16151.35,15751.45,16651.45,19501.45,15001.449999999999,15376.55,23956.149999999998,17501.149999999998,19548.95,16522.7,20186.55,23979.45,19746.55,28001.45,16811.45,19251.45,19941.55,15001.050000000001,16561.25,28001.350000000002,24251.45,21001.55,15701.55,15476.449999999999,21838.95,16211.45,19401.55,26531.45,18551.55,24471.35,24376.350000000002,16186.45,18601.45,18251.45,15939.45,20156.350000000002,16616.350000000002,15251.55,15986.55,18001.45,26001.350000000002,30001.15,32505.899999999998,31701.1,30743.399999999998,30501.0,31195.9,35000.7,32600.8,33750.9,30945.8,35000.5,32125.899999999998,31300.9,30000.9,35000.8,33501.00000000001,31120.9,30421.0,31273.4,18666.1,24501.0,17381.1,15851.099999999999,15950.899999999998,20250.8,15835.9,15591.0,15300.9,15401.0,24205.55,17080.9,19625.8,16735.9,16891.0,15251.0,15886.0,15656.099999999999,18325.6,21000.8,22850.899999999998,24150.899999999998,25645.899999999998,33001.00000000001,21316.0,25753.3,30701.0,24501.1,25051.1,21750.8,21751.0,22526.0,15356.099999999999,15278.999999999998,25735.699999999997,30251.0,20350.8,23266.1,22171.1,25872.1,26569.4,20646.0,24101.0,24000.9,20301.0,18200.9,25626.199999999997,21331.0,19844.1,18471.1,16251.0,24053.6,32533.6,27938.5,32076.1,17000.9,16406.1,16151.099999999999,15751.099999999999,16651.0,19500.6,15000.8,15375.999999999998,23956.1,19548.6,16522.35,20185.899999999998,23979.0,19746.1,28001.1,17500.9,16811.1,19251.1,19941.1,15001.099999999999,16561.1,28001.0,24251.0,15701.099999999999,15476.099999999999,21838.5,16210.899999999998,19401.0,26531.0,18551.1,24470.8,24376.1,16185.899999999998,17501.0,18601.0,18251.1,15939.099999999999,20156.1,16616.1,15250.899999999998,15986.099999999999,30401.0,31040.899999999998,31351.1,31946.0,30450.9,34075.8,34691.0,32570.899999999998,30850.699999999997,30025.699999999997,30275.899999999998,30600.8,33675.90000000001,35000.9,26963.399999999998,22201.1,31836.1,32731.0,21001.0,31284.0,33751.100000000006,30251.1,30375.899999999998,30700.8,31703.6,31276.1,31446.0,24610.899999999998,28001.1,31326.0,30761.0,30461.1,30726.1,24461.0,30205.8,31570.9,30906.0,30001.0,24931.1,21881.1,22361.1,19250.9,22501.1,20251.0,18751.1,26750.8,32501.0,22501.0,25920.9,23500.9,24000.9,28751.1,30000.6,28750.699999999997,25000.699999999997,29001.0,27501.0,35965.6,36950.8,38125.7,35000.6,35000.8,36150.7,17504.300000000003,17504.200000000004,17504.0,17504.0,30001.1,30000.8,20351.0,30001.1,16401.09999999999,35965.90000000001,36950.9,38126.0,35001.100000000006,35000.700000000004,36151.100000000006,30000.9,30001.0,30301.1,30600.9,32490.8,30501.1,30000.899999999998,15000.9,27001.1,35001.0,25050.8,33300.9,33289.5,32501.0,30000.899999999998,30001.1,30000.899999999998,37576.100000000006,26250.55,35000.55,17851.1,30000.699999999997,30000.8,30001.0,27500.699999999997],\"yaxis\":\"y\",\"type\":\"scatter\"},{\"hovertemplate\":\"Segment=2\\u003cbr\\u003eindex=%{x}\\u003cbr\\u003eCredit Score=%{y}\\u003cextra\\u003e\\u003c\\u002fextra\\u003e\",\"legendgroup\":\"2\",\"marker\":{\"color\":\"yellow\",\"symbol\":\"circle\"},\"mode\":\"markers\",\"name\":\"2\",\"orientation\":\"v\",\"showlegend\":true,\"x\":[220,930,931,932,935,937,938,939,940,945,951,957,989,995],\"xaxis\":\"x\",\"y\":[136615.84999999998,121251.0,140001.09999999998,120000.9,112001.1,131443.5,130559.5,134488.59999999998,96548.40000000001,128300.90000000001,90000.90000000001,90001.0,120000.90000000001,120001.1],\"yaxis\":\"y\",\"type\":\"scatter\"},{\"hovertemplate\":\"Segment=0\\u003cbr\\u003eindex=%{x}\\u003cbr\\u003eCredit Score=%{y}\\u003cextra\\u003e\\u003c\\u002fextra\\u003e\",\"legendgroup\":\"0\",\"marker\":{\"color\":\"red\",\"symbol\":\"circle\"},\"mode\":\"markers\",\"name\":\"0\",\"orientation\":\"v\",\"showlegend\":true,\"x\":[335,351,356,358,362,365,370,371,374,767,770,772,773,774,776,777,778,781,784,785,786,787,788,790,847,849,850,875,877,878,880,881,882,883,884,885,886,889,890,892,894,895,896,898,899,933,934,936,941,942,943,944,946,947,948,949,950,952,955,956,962,963,965,967,988,990,991,992,993],\"xaxis\":\"x\",\"y\":[43875.700000000004,45000.8,40313.4,41500.6,45000.899999999994,60000.6,44500.6,57500.6,43000.700000000004,47710.299999999996,60000.8,52500.700000000004,70000.6,46350.600000000006,43610.8,61400.8,63000.7,45920.600000000006,61000.700000000004,70000.59999999999,69962.3,42000.700000000004,56000.8,52500.7,45000.90000000001,45001.00000000001,45001.100000000006,47710.6,70000.90000000001,60000.90000000001,52501.100000000006,70001.0,46351.0,70000.9,43611.100000000006,61401.100000000006,63001.0,45920.9,70001.0,61001.0,69962.6,42001.100000000006,56001.100000000006,52501.0,70001.0,60001.100000000006,72001.0,68926.0,42546.0,61501.0,49400.90000000001,60000.8,60513.5,62501.100000000006,60000.90000000001,60001.0,61000.9,60000.700000000004,60000.9,60001.100000000006,45500.850000000006,42000.55,52500.45,49000.85,60001.100000000006,62201.0,60000.8,67000.90000000001,62101.100000000006],\"yaxis\":\"y\",\"type\":\"scatter\"}],                        {\"template\":{\"data\":{\"histogram2dcontour\":[{\"type\":\"histogram2dcontour\",\"colorbar\":{\"outlinewidth\":0,\"ticks\":\"\"},\"colorscale\":[[0.0,\"#0d0887\"],[0.1111111111111111,\"#46039f\"],[0.2222222222222222,\"#7201a8\"],[0.3333333333333333,\"#9c179e\"],[0.4444444444444444,\"#bd3786\"],[0.5555555555555556,\"#d8576b\"],[0.6666666666666666,\"#ed7953\"],[0.7777777777777778,\"#fb9f3a\"],[0.8888888888888888,\"#fdca26\"],[1.0,\"#f0f921\"]]}],\"choropleth\":[{\"type\":\"choropleth\",\"colorbar\":{\"outlinewidth\":0,\"ticks\":\"\"}}],\"histogram2d\":[{\"type\":\"histogram2d\",\"colorbar\":{\"outlinewidth\":0,\"ticks\":\"\"},\"colorscale\":[[0.0,\"#0d0887\"],[0.1111111111111111,\"#46039f\"],[0.2222222222222222,\"#7201a8\"],[0.3333333333333333,\"#9c179e\"],[0.4444444444444444,\"#bd3786\"],[0.5555555555555556,\"#d8576b\"],[0.6666666666666666,\"#ed7953\"],[0.7777777777777778,\"#fb9f3a\"],[0.8888888888888888,\"#fdca26\"],[1.0,\"#f0f921\"]]}],\"heatmap\":[{\"type\":\"heatmap\",\"colorbar\":{\"outlinewidth\":0,\"ticks\":\"\"},\"colorscale\":[[0.0,\"#0d0887\"],[0.1111111111111111,\"#46039f\"],[0.2222222222222222,\"#7201a8\"],[0.3333333333333333,\"#9c179e\"],[0.4444444444444444,\"#bd3786\"],[0.5555555555555556,\"#d8576b\"],[0.6666666666666666,\"#ed7953\"],[0.7777777777777778,\"#fb9f3a\"],[0.8888888888888888,\"#fdca26\"],[1.0,\"#f0f921\"]]}],\"heatmapgl\":[{\"type\":\"heatmapgl\",\"colorbar\":{\"outlinewidth\":0,\"ticks\":\"\"},\"colorscale\":[[0.0,\"#0d0887\"],[0.1111111111111111,\"#46039f\"],[0.2222222222222222,\"#7201a8\"],[0.3333333333333333,\"#9c179e\"],[0.4444444444444444,\"#bd3786\"],[0.5555555555555556,\"#d8576b\"],[0.6666666666666666,\"#ed7953\"],[0.7777777777777778,\"#fb9f3a\"],[0.8888888888888888,\"#fdca26\"],[1.0,\"#f0f921\"]]}],\"contourcarpet\":[{\"type\":\"contourcarpet\",\"colorbar\":{\"outlinewidth\":0,\"ticks\":\"\"}}],\"contour\":[{\"type\":\"contour\",\"colorbar\":{\"outlinewidth\":0,\"ticks\":\"\"},\"colorscale\":[[0.0,\"#0d0887\"],[0.1111111111111111,\"#46039f\"],[0.2222222222222222,\"#7201a8\"],[0.3333333333333333,\"#9c179e\"],[0.4444444444444444,\"#bd3786\"],[0.5555555555555556,\"#d8576b\"],[0.6666666666666666,\"#ed7953\"],[0.7777777777777778,\"#fb9f3a\"],[0.8888888888888888,\"#fdca26\"],[1.0,\"#f0f921\"]]}],\"surface\":[{\"type\":\"surface\",\"colorbar\":{\"outlinewidth\":0,\"ticks\":\"\"},\"colorscale\":[[0.0,\"#0d0887\"],[0.1111111111111111,\"#46039f\"],[0.2222222222222222,\"#7201a8\"],[0.3333333333333333,\"#9c179e\"],[0.4444444444444444,\"#bd3786\"],[0.5555555555555556,\"#d8576b\"],[0.6666666666666666,\"#ed7953\"],[0.7777777777777778,\"#fb9f3a\"],[0.8888888888888888,\"#fdca26\"],[1.0,\"#f0f921\"]]}],\"mesh3d\":[{\"type\":\"mesh3d\",\"colorbar\":{\"outlinewidth\":0,\"ticks\":\"\"}}],\"scatter\":[{\"fillpattern\":{\"fillmode\":\"overlay\",\"size\":10,\"solidity\":0.2},\"type\":\"scatter\"}],\"parcoords\":[{\"type\":\"parcoords\",\"line\":{\"colorbar\":{\"outlinewidth\":0,\"ticks\":\"\"}}}],\"scatterpolargl\":[{\"type\":\"scatterpolargl\",\"marker\":{\"colorbar\":{\"outlinewidth\":0,\"ticks\":\"\"}}}],\"bar\":[{\"error_x\":{\"color\":\"#2a3f5f\"},\"error_y\":{\"color\":\"#2a3f5f\"},\"marker\":{\"line\":{\"color\":\"#E5ECF6\",\"width\":0.5},\"pattern\":{\"fillmode\":\"overlay\",\"size\":10,\"solidity\":0.2}},\"type\":\"bar\"}],\"scattergeo\":[{\"type\":\"scattergeo\",\"marker\":{\"colorbar\":{\"outlinewidth\":0,\"ticks\":\"\"}}}],\"scatterpolar\":[{\"type\":\"scatterpolar\",\"marker\":{\"colorbar\":{\"outlinewidth\":0,\"ticks\":\"\"}}}],\"histogram\":[{\"marker\":{\"pattern\":{\"fillmode\":\"overlay\",\"size\":10,\"solidity\":0.2}},\"type\":\"histogram\"}],\"scattergl\":[{\"type\":\"scattergl\",\"marker\":{\"colorbar\":{\"outlinewidth\":0,\"ticks\":\"\"}}}],\"scatter3d\":[{\"type\":\"scatter3d\",\"line\":{\"colorbar\":{\"outlinewidth\":0,\"ticks\":\"\"}},\"marker\":{\"colorbar\":{\"outlinewidth\":0,\"ticks\":\"\"}}}],\"scattermapbox\":[{\"type\":\"scattermapbox\",\"marker\":{\"colorbar\":{\"outlinewidth\":0,\"ticks\":\"\"}}}],\"scatterternary\":[{\"type\":\"scatterternary\",\"marker\":{\"colorbar\":{\"outlinewidth\":0,\"ticks\":\"\"}}}],\"scattercarpet\":[{\"type\":\"scattercarpet\",\"marker\":{\"colorbar\":{\"outlinewidth\":0,\"ticks\":\"\"}}}],\"carpet\":[{\"aaxis\":{\"endlinecolor\":\"#2a3f5f\",\"gridcolor\":\"white\",\"linecolor\":\"white\",\"minorgridcolor\":\"white\",\"startlinecolor\":\"#2a3f5f\"},\"baxis\":{\"endlinecolor\":\"#2a3f5f\",\"gridcolor\":\"white\",\"linecolor\":\"white\",\"minorgridcolor\":\"white\",\"startlinecolor\":\"#2a3f5f\"},\"type\":\"carpet\"}],\"table\":[{\"cells\":{\"fill\":{\"color\":\"#EBF0F8\"},\"line\":{\"color\":\"white\"}},\"header\":{\"fill\":{\"color\":\"#C8D4E3\"},\"line\":{\"color\":\"white\"}},\"type\":\"table\"}],\"barpolar\":[{\"marker\":{\"line\":{\"color\":\"#E5ECF6\",\"width\":0.5},\"pattern\":{\"fillmode\":\"overlay\",\"size\":10,\"solidity\":0.2}},\"type\":\"barpolar\"}],\"pie\":[{\"automargin\":true,\"type\":\"pie\"}]},\"layout\":{\"autotypenumbers\":\"strict\",\"colorway\":[\"#636efa\",\"#EF553B\",\"#00cc96\",\"#ab63fa\",\"#FFA15A\",\"#19d3f3\",\"#FF6692\",\"#B6E880\",\"#FF97FF\",\"#FECB52\"],\"font\":{\"color\":\"#2a3f5f\"},\"hovermode\":\"closest\",\"hoverlabel\":{\"align\":\"left\"},\"paper_bgcolor\":\"white\",\"plot_bgcolor\":\"#E5ECF6\",\"polar\":{\"bgcolor\":\"#E5ECF6\",\"angularaxis\":{\"gridcolor\":\"white\",\"linecolor\":\"white\",\"ticks\":\"\"},\"radialaxis\":{\"gridcolor\":\"white\",\"linecolor\":\"white\",\"ticks\":\"\"}},\"ternary\":{\"bgcolor\":\"#E5ECF6\",\"aaxis\":{\"gridcolor\":\"white\",\"linecolor\":\"white\",\"ticks\":\"\"},\"baxis\":{\"gridcolor\":\"white\",\"linecolor\":\"white\",\"ticks\":\"\"},\"caxis\":{\"gridcolor\":\"white\",\"linecolor\":\"white\",\"ticks\":\"\"}},\"coloraxis\":{\"colorbar\":{\"outlinewidth\":0,\"ticks\":\"\"}},\"colorscale\":{\"sequential\":[[0.0,\"#0d0887\"],[0.1111111111111111,\"#46039f\"],[0.2222222222222222,\"#7201a8\"],[0.3333333333333333,\"#9c179e\"],[0.4444444444444444,\"#bd3786\"],[0.5555555555555556,\"#d8576b\"],[0.6666666666666666,\"#ed7953\"],[0.7777777777777778,\"#fb9f3a\"],[0.8888888888888888,\"#fdca26\"],[1.0,\"#f0f921\"]],\"sequentialminus\":[[0.0,\"#0d0887\"],[0.1111111111111111,\"#46039f\"],[0.2222222222222222,\"#7201a8\"],[0.3333333333333333,\"#9c179e\"],[0.4444444444444444,\"#bd3786\"],[0.5555555555555556,\"#d8576b\"],[0.6666666666666666,\"#ed7953\"],[0.7777777777777778,\"#fb9f3a\"],[0.8888888888888888,\"#fdca26\"],[1.0,\"#f0f921\"]],\"diverging\":[[0,\"#8e0152\"],[0.1,\"#c51b7d\"],[0.2,\"#de77ae\"],[0.3,\"#f1b6da\"],[0.4,\"#fde0ef\"],[0.5,\"#f7f7f7\"],[0.6,\"#e6f5d0\"],[0.7,\"#b8e186\"],[0.8,\"#7fbc41\"],[0.9,\"#4d9221\"],[1,\"#276419\"]]},\"xaxis\":{\"gridcolor\":\"white\",\"linecolor\":\"white\",\"ticks\":\"\",\"title\":{\"standoff\":15},\"zerolinecolor\":\"white\",\"automargin\":true,\"zerolinewidth\":2},\"yaxis\":{\"gridcolor\":\"white\",\"linecolor\":\"white\",\"ticks\":\"\",\"title\":{\"standoff\":15},\"zerolinecolor\":\"white\",\"automargin\":true,\"zerolinewidth\":2},\"scene\":{\"xaxis\":{\"backgroundcolor\":\"#E5ECF6\",\"gridcolor\":\"white\",\"linecolor\":\"white\",\"showbackground\":true,\"ticks\":\"\",\"zerolinecolor\":\"white\",\"gridwidth\":2},\"yaxis\":{\"backgroundcolor\":\"#E5ECF6\",\"gridcolor\":\"white\",\"linecolor\":\"white\",\"showbackground\":true,\"ticks\":\"\",\"zerolinecolor\":\"white\",\"gridwidth\":2},\"zaxis\":{\"backgroundcolor\":\"#E5ECF6\",\"gridcolor\":\"white\",\"linecolor\":\"white\",\"showbackground\":true,\"ticks\":\"\",\"zerolinecolor\":\"white\",\"gridwidth\":2}},\"shapedefaults\":{\"line\":{\"color\":\"#2a3f5f\"}},\"annotationdefaults\":{\"arrowcolor\":\"#2a3f5f\",\"arrowhead\":0,\"arrowwidth\":1},\"geo\":{\"bgcolor\":\"white\",\"landcolor\":\"#E5ECF6\",\"subunitcolor\":\"white\",\"showland\":true,\"showlakes\":true,\"lakecolor\":\"white\"},\"title\":{\"x\":0.05},\"mapbox\":{\"style\":\"light\"}}},\"xaxis\":{\"anchor\":\"y\",\"domain\":[0.0,1.0],\"title\":{\"text\":\"Customer Index\"}},\"yaxis\":{\"anchor\":\"x\",\"domain\":[0.0,1.0],\"title\":{\"text\":\"Credit Score\"}},\"legend\":{\"title\":{\"text\":\"Segment\"},\"tracegroupgap\":0},\"margin\":{\"t\":60},\"title\":{\"text\":\"Customer Segmentation based on Credit Scores\"}},                        {\"responsive\": true}                    ).then(function(){\n",
              "                            \n",
              "var gd = document.getElementById('633fed19-1a04-4a2b-8513-87cf1f8c740e');\n",
              "var x = new MutationObserver(function (mutations, observer) {{\n",
              "        var display = window.getComputedStyle(gd).display;\n",
              "        if (!display || display === 'none') {{\n",
              "            console.log([gd, 'removed!']);\n",
              "            Plotly.purge(gd);\n",
              "            observer.disconnect();\n",
              "        }}\n",
              "}});\n",
              "\n",
              "// Listen for the removal of the full notebook cells\n",
              "var notebookContainer = gd.closest('#notebook-container');\n",
              "if (notebookContainer) {{\n",
              "    x.observe(notebookContainer, {childList: true});\n",
              "}}\n",
              "\n",
              "// Listen for the clearing of the current output cell\n",
              "var outputEl = gd.closest('.output');\n",
              "if (outputEl) {{\n",
              "    x.observe(outputEl, {childList: true});\n",
              "}}\n",
              "\n",
              "                        })                };                            </script>        </div>\n",
              "</body>\n",
              "</html>"
            ]
          },
          "metadata": {}
        }
      ]
    },
    {
      "cell_type": "code",
      "source": [
        "dataset2['Segment'] = dataset2['Segment'].map({2: 'Very Low',\n",
        "                                       0: 'Low',\n",
        "                                       1: 'Good',\n",
        "                                       3: \"Excellent\"})\n",
        "\n",
        "# Convert the 'Segment' column to category data type\n",
        "dataset2['Segment'] = dataset2['Segment'].astype('category')\n",
        "\n",
        "# Visualize the segments using Plotly\n",
        "fig = px.scatter(dataset2, x=dataset2.index, y='Credit Score', color='Segment',\n",
        "                 color_discrete_sequence=['green', 'blue', 'yellow', 'red'])\n",
        "fig.update_layout(\n",
        "    xaxis_title='Customer Index',\n",
        "    yaxis_title='Credit Score',\n",
        "    title='Customer Segmentation based on Credit Scores'\n",
        ")\n",
        "fig.show()"
      ],
      "metadata": {
        "colab": {
          "base_uri": "https://localhost:8080/",
          "height": 542
        },
        "id": "oteVcNBdrK89",
        "outputId": "3f18d322-de4a-4242-972d-b8a11b7ccfe1"
      },
      "execution_count": 38,
      "outputs": [
        {
          "output_type": "display_data",
          "data": {
            "text/html": [
              "<html>\n",
              "<head><meta charset=\"utf-8\" /></head>\n",
              "<body>\n",
              "    <div>            <script src=\"https://cdnjs.cloudflare.com/ajax/libs/mathjax/2.7.5/MathJax.js?config=TeX-AMS-MML_SVG\"></script><script type=\"text/javascript\">if (window.MathJax && window.MathJax.Hub && window.MathJax.Hub.Config) {window.MathJax.Hub.Config({SVG: {font: \"STIX-Web\"}});}</script>                <script type=\"text/javascript\">window.PlotlyConfig = {MathJaxConfig: 'local'};</script>\n",
              "        <script charset=\"utf-8\" src=\"https://cdn.plot.ly/plotly-2.24.1.min.js\"></script>                <div id=\"f8c71212-ad6d-4e28-924b-c14dcd44081e\" class=\"plotly-graph-div\" style=\"height:525px; width:100%;\"></div>            <script type=\"text/javascript\">                                    window.PLOTLYENV=window.PLOTLYENV || {};                                    if (document.getElementById(\"f8c71212-ad6d-4e28-924b-c14dcd44081e\")) {                    Plotly.newPlot(                        \"f8c71212-ad6d-4e28-924b-c14dcd44081e\",                        [{\"hovertemplate\":\"Segment=Good\\u003cbr\\u003eindex=%{x}\\u003cbr\\u003eCredit Score=%{y}\\u003cextra\\u003e\\u003c\\u002fextra\\u003e\",\"legendgroup\":\"Good\",\"marker\":{\"color\":\"green\",\"symbol\":\"circle\"},\"mode\":\"markers\",\"name\":\"Good\",\"orientation\":\"v\",\"showlegend\":true,\"x\":[2,5,7,8,9,10,12,14,16,21,22,25,26,27,35,36,37,39,40,41,42,43,45,46,48,49,50,53,55,56,58,59,60,61,62,63,64,65,66,69,71,73,74,75,78,79,81,134,136,138,139,140,144,148,150,152,154,155,156,157,158,159,162,163,165,166,167,168,169,171,175,178,179,183,185,188,189,190,191,192,194,199,200,202,203,205,207,208,211,214,215,217,219,221,223,224,225,226,227,229,233,234,235,236,238,239,241,243,244,245,246,247,248,249,250,252,254,256,268,281,283,284,285,286,288,289,290,291,297,298,299,300,301,302,303,304,306,307,308,313,314,315,320,321,322,323,324,325,326,346,348,353,367,372,749,750,796,797,798,799,800,801,802,803,804,805,806,807,808,809,812,813,814,815,816,817,818,819,820,821,824,826,828,830,831,832,833,834,835,851,852,853,858,859,860,861,862,864,865,866,867,869,870,871,872,873,874,959,960,964,968,969,1001,1003,1007,1008,1010,1011,1012,1013,1014,1015,1016,1017,1018,1019,1020],\"xaxis\":\"x\",\"y\":[2603.250000000001,5001.1,3335.100000000001,9301.0,3751.3500000000013,6501.1,8515.599999999997,7501.0,3544.499999999998,2841.0000000000005,6251.0,13750.6,7373.5,8501.0,6001.100000000004,2338.5,3010.9999999999995,5751.0,2413.6,5251.1,3251.1000000000004,2251.1000000000004,2196.000000000001,4063.6000000000004,1466.0,7501.0,2926.0,2251.0,3478.3500000000004,2001.1,6250.999999999999,8751.0,2085.100000000001,2301.1,6251.25,2751.1000000000013,5000.9,5515.600000000002,7501.0,4794.6,1750.9999999999998,1250.6,2091.000000000001,3751.0000000000014,11250.999999999998,7373.400000000001,5000.8,5137.499999999999,2251.0,1451.0,1355.25,1501.0,2181.0000000000005,2426.0000000000005,2656.1000000000004,3500.999999999998,4875.6,2160.700000000001,3126.1000000000004,4266.1,2583.35,2630.15,2743.2500000000005,3326.100000000001,1566.1,2375.9,1501.0,2951.1000000000004,1500.9,2001.0,1965.9000000000005,0.8,1340.8500000000001,1250.8999999999999,1701.1,2351.0,3752.95,1461.0,2686.1000000000004,1576.1,1188.2500000000002,1326.0,2591.0,1951.0,3694.5,1501.1,750.85,1250.8,2651.0,3125.3,1385.8,3101.1000000000004,3120.3500000000004,2335.9,3625.9,2993.4,5751.0,2336.0000000000005,2326.1000000000004,1168.2500000000002,795.7,4.3,2336.1000000000004,2333.5,1926.1000000000004,4.3,354.29999999999995,2733.4,3305.5999999999995,3335.9999999999995,3951.0,2530.5,2335.8,3451.0999999999995,4686.000000000002,2781.0,3751.1499999999996,4.3999999999999995,2500.7000000000003,2125.6,3111.1000000000004,1876.1000000000004,0.7,1425.9,2500.9,1876.9000000000003,1621.1,4636.0,4.3,1876.0,1976.0000000000005,2983.5,2573.5,3751.6000000000004,4.3,4.3,2443.5,2738.5,1250.6999999999998,1426.0,3508.400000000001,1700.9000000000003,2901.0,5500.600000000002,2626.1000000000004,2630.5499999999993,3238.6000000000004,3106.1000000000004,5001.1,5000.700000000001,7500.9,7500.6,10000.6,11850.6,5001.0,5001.0,2163.9000000000005,1501.0,354.29999999999995,1251.0,1826.1,3005.5000000000005,1250.8,2251.0,3383.100000000001,3751.1000000000004,3750.9,1651.0000000000002,2325.9,2501.0,1459.3999999999999,4747.75,1354.8999999999999,1565.9,1359.9499999999998,1551.1,1401.1,1559.5,1900.9000000000005,1355.9,2293.5000000000005,1750.9999999999998,1558.6999999999998,1881.1000000000004,1881.0000000000005,1351.1,1955.3500000000004,2501.1000000000004,3018.1000000000004,2251.0000000000005,1501.1,2396.1000000000004,1750.8999999999996,2251.1000000000004,4501.0,2251.0,1501.0,3526.1,4001.1000000000004,6253.6,12951.0,8850.899999999998,2500.7000000000003,9000.6,3350.7000000000003,5491.100000000002,3001.0000000000005,1988.4499999999991,5300.850000000003,2750.8500000000013,1276.0,1276.1,6250.500000000001,6250.4000000000015,6250.200000000002,6250.700000000001,8750.799999999997,5000.8,7500.7,1276.0,1.0,0.75,0.8500000000000001,0.75,0.8500000000000001,0.9500000000000001,0.8500000000000001],\"yaxis\":\"y\",\"type\":\"scatter\"},{\"hovertemplate\":\"Segment=Excellent\\u003cbr\\u003eindex=%{x}\\u003cbr\\u003eCredit Score=%{y}\\u003cextra\\u003e\\u003c\\u002fextra\\u003e\",\"legendgroup\":\"Excellent\",\"marker\":{\"color\":\"blue\",\"symbol\":\"circle\"},\"mode\":\"markers\",\"name\":\"Excellent\",\"orientation\":\"v\",\"showlegend\":true,\"x\":[80,82,84,85,86,90,92,93,94,95,96,97,98,99,100,101,102,103,105,106,108,109,111,112,113,114,115,117,118,119,121,123,124,126,127,128,129,130,131,132,222,240,255,266,267,319,327,328,329,331,332,333,336,337,339,340,342,345,347,352,354,355,359,360,361,363,364,366,369,373,375,376,377,378,379,380,382,383,385,386,387,388,389,390,391,392,394,396,397,398,399,402,404,405,406,407,408,410,411,412,413,415,416,417,418,419,420,421,422,423,424,425,426,427,430,431,432,433,434,435,436,437,438,439,440,441,444,446,448,449,450,451,454,455,456,457,458,460,461,462,463,464,465,466,467,469,470,471,472,474,475,476,480,481,484,485,486,487,488,489,490,491,493,496,497,498,500,501,502,503,504,505,508,515,516,521,522,524,526,527,528,529,530,531,532,537,538,539,540,541,546,548,549,550,551,553,554,556,557,558,559,560,561,562,563,565,567,568,569,570,573,575,576,577,578,579,581,582,583,584,586,587,588,589,590,591,592,593,594,595,596,598,602,603,604,605,606,607,608,609,610,611,612,615,617,619,620,621,622,625,626,627,628,629,631,633,634,635,636,637,638,639,640,641,642,643,645,646,647,652,655,656,657,658,659,660,661,662,664,665,667,668,669,671,672,673,674,677,679,680,681,682,683,684,686,687,689,691,693,694,695,696,697,699,701,702,703,705,706,708,709,710,713,714,715,716,717,718,719,721,722,723,724,725,726,727,728,729,735,737,739,741,742,743,744,748,751,753,754,756,760,761,762,763,768,779,780,789,792,793,810,822,823,827,838,846,848,863,868,876,887,888,897,900,901,904,905,906,908,909,911,912,913,914,915,916,917,918,919,922,923,924,929,961,966,970,973,979,985,1009],\"xaxis\":\"x\",\"y\":[16001.100000000002,33473.65000000001,16511.1,26224.1,30776.1,32200.8,32200.8,25301.0,26182.35,31265.899999999998,21001.0,25335.8,35000.6,26026.0,15550.899999999998,35000.90000000001,25886.1,21851.1,24851.0,21001.0,27051.0,31500.8,25982.0,24500.9,30555.5,28000.8,32801.100000000006,31876.1,32431.1,35001.00000000001,30936.1,20636.1,24701.0,27049.6,32041.1,32551.099999999995,35001.0,33521.0,28001.0,35000.700000000004,32694.3,32694.399999999998,17504.300000000003,35004.2,15754.399999999998,35004.299999999996,29750.6,27150.6,25000.699999999997,22500.699999999997,29500.9,25751.0,21000.6,26750.9,35000.700000000004,20000.699999999997,27875.699999999997,21292.449999999997,23250.699999999997,25000.6,30000.899999999998,30000.6,15000.899999999998,27250.6,29000.6,26851.2,25001.0,23750.699999999997,31150.699999999997,26500.9,39143.200000000004,21001.05,18666.45,24501.25,17381.45,15851.449999999999,15951.45,20251.55,15836.449999999999,15591.449999999999,15301.449999999999,15401.55,24206.2,17081.45,19626.45,16736.55,16891.55,15251.45,15886.35,15656.449999999999,18326.25,21001.45,22851.45,24151.350000000002,25646.35,33001.450000000004,21316.45,25753.850000000002,30701.35,24501.45,25051.45,21751.45,21751.25,22526.35,15356.449999999999,15279.35,25736.35,30251.45,20351.35,23266.55,22171.45,25872.55,35001.450000000004,26569.75,35001.25,20646.45,24101.45,24001.350000000002,20301.45,18201.350000000002,25626.649999999998,21331.45,19844.45,18471.55,16251.45,24053.95,32533.55,27939.05,32076.350000000002,17001.149999999998,16406.45,16151.35,15751.45,16651.45,19501.45,15001.449999999999,15376.55,23956.149999999998,17501.149999999998,19548.95,16522.7,20186.55,23979.45,19746.55,28001.45,16811.45,19251.45,19941.55,15001.050000000001,16561.25,28001.350000000002,24251.45,21001.55,15701.55,15476.449999999999,21838.95,16211.45,19401.55,26531.45,18551.55,24471.35,24376.350000000002,16186.45,18601.45,18251.45,15939.45,20156.350000000002,16616.350000000002,15251.55,15986.55,18001.45,26001.350000000002,30001.15,32505.899999999998,31701.1,30743.399999999998,30501.0,31195.9,35000.7,32600.8,33750.9,30945.8,35000.5,32125.899999999998,31300.9,30000.9,35000.8,33501.00000000001,31120.9,30421.0,31273.4,18666.1,24501.0,17381.1,15851.099999999999,15950.899999999998,20250.8,15835.9,15591.0,15300.9,15401.0,24205.55,17080.9,19625.8,16735.9,16891.0,15251.0,15886.0,15656.099999999999,18325.6,21000.8,22850.899999999998,24150.899999999998,25645.899999999998,33001.00000000001,21316.0,25753.3,30701.0,24501.1,25051.1,21750.8,21751.0,22526.0,15356.099999999999,15278.999999999998,25735.699999999997,30251.0,20350.8,23266.1,22171.1,25872.1,26569.4,20646.0,24101.0,24000.9,20301.0,18200.9,25626.199999999997,21331.0,19844.1,18471.1,16251.0,24053.6,32533.6,27938.5,32076.1,17000.9,16406.1,16151.099999999999,15751.099999999999,16651.0,19500.6,15000.8,15375.999999999998,23956.1,19548.6,16522.35,20185.899999999998,23979.0,19746.1,28001.1,17500.9,16811.1,19251.1,19941.1,15001.099999999999,16561.1,28001.0,24251.0,15701.099999999999,15476.099999999999,21838.5,16210.899999999998,19401.0,26531.0,18551.1,24470.8,24376.1,16185.899999999998,17501.0,18601.0,18251.1,15939.099999999999,20156.1,16616.1,15250.899999999998,15986.099999999999,30401.0,31040.899999999998,31351.1,31946.0,30450.9,34075.8,34691.0,32570.899999999998,30850.699999999997,30025.699999999997,30275.899999999998,30600.8,33675.90000000001,35000.9,26963.399999999998,22201.1,31836.1,32731.0,21001.0,31284.0,33751.100000000006,30251.1,30375.899999999998,30700.8,31703.6,31276.1,31446.0,24610.899999999998,28001.1,31326.0,30761.0,30461.1,30726.1,24461.0,30205.8,31570.9,30906.0,30001.0,24931.1,21881.1,22361.1,19250.9,22501.1,20251.0,18751.1,26750.8,32501.0,22501.0,25920.9,23500.9,24000.9,28751.1,30000.6,28750.699999999997,25000.699999999997,29001.0,27501.0,35965.6,36950.8,38125.7,35000.6,35000.8,36150.7,17504.300000000003,17504.200000000004,17504.0,17504.0,30001.1,30000.8,20351.0,30001.1,16401.09999999999,35965.90000000001,36950.9,38126.0,35001.100000000006,35000.700000000004,36151.100000000006,30000.9,30001.0,30301.1,30600.9,32490.8,30501.1,30000.899999999998,15000.9,27001.1,35001.0,25050.8,33300.9,33289.5,32501.0,30000.899999999998,30001.1,30000.899999999998,37576.100000000006,26250.55,35000.55,17851.1,30000.699999999997,30000.8,30001.0,27500.699999999997],\"yaxis\":\"y\",\"type\":\"scatter\"},{\"hovertemplate\":\"Segment=Very Low\\u003cbr\\u003eindex=%{x}\\u003cbr\\u003eCredit Score=%{y}\\u003cextra\\u003e\\u003c\\u002fextra\\u003e\",\"legendgroup\":\"Very Low\",\"marker\":{\"color\":\"yellow\",\"symbol\":\"circle\"},\"mode\":\"markers\",\"name\":\"Very Low\",\"orientation\":\"v\",\"showlegend\":true,\"x\":[220,930,931,932,935,937,938,939,940,945,951,957,989,995],\"xaxis\":\"x\",\"y\":[136615.84999999998,121251.0,140001.09999999998,120000.9,112001.1,131443.5,130559.5,134488.59999999998,96548.40000000001,128300.90000000001,90000.90000000001,90001.0,120000.90000000001,120001.1],\"yaxis\":\"y\",\"type\":\"scatter\"},{\"hovertemplate\":\"Segment=Low\\u003cbr\\u003eindex=%{x}\\u003cbr\\u003eCredit Score=%{y}\\u003cextra\\u003e\\u003c\\u002fextra\\u003e\",\"legendgroup\":\"Low\",\"marker\":{\"color\":\"red\",\"symbol\":\"circle\"},\"mode\":\"markers\",\"name\":\"Low\",\"orientation\":\"v\",\"showlegend\":true,\"x\":[335,351,356,358,362,365,370,371,374,767,770,772,773,774,776,777,778,781,784,785,786,787,788,790,847,849,850,875,877,878,880,881,882,883,884,885,886,889,890,892,894,895,896,898,899,933,934,936,941,942,943,944,946,947,948,949,950,952,955,956,962,963,965,967,988,990,991,992,993],\"xaxis\":\"x\",\"y\":[43875.700000000004,45000.8,40313.4,41500.6,45000.899999999994,60000.6,44500.6,57500.6,43000.700000000004,47710.299999999996,60000.8,52500.700000000004,70000.6,46350.600000000006,43610.8,61400.8,63000.7,45920.600000000006,61000.700000000004,70000.59999999999,69962.3,42000.700000000004,56000.8,52500.7,45000.90000000001,45001.00000000001,45001.100000000006,47710.6,70000.90000000001,60000.90000000001,52501.100000000006,70001.0,46351.0,70000.9,43611.100000000006,61401.100000000006,63001.0,45920.9,70001.0,61001.0,69962.6,42001.100000000006,56001.100000000006,52501.0,70001.0,60001.100000000006,72001.0,68926.0,42546.0,61501.0,49400.90000000001,60000.8,60513.5,62501.100000000006,60000.90000000001,60001.0,61000.9,60000.700000000004,60000.9,60001.100000000006,45500.850000000006,42000.55,52500.45,49000.85,60001.100000000006,62201.0,60000.8,67000.90000000001,62101.100000000006],\"yaxis\":\"y\",\"type\":\"scatter\"}],                        {\"template\":{\"data\":{\"histogram2dcontour\":[{\"type\":\"histogram2dcontour\",\"colorbar\":{\"outlinewidth\":0,\"ticks\":\"\"},\"colorscale\":[[0.0,\"#0d0887\"],[0.1111111111111111,\"#46039f\"],[0.2222222222222222,\"#7201a8\"],[0.3333333333333333,\"#9c179e\"],[0.4444444444444444,\"#bd3786\"],[0.5555555555555556,\"#d8576b\"],[0.6666666666666666,\"#ed7953\"],[0.7777777777777778,\"#fb9f3a\"],[0.8888888888888888,\"#fdca26\"],[1.0,\"#f0f921\"]]}],\"choropleth\":[{\"type\":\"choropleth\",\"colorbar\":{\"outlinewidth\":0,\"ticks\":\"\"}}],\"histogram2d\":[{\"type\":\"histogram2d\",\"colorbar\":{\"outlinewidth\":0,\"ticks\":\"\"},\"colorscale\":[[0.0,\"#0d0887\"],[0.1111111111111111,\"#46039f\"],[0.2222222222222222,\"#7201a8\"],[0.3333333333333333,\"#9c179e\"],[0.4444444444444444,\"#bd3786\"],[0.5555555555555556,\"#d8576b\"],[0.6666666666666666,\"#ed7953\"],[0.7777777777777778,\"#fb9f3a\"],[0.8888888888888888,\"#fdca26\"],[1.0,\"#f0f921\"]]}],\"heatmap\":[{\"type\":\"heatmap\",\"colorbar\":{\"outlinewidth\":0,\"ticks\":\"\"},\"colorscale\":[[0.0,\"#0d0887\"],[0.1111111111111111,\"#46039f\"],[0.2222222222222222,\"#7201a8\"],[0.3333333333333333,\"#9c179e\"],[0.4444444444444444,\"#bd3786\"],[0.5555555555555556,\"#d8576b\"],[0.6666666666666666,\"#ed7953\"],[0.7777777777777778,\"#fb9f3a\"],[0.8888888888888888,\"#fdca26\"],[1.0,\"#f0f921\"]]}],\"heatmapgl\":[{\"type\":\"heatmapgl\",\"colorbar\":{\"outlinewidth\":0,\"ticks\":\"\"},\"colorscale\":[[0.0,\"#0d0887\"],[0.1111111111111111,\"#46039f\"],[0.2222222222222222,\"#7201a8\"],[0.3333333333333333,\"#9c179e\"],[0.4444444444444444,\"#bd3786\"],[0.5555555555555556,\"#d8576b\"],[0.6666666666666666,\"#ed7953\"],[0.7777777777777778,\"#fb9f3a\"],[0.8888888888888888,\"#fdca26\"],[1.0,\"#f0f921\"]]}],\"contourcarpet\":[{\"type\":\"contourcarpet\",\"colorbar\":{\"outlinewidth\":0,\"ticks\":\"\"}}],\"contour\":[{\"type\":\"contour\",\"colorbar\":{\"outlinewidth\":0,\"ticks\":\"\"},\"colorscale\":[[0.0,\"#0d0887\"],[0.1111111111111111,\"#46039f\"],[0.2222222222222222,\"#7201a8\"],[0.3333333333333333,\"#9c179e\"],[0.4444444444444444,\"#bd3786\"],[0.5555555555555556,\"#d8576b\"],[0.6666666666666666,\"#ed7953\"],[0.7777777777777778,\"#fb9f3a\"],[0.8888888888888888,\"#fdca26\"],[1.0,\"#f0f921\"]]}],\"surface\":[{\"type\":\"surface\",\"colorbar\":{\"outlinewidth\":0,\"ticks\":\"\"},\"colorscale\":[[0.0,\"#0d0887\"],[0.1111111111111111,\"#46039f\"],[0.2222222222222222,\"#7201a8\"],[0.3333333333333333,\"#9c179e\"],[0.4444444444444444,\"#bd3786\"],[0.5555555555555556,\"#d8576b\"],[0.6666666666666666,\"#ed7953\"],[0.7777777777777778,\"#fb9f3a\"],[0.8888888888888888,\"#fdca26\"],[1.0,\"#f0f921\"]]}],\"mesh3d\":[{\"type\":\"mesh3d\",\"colorbar\":{\"outlinewidth\":0,\"ticks\":\"\"}}],\"scatter\":[{\"fillpattern\":{\"fillmode\":\"overlay\",\"size\":10,\"solidity\":0.2},\"type\":\"scatter\"}],\"parcoords\":[{\"type\":\"parcoords\",\"line\":{\"colorbar\":{\"outlinewidth\":0,\"ticks\":\"\"}}}],\"scatterpolargl\":[{\"type\":\"scatterpolargl\",\"marker\":{\"colorbar\":{\"outlinewidth\":0,\"ticks\":\"\"}}}],\"bar\":[{\"error_x\":{\"color\":\"#2a3f5f\"},\"error_y\":{\"color\":\"#2a3f5f\"},\"marker\":{\"line\":{\"color\":\"#E5ECF6\",\"width\":0.5},\"pattern\":{\"fillmode\":\"overlay\",\"size\":10,\"solidity\":0.2}},\"type\":\"bar\"}],\"scattergeo\":[{\"type\":\"scattergeo\",\"marker\":{\"colorbar\":{\"outlinewidth\":0,\"ticks\":\"\"}}}],\"scatterpolar\":[{\"type\":\"scatterpolar\",\"marker\":{\"colorbar\":{\"outlinewidth\":0,\"ticks\":\"\"}}}],\"histogram\":[{\"marker\":{\"pattern\":{\"fillmode\":\"overlay\",\"size\":10,\"solidity\":0.2}},\"type\":\"histogram\"}],\"scattergl\":[{\"type\":\"scattergl\",\"marker\":{\"colorbar\":{\"outlinewidth\":0,\"ticks\":\"\"}}}],\"scatter3d\":[{\"type\":\"scatter3d\",\"line\":{\"colorbar\":{\"outlinewidth\":0,\"ticks\":\"\"}},\"marker\":{\"colorbar\":{\"outlinewidth\":0,\"ticks\":\"\"}}}],\"scattermapbox\":[{\"type\":\"scattermapbox\",\"marker\":{\"colorbar\":{\"outlinewidth\":0,\"ticks\":\"\"}}}],\"scatterternary\":[{\"type\":\"scatterternary\",\"marker\":{\"colorbar\":{\"outlinewidth\":0,\"ticks\":\"\"}}}],\"scattercarpet\":[{\"type\":\"scattercarpet\",\"marker\":{\"colorbar\":{\"outlinewidth\":0,\"ticks\":\"\"}}}],\"carpet\":[{\"aaxis\":{\"endlinecolor\":\"#2a3f5f\",\"gridcolor\":\"white\",\"linecolor\":\"white\",\"minorgridcolor\":\"white\",\"startlinecolor\":\"#2a3f5f\"},\"baxis\":{\"endlinecolor\":\"#2a3f5f\",\"gridcolor\":\"white\",\"linecolor\":\"white\",\"minorgridcolor\":\"white\",\"startlinecolor\":\"#2a3f5f\"},\"type\":\"carpet\"}],\"table\":[{\"cells\":{\"fill\":{\"color\":\"#EBF0F8\"},\"line\":{\"color\":\"white\"}},\"header\":{\"fill\":{\"color\":\"#C8D4E3\"},\"line\":{\"color\":\"white\"}},\"type\":\"table\"}],\"barpolar\":[{\"marker\":{\"line\":{\"color\":\"#E5ECF6\",\"width\":0.5},\"pattern\":{\"fillmode\":\"overlay\",\"size\":10,\"solidity\":0.2}},\"type\":\"barpolar\"}],\"pie\":[{\"automargin\":true,\"type\":\"pie\"}]},\"layout\":{\"autotypenumbers\":\"strict\",\"colorway\":[\"#636efa\",\"#EF553B\",\"#00cc96\",\"#ab63fa\",\"#FFA15A\",\"#19d3f3\",\"#FF6692\",\"#B6E880\",\"#FF97FF\",\"#FECB52\"],\"font\":{\"color\":\"#2a3f5f\"},\"hovermode\":\"closest\",\"hoverlabel\":{\"align\":\"left\"},\"paper_bgcolor\":\"white\",\"plot_bgcolor\":\"#E5ECF6\",\"polar\":{\"bgcolor\":\"#E5ECF6\",\"angularaxis\":{\"gridcolor\":\"white\",\"linecolor\":\"white\",\"ticks\":\"\"},\"radialaxis\":{\"gridcolor\":\"white\",\"linecolor\":\"white\",\"ticks\":\"\"}},\"ternary\":{\"bgcolor\":\"#E5ECF6\",\"aaxis\":{\"gridcolor\":\"white\",\"linecolor\":\"white\",\"ticks\":\"\"},\"baxis\":{\"gridcolor\":\"white\",\"linecolor\":\"white\",\"ticks\":\"\"},\"caxis\":{\"gridcolor\":\"white\",\"linecolor\":\"white\",\"ticks\":\"\"}},\"coloraxis\":{\"colorbar\":{\"outlinewidth\":0,\"ticks\":\"\"}},\"colorscale\":{\"sequential\":[[0.0,\"#0d0887\"],[0.1111111111111111,\"#46039f\"],[0.2222222222222222,\"#7201a8\"],[0.3333333333333333,\"#9c179e\"],[0.4444444444444444,\"#bd3786\"],[0.5555555555555556,\"#d8576b\"],[0.6666666666666666,\"#ed7953\"],[0.7777777777777778,\"#fb9f3a\"],[0.8888888888888888,\"#fdca26\"],[1.0,\"#f0f921\"]],\"sequentialminus\":[[0.0,\"#0d0887\"],[0.1111111111111111,\"#46039f\"],[0.2222222222222222,\"#7201a8\"],[0.3333333333333333,\"#9c179e\"],[0.4444444444444444,\"#bd3786\"],[0.5555555555555556,\"#d8576b\"],[0.6666666666666666,\"#ed7953\"],[0.7777777777777778,\"#fb9f3a\"],[0.8888888888888888,\"#fdca26\"],[1.0,\"#f0f921\"]],\"diverging\":[[0,\"#8e0152\"],[0.1,\"#c51b7d\"],[0.2,\"#de77ae\"],[0.3,\"#f1b6da\"],[0.4,\"#fde0ef\"],[0.5,\"#f7f7f7\"],[0.6,\"#e6f5d0\"],[0.7,\"#b8e186\"],[0.8,\"#7fbc41\"],[0.9,\"#4d9221\"],[1,\"#276419\"]]},\"xaxis\":{\"gridcolor\":\"white\",\"linecolor\":\"white\",\"ticks\":\"\",\"title\":{\"standoff\":15},\"zerolinecolor\":\"white\",\"automargin\":true,\"zerolinewidth\":2},\"yaxis\":{\"gridcolor\":\"white\",\"linecolor\":\"white\",\"ticks\":\"\",\"title\":{\"standoff\":15},\"zerolinecolor\":\"white\",\"automargin\":true,\"zerolinewidth\":2},\"scene\":{\"xaxis\":{\"backgroundcolor\":\"#E5ECF6\",\"gridcolor\":\"white\",\"linecolor\":\"white\",\"showbackground\":true,\"ticks\":\"\",\"zerolinecolor\":\"white\",\"gridwidth\":2},\"yaxis\":{\"backgroundcolor\":\"#E5ECF6\",\"gridcolor\":\"white\",\"linecolor\":\"white\",\"showbackground\":true,\"ticks\":\"\",\"zerolinecolor\":\"white\",\"gridwidth\":2},\"zaxis\":{\"backgroundcolor\":\"#E5ECF6\",\"gridcolor\":\"white\",\"linecolor\":\"white\",\"showbackground\":true,\"ticks\":\"\",\"zerolinecolor\":\"white\",\"gridwidth\":2}},\"shapedefaults\":{\"line\":{\"color\":\"#2a3f5f\"}},\"annotationdefaults\":{\"arrowcolor\":\"#2a3f5f\",\"arrowhead\":0,\"arrowwidth\":1},\"geo\":{\"bgcolor\":\"white\",\"landcolor\":\"#E5ECF6\",\"subunitcolor\":\"white\",\"showland\":true,\"showlakes\":true,\"lakecolor\":\"white\"},\"title\":{\"x\":0.05},\"mapbox\":{\"style\":\"light\"}}},\"xaxis\":{\"anchor\":\"y\",\"domain\":[0.0,1.0],\"title\":{\"text\":\"Customer Index\"}},\"yaxis\":{\"anchor\":\"x\",\"domain\":[0.0,1.0],\"title\":{\"text\":\"Credit Score\"}},\"legend\":{\"title\":{\"text\":\"Segment\"},\"tracegroupgap\":0},\"margin\":{\"t\":60},\"title\":{\"text\":\"Customer Segmentation based on Credit Scores\"}},                        {\"responsive\": true}                    ).then(function(){\n",
              "                            \n",
              "var gd = document.getElementById('f8c71212-ad6d-4e28-924b-c14dcd44081e');\n",
              "var x = new MutationObserver(function (mutations, observer) {{\n",
              "        var display = window.getComputedStyle(gd).display;\n",
              "        if (!display || display === 'none') {{\n",
              "            console.log([gd, 'removed!']);\n",
              "            Plotly.purge(gd);\n",
              "            observer.disconnect();\n",
              "        }}\n",
              "}});\n",
              "\n",
              "// Listen for the removal of the full notebook cells\n",
              "var notebookContainer = gd.closest('#notebook-container');\n",
              "if (notebookContainer) {{\n",
              "    x.observe(notebookContainer, {childList: true});\n",
              "}}\n",
              "\n",
              "// Listen for the clearing of the current output cell\n",
              "var outputEl = gd.closest('.output');\n",
              "if (outputEl) {{\n",
              "    x.observe(outputEl, {childList: true});\n",
              "}}\n",
              "\n",
              "                        })                };                            </script>        </div>\n",
              "</body>\n",
              "</html>"
            ]
          },
          "metadata": {}
        }
      ]
    },
    {
      "cell_type": "markdown",
      "source": [
        "**Exploratory** **Data** **Analysis**"
      ],
      "metadata": {
        "id": "fizJve8ufHGO"
      }
    },
    {
      "cell_type": "markdown",
      "source": [
        "Summary Statistics"
      ],
      "metadata": {
        "id": "aOvrrK_YfqJf"
      }
    },
    {
      "cell_type": "code",
      "source": [
        "dataset2.describe().transpose()"
      ],
      "metadata": {
        "colab": {
          "base_uri": "https://localhost:8080/",
          "height": 477
        },
        "id": "5aXsPMdIfDxJ",
        "outputId": "280ba181-8f7e-447a-f8fb-a59a055643d2"
      },
      "execution_count": 41,
      "outputs": [
        {
          "output_type": "execute_result",
          "data": {
            "text/plain": [
              "                                 count           mean           std  \\\n",
              "Group_Age_In_Years               700.0       7.114286      5.069031   \n",
              "Group_Location                   700.0     184.455714      8.005330   \n",
              "Sector                           700.0       4.068571      1.243414   \n",
              "Category                         700.0       2.522857      0.561821   \n",
              "Repayment_Period_In_Years        700.0       2.658571      4.585135   \n",
              "Existing_Loans                   700.0       0.877143      0.328508   \n",
              "Table_Banking                    700.0       0.817143      0.386826   \n",
              "Amount_Issued                    700.0  102996.857143  60450.881148   \n",
              "Amount_Due                       700.0   10201.479048  18250.682855   \n",
              "Amount_Repaid                    700.0   35757.284286  47978.359819   \n",
              "Amount_cummulatively_in_arrears  700.0   33852.987143  67054.740963   \n",
              "Outstanding_Loan_Balance         700.0   64591.337143  60789.124403   \n",
              "Credit Score                     700.0   22672.003571  21460.220508   \n",
              "\n",
              "                                           min        25%            50%  \\\n",
              "Group_Age_In_Years                    0.000000      5.000       8.000000   \n",
              "Group_Location                      177.000000    178.000     179.000000   \n",
              "Sector                                0.000000      4.000       5.000000   \n",
              "Category                              1.000000      2.000       3.000000   \n",
              "Repayment_Period_In_Years             0.000000      2.000       2.000000   \n",
              "Existing_Loans                        0.000000      1.000       1.000000   \n",
              "Table_Banking                         0.000000      1.000       1.000000   \n",
              "Amount_Issued                         0.000000  70000.000  100000.000000   \n",
              "Amount_Due                            0.000000   5000.000    8333.333333   \n",
              "Amount_Repaid                         0.000000   5000.000   19772.500000   \n",
              "Amount_cummulatively_in_arrears -366666.666667      0.000   20833.333333   \n",
              "Outstanding_Loan_Balance         -20000.000000  27000.000   51000.000000   \n",
              "Credit Score                          0.700000   4442.275   20186.225000   \n",
              "\n",
              "                                        75%       max  \n",
              "Group_Age_In_Years                    9.000     124.0  \n",
              "Group_Location                      194.000     194.0  \n",
              "Sector                                5.000       5.0  \n",
              "Category                              3.000       3.0  \n",
              "Repayment_Period_In_Years             2.000     117.0  \n",
              "Existing_Loans                        1.000       1.0  \n",
              "Table_Banking                         1.000       1.0  \n",
              "Amount_Issued                    100000.000  440000.0  \n",
              "Amount_Due                        12500.000  455325.0  \n",
              "Amount_Repaid                     47150.000  400000.0  \n",
              "Amount_cummulatively_in_arrears   59000.000  455325.0  \n",
              "Outstanding_Loan_Balance          88677.500  440000.0  \n",
              "Credit Score                      30625.875  140001.1  "
            ],
            "text/html": [
              "\n",
              "  <div id=\"df-d7382cda-cc6d-493f-a704-e13e90504cca\" class=\"colab-df-container\">\n",
              "    <div>\n",
              "<style scoped>\n",
              "    .dataframe tbody tr th:only-of-type {\n",
              "        vertical-align: middle;\n",
              "    }\n",
              "\n",
              "    .dataframe tbody tr th {\n",
              "        vertical-align: top;\n",
              "    }\n",
              "\n",
              "    .dataframe thead th {\n",
              "        text-align: right;\n",
              "    }\n",
              "</style>\n",
              "<table border=\"1\" class=\"dataframe\">\n",
              "  <thead>\n",
              "    <tr style=\"text-align: right;\">\n",
              "      <th></th>\n",
              "      <th>count</th>\n",
              "      <th>mean</th>\n",
              "      <th>std</th>\n",
              "      <th>min</th>\n",
              "      <th>25%</th>\n",
              "      <th>50%</th>\n",
              "      <th>75%</th>\n",
              "      <th>max</th>\n",
              "    </tr>\n",
              "  </thead>\n",
              "  <tbody>\n",
              "    <tr>\n",
              "      <th>Group_Age_In_Years</th>\n",
              "      <td>700.0</td>\n",
              "      <td>7.114286</td>\n",
              "      <td>5.069031</td>\n",
              "      <td>0.000000</td>\n",
              "      <td>5.000</td>\n",
              "      <td>8.000000</td>\n",
              "      <td>9.000</td>\n",
              "      <td>124.0</td>\n",
              "    </tr>\n",
              "    <tr>\n",
              "      <th>Group_Location</th>\n",
              "      <td>700.0</td>\n",
              "      <td>184.455714</td>\n",
              "      <td>8.005330</td>\n",
              "      <td>177.000000</td>\n",
              "      <td>178.000</td>\n",
              "      <td>179.000000</td>\n",
              "      <td>194.000</td>\n",
              "      <td>194.0</td>\n",
              "    </tr>\n",
              "    <tr>\n",
              "      <th>Sector</th>\n",
              "      <td>700.0</td>\n",
              "      <td>4.068571</td>\n",
              "      <td>1.243414</td>\n",
              "      <td>0.000000</td>\n",
              "      <td>4.000</td>\n",
              "      <td>5.000000</td>\n",
              "      <td>5.000</td>\n",
              "      <td>5.0</td>\n",
              "    </tr>\n",
              "    <tr>\n",
              "      <th>Category</th>\n",
              "      <td>700.0</td>\n",
              "      <td>2.522857</td>\n",
              "      <td>0.561821</td>\n",
              "      <td>1.000000</td>\n",
              "      <td>2.000</td>\n",
              "      <td>3.000000</td>\n",
              "      <td>3.000</td>\n",
              "      <td>3.0</td>\n",
              "    </tr>\n",
              "    <tr>\n",
              "      <th>Repayment_Period_In_Years</th>\n",
              "      <td>700.0</td>\n",
              "      <td>2.658571</td>\n",
              "      <td>4.585135</td>\n",
              "      <td>0.000000</td>\n",
              "      <td>2.000</td>\n",
              "      <td>2.000000</td>\n",
              "      <td>2.000</td>\n",
              "      <td>117.0</td>\n",
              "    </tr>\n",
              "    <tr>\n",
              "      <th>Existing_Loans</th>\n",
              "      <td>700.0</td>\n",
              "      <td>0.877143</td>\n",
              "      <td>0.328508</td>\n",
              "      <td>0.000000</td>\n",
              "      <td>1.000</td>\n",
              "      <td>1.000000</td>\n",
              "      <td>1.000</td>\n",
              "      <td>1.0</td>\n",
              "    </tr>\n",
              "    <tr>\n",
              "      <th>Table_Banking</th>\n",
              "      <td>700.0</td>\n",
              "      <td>0.817143</td>\n",
              "      <td>0.386826</td>\n",
              "      <td>0.000000</td>\n",
              "      <td>1.000</td>\n",
              "      <td>1.000000</td>\n",
              "      <td>1.000</td>\n",
              "      <td>1.0</td>\n",
              "    </tr>\n",
              "    <tr>\n",
              "      <th>Amount_Issued</th>\n",
              "      <td>700.0</td>\n",
              "      <td>102996.857143</td>\n",
              "      <td>60450.881148</td>\n",
              "      <td>0.000000</td>\n",
              "      <td>70000.000</td>\n",
              "      <td>100000.000000</td>\n",
              "      <td>100000.000</td>\n",
              "      <td>440000.0</td>\n",
              "    </tr>\n",
              "    <tr>\n",
              "      <th>Amount_Due</th>\n",
              "      <td>700.0</td>\n",
              "      <td>10201.479048</td>\n",
              "      <td>18250.682855</td>\n",
              "      <td>0.000000</td>\n",
              "      <td>5000.000</td>\n",
              "      <td>8333.333333</td>\n",
              "      <td>12500.000</td>\n",
              "      <td>455325.0</td>\n",
              "    </tr>\n",
              "    <tr>\n",
              "      <th>Amount_Repaid</th>\n",
              "      <td>700.0</td>\n",
              "      <td>35757.284286</td>\n",
              "      <td>47978.359819</td>\n",
              "      <td>0.000000</td>\n",
              "      <td>5000.000</td>\n",
              "      <td>19772.500000</td>\n",
              "      <td>47150.000</td>\n",
              "      <td>400000.0</td>\n",
              "    </tr>\n",
              "    <tr>\n",
              "      <th>Amount_cummulatively_in_arrears</th>\n",
              "      <td>700.0</td>\n",
              "      <td>33852.987143</td>\n",
              "      <td>67054.740963</td>\n",
              "      <td>-366666.666667</td>\n",
              "      <td>0.000</td>\n",
              "      <td>20833.333333</td>\n",
              "      <td>59000.000</td>\n",
              "      <td>455325.0</td>\n",
              "    </tr>\n",
              "    <tr>\n",
              "      <th>Outstanding_Loan_Balance</th>\n",
              "      <td>700.0</td>\n",
              "      <td>64591.337143</td>\n",
              "      <td>60789.124403</td>\n",
              "      <td>-20000.000000</td>\n",
              "      <td>27000.000</td>\n",
              "      <td>51000.000000</td>\n",
              "      <td>88677.500</td>\n",
              "      <td>440000.0</td>\n",
              "    </tr>\n",
              "    <tr>\n",
              "      <th>Credit Score</th>\n",
              "      <td>700.0</td>\n",
              "      <td>22672.003571</td>\n",
              "      <td>21460.220508</td>\n",
              "      <td>0.700000</td>\n",
              "      <td>4442.275</td>\n",
              "      <td>20186.225000</td>\n",
              "      <td>30625.875</td>\n",
              "      <td>140001.1</td>\n",
              "    </tr>\n",
              "  </tbody>\n",
              "</table>\n",
              "</div>\n",
              "    <div class=\"colab-df-buttons\">\n",
              "\n",
              "  <div class=\"colab-df-container\">\n",
              "    <button class=\"colab-df-convert\" onclick=\"convertToInteractive('df-d7382cda-cc6d-493f-a704-e13e90504cca')\"\n",
              "            title=\"Convert this dataframe to an interactive table.\"\n",
              "            style=\"display:none;\">\n",
              "\n",
              "  <svg xmlns=\"http://www.w3.org/2000/svg\" height=\"24px\" viewBox=\"0 -960 960 960\">\n",
              "    <path d=\"M120-120v-720h720v720H120Zm60-500h600v-160H180v160Zm220 220h160v-160H400v160Zm0 220h160v-160H400v160ZM180-400h160v-160H180v160Zm440 0h160v-160H620v160ZM180-180h160v-160H180v160Zm440 0h160v-160H620v160Z\"/>\n",
              "  </svg>\n",
              "    </button>\n",
              "\n",
              "  <style>\n",
              "    .colab-df-container {\n",
              "      display:flex;\n",
              "      gap: 12px;\n",
              "    }\n",
              "\n",
              "    .colab-df-convert {\n",
              "      background-color: #E8F0FE;\n",
              "      border: none;\n",
              "      border-radius: 50%;\n",
              "      cursor: pointer;\n",
              "      display: none;\n",
              "      fill: #1967D2;\n",
              "      height: 32px;\n",
              "      padding: 0 0 0 0;\n",
              "      width: 32px;\n",
              "    }\n",
              "\n",
              "    .colab-df-convert:hover {\n",
              "      background-color: #E2EBFA;\n",
              "      box-shadow: 0px 1px 2px rgba(60, 64, 67, 0.3), 0px 1px 3px 1px rgba(60, 64, 67, 0.15);\n",
              "      fill: #174EA6;\n",
              "    }\n",
              "\n",
              "    .colab-df-buttons div {\n",
              "      margin-bottom: 4px;\n",
              "    }\n",
              "\n",
              "    [theme=dark] .colab-df-convert {\n",
              "      background-color: #3B4455;\n",
              "      fill: #D2E3FC;\n",
              "    }\n",
              "\n",
              "    [theme=dark] .colab-df-convert:hover {\n",
              "      background-color: #434B5C;\n",
              "      box-shadow: 0px 1px 3px 1px rgba(0, 0, 0, 0.15);\n",
              "      filter: drop-shadow(0px 1px 2px rgba(0, 0, 0, 0.3));\n",
              "      fill: #FFFFFF;\n",
              "    }\n",
              "  </style>\n",
              "\n",
              "    <script>\n",
              "      const buttonEl =\n",
              "        document.querySelector('#df-d7382cda-cc6d-493f-a704-e13e90504cca button.colab-df-convert');\n",
              "      buttonEl.style.display =\n",
              "        google.colab.kernel.accessAllowed ? 'block' : 'none';\n",
              "\n",
              "      async function convertToInteractive(key) {\n",
              "        const element = document.querySelector('#df-d7382cda-cc6d-493f-a704-e13e90504cca');\n",
              "        const dataTable =\n",
              "          await google.colab.kernel.invokeFunction('convertToInteractive',\n",
              "                                                    [key], {});\n",
              "        if (!dataTable) return;\n",
              "\n",
              "        const docLinkHtml = 'Like what you see? Visit the ' +\n",
              "          '<a target=\"_blank\" href=https://colab.research.google.com/notebooks/data_table.ipynb>data table notebook</a>'\n",
              "          + ' to learn more about interactive tables.';\n",
              "        element.innerHTML = '';\n",
              "        dataTable['output_type'] = 'display_data';\n",
              "        await google.colab.output.renderOutput(dataTable, element);\n",
              "        const docLink = document.createElement('div');\n",
              "        docLink.innerHTML = docLinkHtml;\n",
              "        element.appendChild(docLink);\n",
              "      }\n",
              "    </script>\n",
              "  </div>\n",
              "\n",
              "\n",
              "<div id=\"df-3dc1e513-ea0c-46f5-bf3d-3f902337cb58\">\n",
              "  <button class=\"colab-df-quickchart\" onclick=\"quickchart('df-3dc1e513-ea0c-46f5-bf3d-3f902337cb58')\"\n",
              "            title=\"Suggest charts\"\n",
              "            style=\"display:none;\">\n",
              "\n",
              "<svg xmlns=\"http://www.w3.org/2000/svg\" height=\"24px\"viewBox=\"0 0 24 24\"\n",
              "     width=\"24px\">\n",
              "    <g>\n",
              "        <path d=\"M19 3H5c-1.1 0-2 .9-2 2v14c0 1.1.9 2 2 2h14c1.1 0 2-.9 2-2V5c0-1.1-.9-2-2-2zM9 17H7v-7h2v7zm4 0h-2V7h2v10zm4 0h-2v-4h2v4z\"/>\n",
              "    </g>\n",
              "</svg>\n",
              "  </button>\n",
              "\n",
              "<style>\n",
              "  .colab-df-quickchart {\n",
              "      --bg-color: #E8F0FE;\n",
              "      --fill-color: #1967D2;\n",
              "      --hover-bg-color: #E2EBFA;\n",
              "      --hover-fill-color: #174EA6;\n",
              "      --disabled-fill-color: #AAA;\n",
              "      --disabled-bg-color: #DDD;\n",
              "  }\n",
              "\n",
              "  [theme=dark] .colab-df-quickchart {\n",
              "      --bg-color: #3B4455;\n",
              "      --fill-color: #D2E3FC;\n",
              "      --hover-bg-color: #434B5C;\n",
              "      --hover-fill-color: #FFFFFF;\n",
              "      --disabled-bg-color: #3B4455;\n",
              "      --disabled-fill-color: #666;\n",
              "  }\n",
              "\n",
              "  .colab-df-quickchart {\n",
              "    background-color: var(--bg-color);\n",
              "    border: none;\n",
              "    border-radius: 50%;\n",
              "    cursor: pointer;\n",
              "    display: none;\n",
              "    fill: var(--fill-color);\n",
              "    height: 32px;\n",
              "    padding: 0;\n",
              "    width: 32px;\n",
              "  }\n",
              "\n",
              "  .colab-df-quickchart:hover {\n",
              "    background-color: var(--hover-bg-color);\n",
              "    box-shadow: 0 1px 2px rgba(60, 64, 67, 0.3), 0 1px 3px 1px rgba(60, 64, 67, 0.15);\n",
              "    fill: var(--button-hover-fill-color);\n",
              "  }\n",
              "\n",
              "  .colab-df-quickchart-complete:disabled,\n",
              "  .colab-df-quickchart-complete:disabled:hover {\n",
              "    background-color: var(--disabled-bg-color);\n",
              "    fill: var(--disabled-fill-color);\n",
              "    box-shadow: none;\n",
              "  }\n",
              "\n",
              "  .colab-df-spinner {\n",
              "    border: 2px solid var(--fill-color);\n",
              "    border-color: transparent;\n",
              "    border-bottom-color: var(--fill-color);\n",
              "    animation:\n",
              "      spin 1s steps(1) infinite;\n",
              "  }\n",
              "\n",
              "  @keyframes spin {\n",
              "    0% {\n",
              "      border-color: transparent;\n",
              "      border-bottom-color: var(--fill-color);\n",
              "      border-left-color: var(--fill-color);\n",
              "    }\n",
              "    20% {\n",
              "      border-color: transparent;\n",
              "      border-left-color: var(--fill-color);\n",
              "      border-top-color: var(--fill-color);\n",
              "    }\n",
              "    30% {\n",
              "      border-color: transparent;\n",
              "      border-left-color: var(--fill-color);\n",
              "      border-top-color: var(--fill-color);\n",
              "      border-right-color: var(--fill-color);\n",
              "    }\n",
              "    40% {\n",
              "      border-color: transparent;\n",
              "      border-right-color: var(--fill-color);\n",
              "      border-top-color: var(--fill-color);\n",
              "    }\n",
              "    60% {\n",
              "      border-color: transparent;\n",
              "      border-right-color: var(--fill-color);\n",
              "    }\n",
              "    80% {\n",
              "      border-color: transparent;\n",
              "      border-right-color: var(--fill-color);\n",
              "      border-bottom-color: var(--fill-color);\n",
              "    }\n",
              "    90% {\n",
              "      border-color: transparent;\n",
              "      border-bottom-color: var(--fill-color);\n",
              "    }\n",
              "  }\n",
              "</style>\n",
              "\n",
              "  <script>\n",
              "    async function quickchart(key) {\n",
              "      const quickchartButtonEl =\n",
              "        document.querySelector('#' + key + ' button');\n",
              "      quickchartButtonEl.disabled = true;  // To prevent multiple clicks.\n",
              "      quickchartButtonEl.classList.add('colab-df-spinner');\n",
              "      try {\n",
              "        const charts = await google.colab.kernel.invokeFunction(\n",
              "            'suggestCharts', [key], {});\n",
              "      } catch (error) {\n",
              "        console.error('Error during call to suggestCharts:', error);\n",
              "      }\n",
              "      quickchartButtonEl.classList.remove('colab-df-spinner');\n",
              "      quickchartButtonEl.classList.add('colab-df-quickchart-complete');\n",
              "    }\n",
              "    (() => {\n",
              "      let quickchartButtonEl =\n",
              "        document.querySelector('#df-3dc1e513-ea0c-46f5-bf3d-3f902337cb58 button');\n",
              "      quickchartButtonEl.style.display =\n",
              "        google.colab.kernel.accessAllowed ? 'block' : 'none';\n",
              "    })();\n",
              "  </script>\n",
              "</div>\n",
              "\n",
              "    </div>\n",
              "  </div>\n"
            ]
          },
          "metadata": {},
          "execution_count": 41
        }
      ]
    },
    {
      "cell_type": "code",
      "source": [
        "# Plotting distribution of Credit amount feature\n",
        "plt.figure(figsize=(10,8), )\n",
        "plt.title('Amount_Issued')\n",
        "sns.histplot(dataset['Amount_Issued'], color='blue')\n",
        "\n",
        "# Save the plot as PNG file\n",
        "plt.savefig('Amount_Issued_distribution.png');"
      ],
      "metadata": {
        "colab": {
          "base_uri": "https://localhost:8080/",
          "height": 738
        },
        "id": "qNoj0slMp9f2",
        "outputId": "38b499e8-908e-4d16-8b55-046313d3e0bc"
      },
      "execution_count": 42,
      "outputs": [
        {
          "output_type": "display_data",
          "data": {
            "text/plain": [
              "<Figure size 1000x800 with 1 Axes>"
            ],
            "image/png": "[encoded data removed]"
          },
          "metadata": {}
        }
      ]
    },
    {
      "cell_type": "code",
      "execution_count": 44,
      "metadata": {
        "colab": {
          "base_uri": "https://localhost:8080/",
          "height": 849
        },
        "id": "DQkOQNAdj7-r",
        "outputId": "9c8dc097-2f09-45e0-8bc4-4962460263b9"
      },
      "outputs": [
        {
          "output_type": "stream",
          "name": "stdout",
          "text": [
            "Segment\n",
            "Low           69\n",
            "Good         227\n",
            "Very Low      14\n",
            "Excellent    390\n",
            "dtype: int64\n"
          ]
        },
        {
          "output_type": "display_data",
          "data": {
            "text/plain": [
              "<Figure size 1000x800 with 1 Axes>"
            ],
            "image/png": "[encoded data removed]"
          },
          "metadata": {}
        }
      ],
      "source": [
        "print (dataset2.groupby(\"Segment\").size())\n",
        "plt.figure(figsize=(10,8))\n",
        "sns.barplot(x=dataset2['Segment'].value_counts().index, y=dataset2['Segment'].value_counts(), color='blue')\n",
        "plt.title('Customer segments')\n",
        "plt.ylabel('Count')\n",
        "plt.xlabel('2:Very Low, 0:Low, 1:Good, 3:Excellent')\n",
        "\n",
        "# Save the plot as PNG file\n",
        "plt.savefig('Good_vs_Bad _Credit.png');"
      ]
    },
    {
      "cell_type": "markdown",
      "source": [
        "Data Visualization"
      ],
      "metadata": {
        "id": "P1YDKycVriTJ"
      }
    },
    {
      "cell_type": "code",
      "execution_count": 46,
      "metadata": {
        "id": "e18efb95",
        "outputId": "389ef099-5d16-4fdd-c0f5-c7fd0c1375bd",
        "colab": {
          "base_uri": "https://localhost:8080/",
          "height": 663
        }
      },
      "outputs": [
        {
          "output_type": "display_data",
          "data": {
            "text/plain": [
              "<Figure size 1500x1500 with 4 Axes>"
            ],
            "image/png": "[encoded data removed]"
          },
          "metadata": {}
        }
      ],
      "source": [
        "import warnings\n",
        "warnings.filterwarnings(\"ignore\")\n",
        "# get list of categorical variables\n",
        "cat_vars = ['Sector', 'Category','Existing_Loans','Table_Banking']\n",
        "\n",
        "# create figure with subplots\n",
        "fig, axs = plt.subplots(nrows=2, ncols=2, figsize=(15, 15))\n",
        "axs = axs.flatten()\n",
        "\n",
        "# create histplot for each categorical variable\n",
        "for i, var in enumerate(cat_vars):\n",
        "    sns.histplot(x=var, hue='Segment', data=dataset2, ax=axs[i], multiple=\"fill\", kde=False, element=\"bars\", fill=True, stat='density')\n",
        "    axs[i].set_xticklabels(dataset2[var].unique(), rotation=90)\n",
        "    axs[i].set_xlabel(var)\n",
        "\n",
        "# adjust spacing between subplots\n",
        "fig.tight_layout()\n",
        "\n",
        "# show plot\n",
        "plt.show()"
      ]
    },
    {
      "cell_type": "code",
      "execution_count": 52,
      "metadata": {
        "colab": {
          "base_uri": "https://localhost:8080/",
          "height": 596
        },
        "id": "xTmpnHm_SpeL",
        "outputId": "f4d3cbe3-7682-4f40-e472-b8857c9473d8"
      },
      "outputs": [
        {
          "output_type": "error",
          "ename": "IndexError",
          "evalue": "index 6 is out of bounds for axis 0 with size 6",
          "traceback": [
            "\u001b[0;31m---------------------------------------------------------------------------\u001b[0m",
            "\u001b[0;31mIndexError\u001b[0m                                Traceback (most recent call last)",
            "\u001b[0;32m<ipython-input-52-07b88b07d7bd>\u001b[0m in \u001b[0;36m<cell line: 6>\u001b[0;34m()\u001b[0m\n\u001b[1;32m      5\u001b[0m \u001b[0;34m\u001b[0m\u001b[0m\n\u001b[1;32m      6\u001b[0m \u001b[0;32mfor\u001b[0m \u001b[0mi\u001b[0m\u001b[0;34m,\u001b[0m \u001b[0mvar\u001b[0m \u001b[0;32min\u001b[0m \u001b[0menumerate\u001b[0m\u001b[0;34m(\u001b[0m\u001b[0mnum_vars\u001b[0m\u001b[0;34m)\u001b[0m\u001b[0;34m:\u001b[0m\u001b[0;34m\u001b[0m\u001b[0;34m\u001b[0m\u001b[0m\n\u001b[0;32m----> 7\u001b[0;31m     \u001b[0msns\u001b[0m\u001b[0;34m.\u001b[0m\u001b[0mboxplot\u001b[0m\u001b[0;34m(\u001b[0m\u001b[0mx\u001b[0m\u001b[0;34m=\u001b[0m\u001b[0mvar\u001b[0m\u001b[0;34m,\u001b[0m \u001b[0mdata\u001b[0m\u001b[0;34m=\u001b[0m\u001b[0mdataset2\u001b[0m\u001b[0;34m,\u001b[0m \u001b[0max\u001b[0m\u001b[0;34m=\u001b[0m\u001b[0maxs\u001b[0m\u001b[0;34m[\u001b[0m\u001b[0mi\u001b[0m\u001b[0;34m]\u001b[0m\u001b[0;34m)\u001b[0m\u001b[0;34m\u001b[0m\u001b[0;34m\u001b[0m\u001b[0m\n\u001b[0m\u001b[1;32m      8\u001b[0m \u001b[0;34m\u001b[0m\u001b[0m\n\u001b[1;32m      9\u001b[0m \u001b[0mfig\u001b[0m\u001b[0;34m.\u001b[0m\u001b[0mtight_layout\u001b[0m\u001b[0;34m(\u001b[0m\u001b[0;34m)\u001b[0m\u001b[0;34m\u001b[0m\u001b[0;34m\u001b[0m\u001b[0m\n",
            "\u001b[0;31mIndexError\u001b[0m: index 6 is out of bounds for axis 0 with size 6"
          ]
        },
        {
          "output_type": "display_data",
          "data": {
            "text/plain": [
              "<Figure size 2000x1000 with 6 Axes>"
            ],
            "image/png": "[encoded data removed]"
          },
          "metadata": {}
        }
      ],
      "source": [
        "# list of numerical variables to plot\n",
        "num_vars = ['Group_Age_In_Years','Group_Location','Repayment_Period_In_Years','Amount_Issued','Amount_Due','Amount_Repaid','Amount_cummulatively_in_arrears','Outstanding_Loan_Balance','Credit Score']\n",
        "fig, axs = plt.subplots(nrows=2, ncols=3, figsize=(20, 10))\n",
        "axs = axs.flatten()\n",
        "\n",
        "for i, var in enumerate(num_vars):\n",
        "    sns.boxplot(x=var, data=dataset2, ax=axs[i])\n",
        "\n",
        "fig.tight_layout()\n",
        "\n",
        "plt.show()"
      ]
    },
    {
      "cell_type": "code",
      "source": [
        "#Correlation Heatmap (print the correlation score each variables)\n",
        "plt.figure(figsize=(20, 16))\n",
        "sns.heatmap(dataset2.corr(), fmt='.2g', annot=True)"
      ],
      "metadata": {
        "colab": {
          "base_uri": "https://localhost:8080/",
          "height": 1000
        },
        "id": "92fWIgF8gBLw",
        "outputId": "89ffdd9a-a689-41f9-b19d-88f26f080069"
      },
      "execution_count": 53,
      "outputs": [
        {
          "output_type": "execute_result",
          "data": {
            "text/plain": [
              "<Axes: >"
            ]
          },
          "metadata": {},
          "execution_count": 53
        },
        {
          "output_type": "display_data",
          "data": {
            "text/plain": [
              "<Figure size 2000x1600 with 2 Axes>"
            ],
            "image/png": "[encoded data removed]"
          },
          "metadata": {}
        }
      ]
    },
    {
      "cell_type": "markdown",
      "source": [
        "# **2. MODELLING**"
      ],
      "metadata": {
        "id": "qQiUmEg0iQcr"
      }
    },
    {
      "cell_type": "code",
      "source": [
        "dataset2.info()"
      ],
      "metadata": {
        "colab": {
          "base_uri": "https://localhost:8080/"
        },
        "id": "J9MyD5Iky0SZ",
        "outputId": "6235cb74-5c31-4165-9f82-e8c47a3452e7"
      },
      "execution_count": 54,
      "outputs": [
        {
          "output_type": "stream",
          "name": "stdout",
          "text": [
            "<class 'pandas.core.frame.DataFrame'>\n",
            "Int64Index: 700 entries, 2 to 1020\n",
            "Data columns (total 14 columns):\n",
            " #   Column                           Non-Null Count  Dtype   \n",
            "---  ------                           --------------  -----   \n",
            " 0   Group_Age_In_Years               700 non-null    float64 \n",
            " 1   Group_Location                   700 non-null    float64 \n",
            " 2   Sector                           700 non-null    int64   \n",
            " 3   Category                         700 non-null    int64   \n",
            " 4   Repayment_Period_In_Years        700 non-null    float64 \n",
            " 5   Existing_Loans                   700 non-null    int64   \n",
            " 6   Table_Banking                    700 non-null    int64   \n",
            " 7   Amount_Issued                    700 non-null    float64 \n",
            " 8   Amount_Due                       700 non-null    float64 \n",
            " 9   Amount_Repaid                    700 non-null    float64 \n",
            " 10  Amount_cummulatively_in_arrears  700 non-null    float64 \n",
            " 11  Outstanding_Loan_Balance         700 non-null    float64 \n",
            " 12  Credit Score                     700 non-null    float64 \n",
            " 13  Segment                          700 non-null    category\n",
            "dtypes: category(1), float64(9), int64(4)\n",
            "memory usage: 77.4 KB\n"
          ]
        }
      ]
    },
    {
      "cell_type": "code",
      "source": [
        "# Print the class distribution of the target variable\n",
        "print(dataset2['Segment'].value_counts())"
      ],
      "metadata": {
        "colab": {
          "base_uri": "https://localhost:8080/"
        },
        "id": "0Aw4iatujlf4",
        "outputId": "46071b94-14a8-42d0-e94c-5d01d3fe7f53"
      },
      "execution_count": 55,
      "outputs": [
        {
          "output_type": "stream",
          "name": "stdout",
          "text": [
            "Excellent    390\n",
            "Good         227\n",
            "Low           69\n",
            "Very Low      14\n",
            "Name: Segment, dtype: int64\n"
          ]
        }
      ]
    },
    {
      "cell_type": "code",
      "execution_count": 56,
      "metadata": {
        "id": "CxTKhTHmZ7Zd"
      },
      "outputs": [],
      "source": [
        "# Drop the 'Segment' column to prepare data for splitting\n",
        "data = dataset2.drop(columns=['Segment'])\n",
        "# Get the target variable\n",
        "answer = dataset2['Segment']\n"
      ]
    },
    {
      "cell_type": "code",
      "execution_count": 57,
      "metadata": {
        "colab": {
          "base_uri": "https://localhost:8080/"
        },
        "outputId": "f44fd5a2-0bf9-4dc3-8053-1fd596f9b1fd",
        "id": "bB06Lod0jFFu"
      },
      "outputs": [
        {
          "output_type": "stream",
          "name": "stdout",
          "text": [
            "(497, 13)\n",
            "(63, 13)\n",
            "(140, 13)\n",
            "(497,)\n",
            "(63,)\n",
            "(140,)\n"
          ]
        }
      ],
      "source": [
        "# Split data into training, validation and test sets, ensuring the class distribution is maintained\n",
        "from sklearn.model_selection import train_test_split\n",
        "#split into train_validate_test sets\n",
        "#train size 70%, validate size 10% and test size 20%\n",
        "train_ratio = 0.70\n",
        "test_ratio = 0.20\n",
        "validation_ratio = 0.10\n",
        "X_train, X_test, y_train, y_test = train_test_split(data, answer, test_size=test_ratio, stratify=dataset2['Segment'])\n",
        "X_train, X_valid, y_train, y_valid = train_test_split(X_train, y_train, test_size=validation_ratio/(train_ratio+test_ratio), stratify=y_train)\n",
        "print(X_train.shape)\n",
        "print(X_valid.shape)\n",
        "print(X_test.shape)\n",
        "print(y_train.shape)\n",
        "print(y_valid.shape)\n",
        "print(y_test.shape)"
      ]
    },
    {
      "cell_type": "code",
      "source": [
        "print(X_train.head())"
      ],
      "metadata": {
        "colab": {
          "base_uri": "https://localhost:8080/"
        },
        "id": "zryVn4bMtg0h",
        "outputId": "2795bbfd-e25b-4b7c-fb15-185d75bec2c4"
      },
      "execution_count": 58,
      "outputs": [
        {
          "output_type": "stream",
          "name": "stdout",
          "text": [
            "     Group_Age_In_Years  Group_Location  Sector  Category  \\\n",
            "335                 9.0           177.0       1         3   \n",
            "222                 9.0           178.0       5         2   \n",
            "49                  9.0           179.0       5         2   \n",
            "939                 3.0           194.0       5         3   \n",
            "556                 8.0           194.0       4         2   \n",
            "\n",
            "     Repayment_Period_In_Years  Existing_Loans  Table_Banking  Amount_Issued  \\\n",
            "335                        2.0               1              1       150000.0   \n",
            "222                        8.0               0              1        93400.0   \n",
            "49                         2.0               1              0       300000.0   \n",
            "939                        2.0               1              1       400000.0   \n",
            "556                        2.0               1              1        50000.0   \n",
            "\n",
            "       Amount_Due  Amount_Repaid  Amount_cummulatively_in_arrears  \\\n",
            "335  12500.000000         4500.0                         141000.0   \n",
            "222      8.000000        93400.0                              8.0   \n",
            "49   25000.000000            0.0                          25000.0   \n",
            "939  33333.333333       291250.0                         108500.0   \n",
            "556   4166.666667        16700.0                          33300.0   \n",
            "\n",
            "     Outstanding_Loan_Balance  Credit Score  \n",
            "335                  145500.0       43875.7  \n",
            "222                       0.0       32694.3  \n",
            "49                   300000.0        7501.0  \n",
            "939                  108750.0      134488.6  \n",
            "556                   33300.0       15835.9  \n"
          ]
        }
      ]
    },
    {
      "cell_type": "markdown",
      "metadata": {
        "id": "pgAtT53YSpeS"
      },
      "source": [
        " **Feature** **Scaling**"
      ]
    },
    {
      "cell_type": "code",
      "execution_count": 59,
      "metadata": {
        "colab": {
          "base_uri": "https://localhost:8080/"
        },
        "id": "keaTaRyoSpeS",
        "outputId": "2feeeb84-6279-4c4d-8fa4-c5e3490801bb"
      },
      "outputs": [
        {
          "output_type": "execute_result",
          "data": {
            "text/plain": [
              "array([[ 0.81915754, -0.95592428, -2.49797699, ...,  1.69368579,\n",
              "         1.32009743,  1.01795504],\n",
              "       [ 0.81915754, -0.83109654,  0.76267846, ..., -0.50561673,\n",
              "        -1.05777079,  0.48501042],\n",
              "       [ 0.81915754, -0.7062688 ,  0.76267846, ..., -0.11577214,\n",
              "         3.84505027, -0.71579035],\n",
              "       ...,\n",
              "       [ 0.81915754, -0.7062688 ,  0.76267846, ..., -1.89585238,\n",
              "        -1.01609681, -0.72186744],\n",
              "       [-0.77116002, -0.95592428, -2.49797699, ...,  1.054136  ,\n",
              "         0.5765029 ,  0.35661926],\n",
              "       [ 0.42157815, -0.95592428, -0.0524854 , ...,  0.19542342,\n",
              "        -0.32316476,  0.15420431]])"
            ]
          },
          "metadata": {},
          "execution_count": 59
        }
      ],
      "source": [
        "#feature scaling\n",
        "from sklearn.preprocessing import StandardScaler\n",
        "scaler = StandardScaler()\n",
        "scaler.fit(X_train)\n",
        "X_train = scaler.transform(X_train)\n",
        "X_valid = scaler.transform(X_valid)\n",
        "X_test = scaler.transform(X_test)\n",
        "X_train"
      ]
    },
    {
      "cell_type": "markdown",
      "metadata": {
        "id": "RkYv2rnsSpeT"
      },
      "source": [
        "# **Logistic** **Regression**"
      ]
    },
    {
      "cell_type": "code",
      "execution_count": 104,
      "metadata": {
        "id": "GK0IFSsGSpeT"
      },
      "outputs": [],
      "source": [
        "# logistic regression for multi-class classification using built-in one-vs-rest\n",
        "from sklearn.linear_model import LogisticRegression\n",
        "model = LogisticRegression(multi_class='ovr').fit(X_train, y_train) #train the model"
      ]
    },
    {
      "cell_type": "code",
      "source": [
        "y_pred = model.predict(X_test)\n",
        "y_pred"
      ],
      "metadata": {
        "colab": {
          "base_uri": "https://localhost:8080/"
        },
        "id": "5EQcRO-L01IR",
        "outputId": "e6605b84-78b7-4fc9-b018-256b1d5e9655"
      },
      "execution_count": 98,
      "outputs": [
        {
          "output_type": "execute_result",
          "data": {
            "text/plain": [
              "array(['Excellent', 'Low', 'Excellent', 'Good', 'Good', 'Good',\n",
              "       'Excellent', 'Excellent', 'Good', 'Good', 'Excellent', 'Excellent',\n",
              "       'Excellent', 'Excellent', 'Excellent', 'Good', 'Excellent',\n",
              "       'Excellent', 'Excellent', 'Excellent', 'Good', 'Excellent', 'Good',\n",
              "       'Excellent', 'Excellent', 'Low', 'Excellent', 'Excellent',\n",
              "       'Excellent', 'Good', 'Good', 'Excellent', 'Excellent', 'Excellent',\n",
              "       'Excellent', 'Excellent', 'Excellent', 'Excellent', 'Excellent',\n",
              "       'Excellent', 'Excellent', 'Good', 'Excellent', 'Excellent', 'Good',\n",
              "       'Excellent', 'Excellent', 'Excellent', 'Excellent', 'Very Low',\n",
              "       'Excellent', 'Good', 'Excellent', 'Good', 'Low', 'Excellent',\n",
              "       'Good', 'Good', 'Good', 'Excellent', 'Excellent', 'Good',\n",
              "       'Excellent', 'Good', 'Excellent', 'Good', 'Excellent', 'Low',\n",
              "       'Excellent', 'Good', 'Low', 'Good', 'Good', 'Excellent', 'Good',\n",
              "       'Excellent', 'Excellent', 'Good', 'Excellent', 'Good', 'Excellent',\n",
              "       'Good', 'Excellent', 'Good', 'Excellent', 'Excellent', 'Low',\n",
              "       'Good', 'Low', 'Good', 'Excellent', 'Excellent', 'Good',\n",
              "       'Excellent', 'Excellent', 'Excellent', 'Excellent', 'Very Low',\n",
              "       'Excellent', 'Good', 'Good', 'Good', 'Excellent', 'Excellent',\n",
              "       'Excellent', 'Good', 'Excellent', 'Excellent', 'Excellent',\n",
              "       'Excellent', 'Good', 'Good', 'Excellent', 'Excellent', 'Low',\n",
              "       'Excellent', 'Excellent', 'Excellent', 'Low', 'Good', 'Excellent',\n",
              "       'Low', 'Excellent', 'Good', 'Good', 'Good', 'Excellent', 'Good',\n",
              "       'Excellent', 'Excellent', 'Low', 'Excellent', 'Excellent',\n",
              "       'Excellent', 'Excellent', 'Excellent', 'Good', 'Good', 'Excellent',\n",
              "       'Good'], dtype=object)"
            ]
          },
          "metadata": {},
          "execution_count": 98
        }
      ]
    },
    {
      "cell_type": "code",
      "execution_count": 102,
      "metadata": {
        "colab": {
          "base_uri": "https://localhost:8080/"
        },
        "id": "HpHdWYrg1Kqp",
        "outputId": "d4d160f7-12ad-4e8e-f7f1-a11aff677a17"
      },
      "outputs": [
        {
          "output_type": "execute_result",
          "data": {
            "text/plain": [
              "636    Excellent\n",
              "955          Low\n",
              "437    Excellent\n",
              "858         Good\n",
              "217         Good\n",
              "         ...    \n",
              "406    Excellent\n",
              "178         Good\n",
              "819         Good\n",
              "524    Excellent\n",
              "298         Good\n",
              "Name: Segment, Length: 140, dtype: category\n",
              "Categories (4, object): ['Low', 'Good', 'Very Low', 'Excellent']"
            ]
          },
          "metadata": {},
          "execution_count": 102
        }
      ],
      "source": [
        "y_test"
      ]
    },
    {
      "cell_type": "markdown",
      "metadata": {
        "id": "MZfDPpWynqgO"
      },
      "source": [
        "# **Model** **Evaluation**"
      ]
    },
    {
      "cell_type": "code",
      "execution_count": 101,
      "metadata": {
        "colab": {
          "base_uri": "https://localhost:8080/"
        },
        "id": "isFUbF0jSpeU",
        "outputId": "14a89ea0-9da5-494b-8e9c-17c9141dbdac"
      },
      "outputs": [
        {
          "output_type": "stream",
          "name": "stdout",
          "text": [
            "[[77  0  1  0]\n",
            " [ 0 45  0  0]\n",
            " [ 4  0 10  0]\n",
            " [ 1  0  0  2]]\n",
            "              precision    recall  f1-score   support\n",
            "\n",
            "   Excellent       0.94      0.99      0.96        78\n",
            "        Good       1.00      1.00      1.00        45\n",
            "         Low       0.91      0.71      0.80        14\n",
            "    Very Low       1.00      0.67      0.80         3\n",
            "\n",
            "    accuracy                           0.96       140\n",
            "   macro avg       0.96      0.84      0.89       140\n",
            "weighted avg       0.96      0.96      0.95       140\n",
            "\n"
          ]
        }
      ],
      "source": [
        "from sklearn.metrics import classification_report, confusion_matrix\n",
        "print(confusion_matrix(y_test, y_pred))\n",
        "print(classification_report(y_test, y_pred))"
      ]
    },
    {
      "cell_type": "code",
      "execution_count": 103,
      "metadata": {
        "colab": {
          "base_uri": "https://localhost:8080/"
        },
        "id": "mL9SSIRljNzX",
        "outputId": "1c364d51-b883-4501-c08a-f089957fa316"
      },
      "outputs": [
        {
          "output_type": "execute_result",
          "data": {
            "text/plain": [
              "array([0.01282051, 0.        , 0.28571429, 0.33333333])"
            ]
          },
          "metadata": {},
          "execution_count": 103
        }
      ],
      "source": [
        "from sklearn.metrics import recall_score\n",
        "# Option 1: Calculate recall for each class separately\n",
        "tpr = recall_score(y_test, y_pred, average=None)\n",
        "tnr = recall_score(y_test, y_pred, pos_label=0, average=None)\n",
        "fpr = 1 - tnr\n",
        "fnr = 1 - tpr\n",
        "fpr"
      ]
    },
    {
      "cell_type": "markdown",
      "source": [
        " **Logistic Regression feature importance**"
      ],
      "metadata": {
        "id": "SEoGI7k6TDiQ"
      }
    },
    {
      "cell_type": "code",
      "source": [
        "# get importance\n",
        "importance = model.coef_[0]\n",
        "# summarize feature importance\n",
        "for i,v in enumerate(importance):\n",
        " print('Feature: %0d, Score: %.5f' % (i,v))\n",
        "# plot feature importance\n",
        "plt.bar([x for x in range(len(importance))], importance)\n",
        "plt.show()"
      ],
      "metadata": {
        "colab": {
          "base_uri": "https://localhost:8080/",
          "height": 670
        },
        "id": "5PIYvYcIMMSx",
        "outputId": "ab8891c0-9a64-4fee-ad1c-7a5630325514"
      },
      "execution_count": 99,
      "outputs": [
        {
          "output_type": "stream",
          "name": "stdout",
          "text": [
            "Feature: 0, Score: 0.39274\n",
            "Feature: 1, Score: 1.58383\n",
            "Feature: 2, Score: -0.47206\n",
            "Feature: 3, Score: 0.12101\n",
            "Feature: 4, Score: 0.71534\n",
            "Feature: 5, Score: -0.15243\n",
            "Feature: 6, Score: 0.39891\n",
            "Feature: 7, Score: 0.21975\n",
            "Feature: 8, Score: 0.94211\n",
            "Feature: 9, Score: -1.11689\n",
            "Feature: 10, Score: 0.75522\n",
            "Feature: 11, Score: -1.85219\n",
            "Feature: 12, Score: -0.20532\n"
          ]
        },
        {
          "output_type": "display_data",
          "data": {
            "text/plain": [
              "<Figure size 640x480 with 1 Axes>"
            ],
            "image/png": "[encoded data removed]"
          },
          "metadata": {}
        }
      ]
    },
    {
      "cell_type": "markdown",
      "source": [
        " **Learning curve for logistic regression**\n"
      ],
      "metadata": {
        "id": "BB-iVyYYSi3P"
      }
    },
    {
      "cell_type": "code",
      "execution_count": 100,
      "metadata": {
        "colab": {
          "base_uri": "https://localhost:8080/"
        },
        "outputId": "19dafe9a-0ed1-4603-fe9b-686fee03c7dc",
        "id": "GbEgMKAUShrq"
      },
      "outputs": [
        {
          "output_type": "stream",
          "name": "stdout",
          "text": [
            "150 samples were used to train the model\n",
            "The average train accuracy is 1.00\n",
            "The average test accuracy is 0.82\n",
            "300 samples were used to train the model\n",
            "The average train accuracy is 1.00\n",
            "The average test accuracy is 0.89\n",
            "560 samples were used to train the model\n",
            "The average train accuracy is 0.93\n",
            "The average test accuracy is 0.92\n"
          ]
        }
      ],
      "source": [
        "from sklearn.model_selection import learning_curve\n",
        "train_size_abs, train_scores, test_scores, = learning_curve(model, data, answer, train_sizes=[150, 300, 560 ])\n",
        "for train_size, cv_train_scores, cv_test_scores,  in zip(\n",
        "    train_size_abs, train_scores, test_scores ):\n",
        "  print(f\"{train_size} samples were used to train the model\")\n",
        "  print(f\"The average train accuracy is {cv_train_scores.mean():.2f}\")\n",
        "  print(f\"The average test accuracy is {cv_test_scores.mean():.2f}\")\n"
      ]
    },
    {
      "cell_type": "markdown",
      "metadata": {
        "id": "99SExobGSpeU"
      },
      "source": [
        "**Artificial** **Neural** **Network**"
      ]
    },
    {
      "cell_type": "code",
      "source": [
        "from sklearn.neural_network import MLPClassifier\n",
        "clf = MLPClassifier(solver='lbfgs', alpha=1e-5,\n",
        "                hidden_layer_sizes=(5, 2), random_state=1)\n",
        "clf.fit(X_train, y_train)\n",
        "y_pred = clf.predict(X_test)\n",
        "y_pred"
      ],
      "metadata": {
        "colab": {
          "base_uri": "https://localhost:8080/"
        },
        "id": "D5av2MIow6fs",
        "outputId": "e431508f-8d7a-4366-a062-76771a789974"
      },
      "execution_count": 72,
      "outputs": [
        {
          "output_type": "execute_result",
          "data": {
            "text/plain": [
              "array(['Excellent', 'Low', 'Excellent', 'Good', 'Good', 'Good',\n",
              "       'Excellent', 'Low', 'Good', 'Good', 'Excellent', 'Excellent',\n",
              "       'Excellent', 'Excellent', 'Excellent', 'Good', 'Low', 'Excellent',\n",
              "       'Excellent', 'Excellent', 'Good', 'Excellent', 'Good', 'Excellent',\n",
              "       'Excellent', 'Low', 'Excellent', 'Excellent', 'Excellent', 'Good',\n",
              "       'Good', 'Excellent', 'Excellent', 'Excellent', 'Excellent',\n",
              "       'Excellent', 'Excellent', 'Excellent', 'Excellent', 'Excellent',\n",
              "       'Excellent', 'Good', 'Excellent', 'Low', 'Good', 'Excellent',\n",
              "       'Excellent', 'Excellent', 'Excellent', 'Low', 'Excellent', 'Good',\n",
              "       'Excellent', 'Good', 'Low', 'Excellent', 'Good', 'Good', 'Good',\n",
              "       'Excellent', 'Excellent', 'Good', 'Excellent', 'Good', 'Excellent',\n",
              "       'Good', 'Excellent', 'Low', 'Excellent', 'Good', 'Low', 'Good',\n",
              "       'Good', 'Excellent', 'Good', 'Excellent', 'Excellent', 'Good',\n",
              "       'Excellent', 'Good', 'Excellent', 'Good', 'Excellent', 'Good',\n",
              "       'Excellent', 'Excellent', 'Low', 'Good', 'Excellent', 'Good',\n",
              "       'Excellent', 'Excellent', 'Good', 'Excellent', 'Excellent',\n",
              "       'Excellent', 'Excellent', 'Low', 'Excellent', 'Good', 'Good',\n",
              "       'Good', 'Excellent', 'Good', 'Excellent', 'Good', 'Excellent',\n",
              "       'Excellent', 'Excellent', 'Excellent', 'Good', 'Good', 'Low',\n",
              "       'Excellent', 'Low', 'Excellent', 'Excellent', 'Excellent', 'Low',\n",
              "       'Good', 'Excellent', 'Low', 'Excellent', 'Good', 'Good', 'Good',\n",
              "       'Excellent', 'Good', 'Excellent', 'Excellent', 'Low', 'Excellent',\n",
              "       'Excellent', 'Excellent', 'Low', 'Excellent', 'Good', 'Good',\n",
              "       'Excellent', 'Good'], dtype='<U9')"
            ]
          },
          "metadata": {},
          "execution_count": 72
        }
      ]
    },
    {
      "cell_type": "code",
      "source": [
        "y_test"
      ],
      "metadata": {
        "colab": {
          "base_uri": "https://localhost:8080/"
        },
        "id": "Km7v6r-bxExZ",
        "outputId": "1d8aabc3-5a79-4ef3-df19-d2c9dd4ba629"
      },
      "execution_count": 73,
      "outputs": [
        {
          "output_type": "execute_result",
          "data": {
            "text/plain": [
              "636    Excellent\n",
              "955          Low\n",
              "437    Excellent\n",
              "858         Good\n",
              "217         Good\n",
              "         ...    \n",
              "406    Excellent\n",
              "178         Good\n",
              "819         Good\n",
              "524    Excellent\n",
              "298         Good\n",
              "Name: Segment, Length: 140, dtype: category\n",
              "Categories (4, object): ['Low', 'Good', 'Very Low', 'Excellent']"
            ]
          },
          "metadata": {},
          "execution_count": 73
        }
      ]
    },
    {
      "cell_type": "code",
      "source": [
        "from sklearn.metrics import classification_report, confusion_matrix\n",
        "print(confusion_matrix(y_test, y_pred))\n",
        "print(classification_report(y_test, y_pred))"
      ],
      "metadata": {
        "colab": {
          "base_uri": "https://localhost:8080/"
        },
        "id": "V2sC-E1yxGpQ",
        "outputId": "87184c27-87a5-445b-8fba-9032455ba186"
      },
      "execution_count": 77,
      "outputs": [
        {
          "output_type": "stream",
          "name": "stdout",
          "text": [
            "[[75  1  2  0]\n",
            " [ 0 45  0  0]\n",
            " [ 1  0 13  0]\n",
            " [ 1  0  2  0]]\n",
            "              precision    recall  f1-score   support\n",
            "\n",
            "   Excellent       0.97      0.96      0.97        78\n",
            "        Good       0.98      1.00      0.99        45\n",
            "         Low       0.76      0.93      0.84        14\n",
            "    Very Low       0.00      0.00      0.00         3\n",
            "\n",
            "    accuracy                           0.95       140\n",
            "   macro avg       0.68      0.72      0.70       140\n",
            "weighted avg       0.93      0.95      0.94       140\n",
            "\n"
          ]
        }
      ]
    },
    {
      "cell_type": "code",
      "source": [
        "from sklearn.metrics import recall_score\n",
        "# Option 1: Calculate recall for each class separately\n",
        "tpr = recall_score(y_test, y_pred, average=None)\n",
        "tnr = recall_score(y_test, y_pred, pos_label=0, average=None)\n",
        "fpr = 1 - tnr\n",
        "fnr = 1 - tpr\n",
        "fpr"
      ],
      "metadata": {
        "colab": {
          "base_uri": "https://localhost:8080/"
        },
        "id": "PNd3lTooxM9q",
        "outputId": "c4516137-15eb-4a9d-a5c0-ec0821768114"
      },
      "execution_count": 78,
      "outputs": [
        {
          "output_type": "execute_result",
          "data": {
            "text/plain": [
              "array([0.03846154, 0.        , 0.07142857, 1.        ])"
            ]
          },
          "metadata": {},
          "execution_count": 78
        }
      ]
    },
    {
      "cell_type": "code",
      "source": [
        "from sklearn.model_selection import learning_curve\n",
        "train_size_abs, train_scores, test_scores, = learning_curve(clf, data, answer, train_sizes=[150, 300, 560])\n",
        "for train_size, cv_train_scores, cv_test_scores,  in zip(\n",
        "    train_size_abs, train_scores, test_scores ):\n",
        "  print(f\"{train_size} samples were used to train the model\")\n",
        "  print(f\"The average train accuracy is {cv_train_scores.mean():.2f}\")\n",
        "  print(f\"The average test accuracy is {cv_test_scores.mean():.2f}\")"
      ],
      "metadata": {
        "colab": {
          "base_uri": "https://localhost:8080/"
        },
        "id": "CTs6kYhVxgwI",
        "outputId": "0cc003f3-a0a5-40fe-9ccd-86e6b3fe6c9f"
      },
      "execution_count": 79,
      "outputs": [
        {
          "output_type": "stream",
          "name": "stdout",
          "text": [
            "150 samples were used to train the model\n",
            "The average train accuracy is 0.18\n",
            "The average test accuracy is 0.16\n",
            "300 samples were used to train the model\n",
            "The average train accuracy is 0.52\n",
            "The average test accuracy is 0.41\n",
            "560 samples were used to train the model\n",
            "The average train accuracy is 0.32\n",
            "The average test accuracy is 0.32\n"
          ]
        }
      ]
    },
    {
      "cell_type": "markdown",
      "metadata": {
        "id": "lln5I1VXSpei"
      },
      "source": [
        "**Support** **Vector** **Machine**"
      ]
    },
    {
      "cell_type": "code",
      "source": [
        "from sklearn import svm\n",
        "clf2 = svm.SVC(kernel='rbf')\n",
        "clf2.fit(X_train, y_train)"
      ],
      "metadata": {
        "colab": {
          "base_uri": "https://localhost:8080/",
          "height": 75
        },
        "id": "mx-qfjnIx_LD",
        "outputId": "b9c23b30-c082-4379-9a4d-390671fb5887"
      },
      "execution_count": 80,
      "outputs": [
        {
          "output_type": "execute_result",
          "data": {
            "text/plain": [
              "SVC()"
            ],
            "text/html": [
              "<style>#sk-container-id-1 {color: black;background-color: white;}#sk-container-id-1 pre{padding: 0;}#sk-container-id-1 div.sk-toggleable {background-color: white;}#sk-container-id-1 label.sk-toggleable__label {cursor: pointer;display: block;width: 100%;margin-bottom: 0;padding: 0.3em;box-sizing: border-box;text-align: center;}#sk-container-id-1 label.sk-toggleable__label-arrow:before {content: \"▸\";float: left;margin-right: 0.25em;color: #696969;}#sk-container-id-1 label.sk-toggleable__label-arrow:hover:before {color: black;}#sk-container-id-1 div.sk-estimator:hover label.sk-toggleable__label-arrow:before {color: black;}#sk-container-id-1 div.sk-toggleable__content {max-height: 0;max-width: 0;overflow: hidden;text-align: left;background-color: #f0f8ff;}#sk-container-id-1 div.sk-toggleable__content pre {margin: 0.2em;color: black;border-radius: 0.25em;background-color: #f0f8ff;}#sk-container-id-1 input.sk-toggleable__control:checked~div.sk-toggleable__content {max-height: 200px;max-width: 100%;overflow: auto;}#sk-container-id-1 input.sk-toggleable__control:checked~label.sk-toggleable__label-arrow:before {content: \"▾\";}#sk-container-id-1 div.sk-estimator input.sk-toggleable__control:checked~label.sk-toggleable__label {background-color: #d4ebff;}#sk-container-id-1 div.sk-label input.sk-toggleable__control:checked~label.sk-toggleable__label {background-color: #d4ebff;}#sk-container-id-1 input.sk-hidden--visually {border: 0;clip: rect(1px 1px 1px 1px);clip: rect(1px, 1px, 1px, 1px);height: 1px;margin: -1px;overflow: hidden;padding: 0;position: absolute;width: 1px;}#sk-container-id-1 div.sk-estimator {font-family: monospace;background-color: #f0f8ff;border: 1px dotted black;border-radius: 0.25em;box-sizing: border-box;margin-bottom: 0.5em;}#sk-container-id-1 div.sk-estimator:hover {background-color: #d4ebff;}#sk-container-id-1 div.sk-parallel-item::after {content: \"\";width: 100%;border-bottom: 1px solid gray;flex-grow: 1;}#sk-container-id-1 div.sk-label:hover label.sk-toggleable__label {background-color: #d4ebff;}#sk-container-id-1 div.sk-serial::before {content: \"\";position: absolute;border-left: 1px solid gray;box-sizing: border-box;top: 0;bottom: 0;left: 50%;z-index: 0;}#sk-container-id-1 div.sk-serial {display: flex;flex-direction: column;align-items: center;background-color: white;padding-right: 0.2em;padding-left: 0.2em;position: relative;}#sk-container-id-1 div.sk-item {position: relative;z-index: 1;}#sk-container-id-1 div.sk-parallel {display: flex;align-items: stretch;justify-content: center;background-color: white;position: relative;}#sk-container-id-1 div.sk-item::before, #sk-container-id-1 div.sk-parallel-item::before {content: \"\";position: absolute;border-left: 1px solid gray;box-sizing: border-box;top: 0;bottom: 0;left: 50%;z-index: -1;}#sk-container-id-1 div.sk-parallel-item {display: flex;flex-direction: column;z-index: 1;position: relative;background-color: white;}#sk-container-id-1 div.sk-parallel-item:first-child::after {align-self: flex-end;width: 50%;}#sk-container-id-1 div.sk-parallel-item:last-child::after {align-self: flex-start;width: 50%;}#sk-container-id-1 div.sk-parallel-item:only-child::after {width: 0;}#sk-container-id-1 div.sk-dashed-wrapped {border: 1px dashed gray;margin: 0 0.4em 0.5em 0.4em;box-sizing: border-box;padding-bottom: 0.4em;background-color: white;}#sk-container-id-1 div.sk-label label {font-family: monospace;font-weight: bold;display: inline-block;line-height: 1.2em;}#sk-container-id-1 div.sk-label-container {text-align: center;}#sk-container-id-1 div.sk-container {/* jupyter's `normalize.less` sets `[hidden] { display: none; }` but bootstrap.min.css set `[hidden] { display: none !important; }` so we also need the `!important` here to be able to override the default hidden behavior on the sphinx rendered scikit-learn.org. See: https://github.com/scikit-learn/scikit-learn/issues/21755 */display: inline-block !important;position: relative;}#sk-container-id-1 div.sk-text-repr-fallback {display: none;}</style><div id=\"sk-container-id-1\" class=\"sk-top-container\"><div class=\"sk-text-repr-fallback\"><pre>SVC()</pre><b>In a Jupyter environment, please rerun this cell to show the HTML representation or trust the notebook. <br />On GitHub, the HTML representation is unable to render, please try loading this page with nbviewer.org.</b></div><div class=\"sk-container\" hidden><div class=\"sk-item\"><div class=\"sk-estimator sk-toggleable\"><input class=\"sk-toggleable__control sk-hidden--visually\" id=\"sk-estimator-id-1\" type=\"checkbox\" checked><label for=\"sk-estimator-id-1\" class=\"sk-toggleable__label sk-toggleable__label-arrow\">SVC</label><div class=\"sk-toggleable__content\"><pre>SVC()</pre></div></div></div></div></div>"
            ]
          },
          "metadata": {},
          "execution_count": 80
        }
      ]
    },
    {
      "cell_type": "code",
      "source": [
        "y_pred = clf2.predict(X_test)\n",
        "y_pred"
      ],
      "metadata": {
        "colab": {
          "base_uri": "https://localhost:8080/"
        },
        "id": "rUp761ugyEqH",
        "outputId": "248ae0d8-b1e3-4f3c-8d6f-6c41982b488d"
      },
      "execution_count": 81,
      "outputs": [
        {
          "output_type": "execute_result",
          "data": {
            "text/plain": [
              "array(['Excellent', 'Low', 'Excellent', 'Good', 'Good', 'Good',\n",
              "       'Excellent', 'Low', 'Good', 'Good', 'Excellent', 'Excellent',\n",
              "       'Excellent', 'Excellent', 'Excellent', 'Good', 'Low', 'Excellent',\n",
              "       'Excellent', 'Excellent', 'Good', 'Excellent', 'Good', 'Excellent',\n",
              "       'Excellent', 'Low', 'Excellent', 'Excellent', 'Excellent', 'Good',\n",
              "       'Good', 'Excellent', 'Excellent', 'Excellent', 'Excellent',\n",
              "       'Excellent', 'Excellent', 'Excellent', 'Excellent', 'Excellent',\n",
              "       'Excellent', 'Good', 'Excellent', 'Low', 'Good', 'Excellent',\n",
              "       'Excellent', 'Excellent', 'Excellent', 'Very Low', 'Excellent',\n",
              "       'Good', 'Excellent', 'Good', 'Low', 'Excellent', 'Good', 'Good',\n",
              "       'Good', 'Excellent', 'Excellent', 'Good', 'Excellent', 'Good',\n",
              "       'Excellent', 'Good', 'Excellent', 'Low', 'Excellent', 'Good',\n",
              "       'Low', 'Good', 'Good', 'Excellent', 'Good', 'Excellent',\n",
              "       'Excellent', 'Good', 'Excellent', 'Good', 'Excellent', 'Good',\n",
              "       'Excellent', 'Good', 'Excellent', 'Excellent', 'Low', 'Good',\n",
              "       'Excellent', 'Good', 'Excellent', 'Excellent', 'Good', 'Excellent',\n",
              "       'Excellent', 'Excellent', 'Excellent', 'Very Low', 'Excellent',\n",
              "       'Good', 'Good', 'Good', 'Excellent', 'Excellent', 'Excellent',\n",
              "       'Good', 'Excellent', 'Excellent', 'Excellent', 'Excellent', 'Good',\n",
              "       'Good', 'Excellent', 'Excellent', 'Low', 'Excellent', 'Excellent',\n",
              "       'Excellent', 'Low', 'Good', 'Excellent', 'Low', 'Excellent',\n",
              "       'Good', 'Good', 'Good', 'Excellent', 'Good', 'Excellent',\n",
              "       'Excellent', 'Low', 'Excellent', 'Excellent', 'Low', 'Low',\n",
              "       'Excellent', 'Good', 'Good', 'Excellent', 'Good'], dtype=object)"
            ]
          },
          "metadata": {},
          "execution_count": 81
        }
      ]
    },
    {
      "cell_type": "code",
      "source": [
        "from sklearn.metrics import classification_report, confusion_matrix\n",
        "print(confusion_matrix(y_test, y_pred))\n",
        "print(classification_report(y_test, y_pred))"
      ],
      "metadata": {
        "colab": {
          "base_uri": "https://localhost:8080/"
        },
        "id": "-wU_bs0byLPX",
        "outputId": "9dff17cd-9a6d-4b9f-d3b2-55d5e1ad518d"
      },
      "execution_count": 83,
      "outputs": [
        {
          "output_type": "stream",
          "name": "stdout",
          "text": [
            "[[76  0  2  0]\n",
            " [ 0 45  0  0]\n",
            " [ 1  0 13  0]\n",
            " [ 1  0  0  2]]\n",
            "              precision    recall  f1-score   support\n",
            "\n",
            "   Excellent       0.97      0.97      0.97        78\n",
            "        Good       1.00      1.00      1.00        45\n",
            "         Low       0.87      0.93      0.90        14\n",
            "    Very Low       1.00      0.67      0.80         3\n",
            "\n",
            "    accuracy                           0.97       140\n",
            "   macro avg       0.96      0.89      0.92       140\n",
            "weighted avg       0.97      0.97      0.97       140\n",
            "\n"
          ]
        }
      ]
    },
    {
      "cell_type": "code",
      "source": [
        "from sklearn.metrics import recall_score\n",
        "# Option 1: Calculate recall for each class separately\n",
        "tpr = recall_score(y_test, y_pred, average=None)\n",
        "tnr = recall_score(y_test, y_pred, pos_label=0, average=None)\n",
        "fpr = 1 - tnr\n",
        "fnr = 1 - tpr\n",
        "fpr"
      ],
      "metadata": {
        "colab": {
          "base_uri": "https://localhost:8080/"
        },
        "id": "4vW7JRR3yeHb",
        "outputId": "c8e8b0ef-95e1-46d1-f820-22906a3f2bfe"
      },
      "execution_count": 84,
      "outputs": [
        {
          "output_type": "execute_result",
          "data": {
            "text/plain": [
              "array([0.02564103, 0.        , 0.07142857, 0.33333333])"
            ]
          },
          "metadata": {},
          "execution_count": 84
        }
      ]
    },
    {
      "cell_type": "code",
      "source": [
        "from sklearn.model_selection import learning_curve\n",
        "train_size_abs, train_scores, test_scores, = learning_curve(clf2, data, answer, train_sizes=[150,300,560])\n",
        "for train_size, cv_train_scores, cv_test_scores,  in zip(\n",
        "    train_size_abs, train_scores, test_scores ):\n",
        "  print(f\"{train_size} samples were used to train the model\")\n",
        "  print(f\"The average train accuracy is {cv_train_scores.mean():.2f}\")\n",
        "  print(f\"The average test accuracy is {cv_test_scores.mean():.2f}\")"
      ],
      "metadata": {
        "colab": {
          "base_uri": "https://localhost:8080/"
        },
        "id": "SaXxucM2yg1g",
        "outputId": "f40ee1f6-e253-4fcc-8394-9a0075959156"
      },
      "execution_count": 85,
      "outputs": [
        {
          "output_type": "stream",
          "name": "stdout",
          "text": [
            "150 samples were used to train the model\n",
            "The average train accuracy is 1.00\n",
            "The average test accuracy is 0.87\n",
            "300 samples were used to train the model\n",
            "The average train accuracy is 1.00\n",
            "The average test accuracy is 0.91\n",
            "560 samples were used to train the model\n",
            "The average train accuracy is 0.98\n",
            "The average test accuracy is 0.97\n"
          ]
        }
      ]
    },
    {
      "cell_type": "markdown",
      "source": [
        "**Random** **Forest**"
      ],
      "metadata": {
        "id": "R_jPDBQLywKz"
      }
    },
    {
      "cell_type": "code",
      "source": [
        "from sklearn.ensemble import RandomForestClassifier\n",
        "from sklearn.model_selection import GridSearchCV\n",
        "rfc = RandomForestClassifier(class_weight='balanced')\n",
        "param_grid = {\n",
        "    'n_estimators': [100, 200],\n",
        "    'max_depth': [None, 5, 10],\n",
        "    'max_features': ['sqrt', 'log2', None],\n",
        "    'random_state': [0, 42]\n",
        "}\n",
        "\n",
        "# Perform a grid search with cross-validation to find the best hyperparameters\n",
        "grid_search = GridSearchCV(rfc, param_grid, cv=5)\n",
        "grid_search.fit(X_train, y_train)\n",
        "\n",
        "# Print the best hyperparameters\n",
        "print(grid_search.best_params_)"
      ],
      "metadata": {
        "colab": {
          "base_uri": "https://localhost:8080/"
        },
        "id": "-iuXCURfPKl5",
        "outputId": "e09fcf53-1c92-4481-8189-cca71b4b6573"
      },
      "execution_count": 86,
      "outputs": [
        {
          "output_type": "stream",
          "name": "stdout",
          "text": [
            "{'max_depth': None, 'max_features': None, 'n_estimators': 100, 'random_state': 0}\n"
          ]
        }
      ]
    },
    {
      "cell_type": "code",
      "source": [
        "from sklearn.ensemble import RandomForestClassifier\n",
        "rfc = RandomForestClassifier(random_state=0, n_estimators=100, class_weight='balanced')\n",
        "rfc.fit(X_train, y_train)"
      ],
      "metadata": {
        "colab": {
          "base_uri": "https://localhost:8080/",
          "height": 75
        },
        "id": "1ZxDOS1FzOmL",
        "outputId": "0a5e75ad-9309-42b5-caa5-3c79a6d73c3b"
      },
      "execution_count": 87,
      "outputs": [
        {
          "output_type": "execute_result",
          "data": {
            "text/plain": [
              "RandomForestClassifier(class_weight='balanced', random_state=0)"
            ],
            "text/html": [
              "<style>#sk-container-id-2 {color: black;background-color: white;}#sk-container-id-2 pre{padding: 0;}#sk-container-id-2 div.sk-toggleable {background-color: white;}#sk-container-id-2 label.sk-toggleable__label {cursor: pointer;display: block;width: 100%;margin-bottom: 0;padding: 0.3em;box-sizing: border-box;text-align: center;}#sk-container-id-2 label.sk-toggleable__label-arrow:before {content: \"▸\";float: left;margin-right: 0.25em;color: #696969;}#sk-container-id-2 label.sk-toggleable__label-arrow:hover:before {color: black;}#sk-container-id-2 div.sk-estimator:hover label.sk-toggleable__label-arrow:before {color: black;}#sk-container-id-2 div.sk-toggleable__content {max-height: 0;max-width: 0;overflow: hidden;text-align: left;background-color: #f0f8ff;}#sk-container-id-2 div.sk-toggleable__content pre {margin: 0.2em;color: black;border-radius: 0.25em;background-color: #f0f8ff;}#sk-container-id-2 input.sk-toggleable__control:checked~div.sk-toggleable__content {max-height: 200px;max-width: 100%;overflow: auto;}#sk-container-id-2 input.sk-toggleable__control:checked~label.sk-toggleable__label-arrow:before {content: \"▾\";}#sk-container-id-2 div.sk-estimator input.sk-toggleable__control:checked~label.sk-toggleable__label {background-color: #d4ebff;}#sk-container-id-2 div.sk-label input.sk-toggleable__control:checked~label.sk-toggleable__label {background-color: #d4ebff;}#sk-container-id-2 input.sk-hidden--visually {border: 0;clip: rect(1px 1px 1px 1px);clip: rect(1px, 1px, 1px, 1px);height: 1px;margin: -1px;overflow: hidden;padding: 0;position: absolute;width: 1px;}#sk-container-id-2 div.sk-estimator {font-family: monospace;background-color: #f0f8ff;border: 1px dotted black;border-radius: 0.25em;box-sizing: border-box;margin-bottom: 0.5em;}#sk-container-id-2 div.sk-estimator:hover {background-color: #d4ebff;}#sk-container-id-2 div.sk-parallel-item::after {content: \"\";width: 100%;border-bottom: 1px solid gray;flex-grow: 1;}#sk-container-id-2 div.sk-label:hover label.sk-toggleable__label {background-color: #d4ebff;}#sk-container-id-2 div.sk-serial::before {content: \"\";position: absolute;border-left: 1px solid gray;box-sizing: border-box;top: 0;bottom: 0;left: 50%;z-index: 0;}#sk-container-id-2 div.sk-serial {display: flex;flex-direction: column;align-items: center;background-color: white;padding-right: 0.2em;padding-left: 0.2em;position: relative;}#sk-container-id-2 div.sk-item {position: relative;z-index: 1;}#sk-container-id-2 div.sk-parallel {display: flex;align-items: stretch;justify-content: center;background-color: white;position: relative;}#sk-container-id-2 div.sk-item::before, #sk-container-id-2 div.sk-parallel-item::before {content: \"\";position: absolute;border-left: 1px solid gray;box-sizing: border-box;top: 0;bottom: 0;left: 50%;z-index: -1;}#sk-container-id-2 div.sk-parallel-item {display: flex;flex-direction: column;z-index: 1;position: relative;background-color: white;}#sk-container-id-2 div.sk-parallel-item:first-child::after {align-self: flex-end;width: 50%;}#sk-container-id-2 div.sk-parallel-item:last-child::after {align-self: flex-start;width: 50%;}#sk-container-id-2 div.sk-parallel-item:only-child::after {width: 0;}#sk-container-id-2 div.sk-dashed-wrapped {border: 1px dashed gray;margin: 0 0.4em 0.5em 0.4em;box-sizing: border-box;padding-bottom: 0.4em;background-color: white;}#sk-container-id-2 div.sk-label label {font-family: monospace;font-weight: bold;display: inline-block;line-height: 1.2em;}#sk-container-id-2 div.sk-label-container {text-align: center;}#sk-container-id-2 div.sk-container {/* jupyter's `normalize.less` sets `[hidden] { display: none; }` but bootstrap.min.css set `[hidden] { display: none !important; }` so we also need the `!important` here to be able to override the default hidden behavior on the sphinx rendered scikit-learn.org. See: https://github.com/scikit-learn/scikit-learn/issues/21755 */display: inline-block !important;position: relative;}#sk-container-id-2 div.sk-text-repr-fallback {display: none;}</style><div id=\"sk-container-id-2\" class=\"sk-top-container\"><div class=\"sk-text-repr-fallback\"><pre>RandomForestClassifier(class_weight=&#x27;balanced&#x27;, random_state=0)</pre><b>In a Jupyter environment, please rerun this cell to show the HTML representation or trust the notebook. <br />On GitHub, the HTML representation is unable to render, please try loading this page with nbviewer.org.</b></div><div class=\"sk-container\" hidden><div class=\"sk-item\"><div class=\"sk-estimator sk-toggleable\"><input class=\"sk-toggleable__control sk-hidden--visually\" id=\"sk-estimator-id-2\" type=\"checkbox\" checked><label for=\"sk-estimator-id-2\" class=\"sk-toggleable__label sk-toggleable__label-arrow\">RandomForestClassifier</label><div class=\"sk-toggleable__content\"><pre>RandomForestClassifier(class_weight=&#x27;balanced&#x27;, random_state=0)</pre></div></div></div></div></div>"
            ]
          },
          "metadata": {},
          "execution_count": 87
        }
      ]
    },
    {
      "cell_type": "code",
      "source": [
        "y_pred = rfc.predict(X_test)\n",
        "y_pred"
      ],
      "metadata": {
        "colab": {
          "base_uri": "https://localhost:8080/"
        },
        "id": "tEnYRq-3zZk0",
        "outputId": "3ce5dac1-c20b-4bea-93cd-54c45c398096"
      },
      "execution_count": 88,
      "outputs": [
        {
          "output_type": "execute_result",
          "data": {
            "text/plain": [
              "array(['Excellent', 'Low', 'Excellent', 'Good', 'Good', 'Good',\n",
              "       'Excellent', 'Low', 'Good', 'Good', 'Excellent', 'Excellent',\n",
              "       'Excellent', 'Excellent', 'Very Low', 'Good', 'Low', 'Excellent',\n",
              "       'Excellent', 'Excellent', 'Good', 'Excellent', 'Good', 'Excellent',\n",
              "       'Excellent', 'Low', 'Excellent', 'Excellent', 'Excellent', 'Good',\n",
              "       'Good', 'Excellent', 'Excellent', 'Excellent', 'Excellent',\n",
              "       'Excellent', 'Excellent', 'Excellent', 'Excellent', 'Excellent',\n",
              "       'Excellent', 'Good', 'Excellent', 'Low', 'Good', 'Excellent',\n",
              "       'Excellent', 'Excellent', 'Low', 'Very Low', 'Excellent', 'Good',\n",
              "       'Excellent', 'Good', 'Low', 'Excellent', 'Good', 'Good', 'Good',\n",
              "       'Excellent', 'Excellent', 'Good', 'Excellent', 'Good', 'Excellent',\n",
              "       'Good', 'Excellent', 'Low', 'Excellent', 'Good', 'Low', 'Good',\n",
              "       'Good', 'Excellent', 'Good', 'Excellent', 'Excellent', 'Good',\n",
              "       'Excellent', 'Good', 'Excellent', 'Good', 'Excellent', 'Good',\n",
              "       'Excellent', 'Excellent', 'Low', 'Good', 'Excellent', 'Good',\n",
              "       'Excellent', 'Excellent', 'Good', 'Excellent', 'Excellent',\n",
              "       'Excellent', 'Excellent', 'Very Low', 'Excellent', 'Good', 'Good',\n",
              "       'Good', 'Excellent', 'Excellent', 'Excellent', 'Good', 'Excellent',\n",
              "       'Excellent', 'Excellent', 'Excellent', 'Good', 'Good', 'Excellent',\n",
              "       'Excellent', 'Low', 'Excellent', 'Excellent', 'Excellent', 'Low',\n",
              "       'Good', 'Excellent', 'Low', 'Excellent', 'Good', 'Good', 'Good',\n",
              "       'Excellent', 'Good', 'Excellent', 'Excellent', 'Low', 'Excellent',\n",
              "       'Excellent', 'Excellent', 'Excellent', 'Excellent', 'Good', 'Good',\n",
              "       'Excellent', 'Good'], dtype=object)"
            ]
          },
          "metadata": {},
          "execution_count": 88
        }
      ]
    },
    {
      "cell_type": "code",
      "source": [
        "from sklearn.metrics import classification_report, confusion_matrix\n",
        "print(confusion_matrix(y_test, y_pred))\n",
        "print(classification_report(y_test, y_pred))"
      ],
      "metadata": {
        "colab": {
          "base_uri": "https://localhost:8080/"
        },
        "id": "ak0wM-sqzeDi",
        "outputId": "aa822288-d849-4931-f5a6-377b6fbfb812"
      },
      "execution_count": 89,
      "outputs": [
        {
          "output_type": "stream",
          "name": "stdout",
          "text": [
            "[[78  0  0  0]\n",
            " [ 0 45  0  0]\n",
            " [ 0  0 14  0]\n",
            " [ 0  0  0  3]]\n",
            "              precision    recall  f1-score   support\n",
            "\n",
            "   Excellent       1.00      1.00      1.00        78\n",
            "        Good       1.00      1.00      1.00        45\n",
            "         Low       1.00      1.00      1.00        14\n",
            "    Very Low       1.00      1.00      1.00         3\n",
            "\n",
            "    accuracy                           1.00       140\n",
            "   macro avg       1.00      1.00      1.00       140\n",
            "weighted avg       1.00      1.00      1.00       140\n",
            "\n"
          ]
        }
      ]
    },
    {
      "cell_type": "code",
      "source": [
        "from sklearn.metrics import recall_score\n",
        "# Option 1: Calculate recall for each class separately\n",
        "tpr = recall_score(y_test, y_pred, average=None)\n",
        "tnr = recall_score(y_test, y_pred, pos_label=0, average=None)\n",
        "fpr = 1 - tnr\n",
        "fnr = 1 - tpr\n",
        "fnr"
      ],
      "metadata": {
        "colab": {
          "base_uri": "https://localhost:8080/"
        },
        "id": "GA6m8q5EzxCJ",
        "outputId": "f80d372e-d891-411e-bebb-734572644612"
      },
      "execution_count": 94,
      "outputs": [
        {
          "output_type": "execute_result",
          "data": {
            "text/plain": [
              "array([0., 0., 0., 0.])"
            ]
          },
          "metadata": {},
          "execution_count": 94
        }
      ]
    },
    {
      "cell_type": "markdown",
      "source": [
        "**Learning** **Curve**"
      ],
      "metadata": {
        "id": "Vea88zSYz3cq"
      }
    },
    {
      "cell_type": "code",
      "source": [
        "from sklearn.model_selection import learning_curve\n",
        "train_size_abs, train_scores, test_scores, = learning_curve(rfc, data, answer, train_sizes=[150,300,560])\n",
        "for train_size, cv_train_scores, cv_test_scores,  in zip(\n",
        "    train_size_abs, train_scores, test_scores ):\n",
        "  print(f\"{train_size} samples were used to train the model\")\n",
        "  print(f\"The average train accuracy is {cv_train_scores.mean():.2f}\")\n",
        "  print(f\"The average test accuracy is {cv_test_scores.mean():.2f}\")\n"
      ],
      "metadata": {
        "colab": {
          "base_uri": "https://localhost:8080/"
        },
        "id": "J-P2lloezzA4",
        "outputId": "7cdb8cf4-63f5-412f-a757-6eb551ad15e2"
      },
      "execution_count": 91,
      "outputs": [
        {
          "output_type": "stream",
          "name": "stdout",
          "text": [
            "150 samples were used to train the model\n",
            "The average train accuracy is 1.00\n",
            "The average test accuracy is 0.78\n",
            "300 samples were used to train the model\n",
            "The average train accuracy is 1.00\n",
            "The average test accuracy is 0.91\n",
            "560 samples were used to train the model\n",
            "The average train accuracy is 1.00\n",
            "The average test accuracy is 0.98\n"
          ]
        }
      ]
    },
    {
      "cell_type": "markdown",
      "source": [
        "**Detection** **error** **tradeoff** (**DET**) **curve**"
      ],
      "metadata": {
        "id": "0d8SR5-t0MwM"
      }
    },
    {
      "cell_type": "code",
      "source": [
        "#Define the classifiers\n",
        "classifiers = {\n",
        "   \"LR\":LogisticRegression(multi_class='ovr'),\n",
        "   \"ANN\": MLPClassifier(solver='lbfgs', alpha=1e-5,\n",
        "                hidden_layer_sizes=(5, 2), random_state=1),\n",
        "    \"SVM\": svm.SVC(kernel='rbf'),\n",
        "  \"Random Forest\": RandomForestClassifier(random_state=0, n_estimators=100, class_weight='balanced')\n",
        "    ,\n",
        "}\n",
        "from sklearn.metrics import DetCurveDisplay, RocCurveDisplay\n",
        "\n",
        "fig, [ax_roc, ax_det] = plt.subplots(1, 2, figsize=(11, 5))\n",
        "\n",
        "for name, clf in classifiers.items():\n",
        "    clf.fit(X_train, y_train)\n",
        "\n",
        "    # Plot curves for in-sample data\n",
        "    RocCurveDisplay.from_estimator(clf, X_valid, y_valid, ax=ax_roc, name=name)\n",
        "    DetCurveDisplay.from_estimator(clf, X_valid, y_valid, ax=ax_det, name=name)\n",
        "\n",
        "ax_roc.set_title(\"Receiver Operating Characteristic (ROC) curves\")\n",
        "ax_det.set_title(\"Detection Error Tradeoff (DET) curves\")\n",
        "\n",
        "ax_roc.grid(linestyle=\"--\")\n",
        "ax_det.grid(linestyle=\"--\")\n",
        "\n",
        "plt.legend()\n",
        "plt.show()"
      ],
      "metadata": {
        "colab": {
          "base_uri": "https://localhost:8080/",
          "height": 808
        },
        "id": "KOq-H1D-0OOY",
        "outputId": "5bc44863-7a53-4645-e5a0-43454132e281"
      },
      "execution_count": 105,
      "outputs": [
        {
          "output_type": "error",
          "ename": "ValueError",
          "evalue": "Expected 'estimator' to be a binary classifier, but got LogisticRegression fit on multiclass (4 classes) data",
          "traceback": [
            "\u001b[0;31m---------------------------------------------------------------------------\u001b[0m",
            "\u001b[0;31mValueError\u001b[0m                                Traceback (most recent call last)",
            "\u001b[0;32m<ipython-input-105-b573e3976191>\u001b[0m in \u001b[0;36m<cell line: 14>\u001b[0;34m()\u001b[0m\n\u001b[1;32m     16\u001b[0m \u001b[0;34m\u001b[0m\u001b[0m\n\u001b[1;32m     17\u001b[0m     \u001b[0;31m# Plot curves for in-sample data\u001b[0m\u001b[0;34m\u001b[0m\u001b[0;34m\u001b[0m\u001b[0m\n\u001b[0;32m---> 18\u001b[0;31m     \u001b[0mRocCurveDisplay\u001b[0m\u001b[0;34m.\u001b[0m\u001b[0mfrom_estimator\u001b[0m\u001b[0;34m(\u001b[0m\u001b[0mclf\u001b[0m\u001b[0;34m,\u001b[0m \u001b[0mX_valid\u001b[0m\u001b[0;34m,\u001b[0m \u001b[0my_valid\u001b[0m\u001b[0;34m,\u001b[0m \u001b[0max\u001b[0m\u001b[0;34m=\u001b[0m\u001b[0max_roc\u001b[0m\u001b[0;34m,\u001b[0m \u001b[0mname\u001b[0m\u001b[0;34m=\u001b[0m\u001b[0mname\u001b[0m\u001b[0;34m)\u001b[0m\u001b[0;34m\u001b[0m\u001b[0;34m\u001b[0m\u001b[0m\n\u001b[0m\u001b[1;32m     19\u001b[0m     \u001b[0mDetCurveDisplay\u001b[0m\u001b[0;34m.\u001b[0m\u001b[0mfrom_estimator\u001b[0m\u001b[0;34m(\u001b[0m\u001b[0mclf\u001b[0m\u001b[0;34m,\u001b[0m \u001b[0mX_valid\u001b[0m\u001b[0;34m,\u001b[0m \u001b[0my_valid\u001b[0m\u001b[0;34m,\u001b[0m \u001b[0max\u001b[0m\u001b[0;34m=\u001b[0m\u001b[0max_det\u001b[0m\u001b[0;34m,\u001b[0m \u001b[0mname\u001b[0m\u001b[0;34m=\u001b[0m\u001b[0mname\u001b[0m\u001b[0;34m)\u001b[0m\u001b[0;34m\u001b[0m\u001b[0;34m\u001b[0m\u001b[0m\n\u001b[1;32m     20\u001b[0m \u001b[0;34m\u001b[0m\u001b[0m\n",
            "\u001b[0;32m/usr/local/lib/python3.10/dist-packages/sklearn/metrics/_plot/roc_curve.py\u001b[0m in \u001b[0;36mfrom_estimator\u001b[0;34m(cls, estimator, X, y, sample_weight, drop_intermediate, response_method, pos_label, name, ax, **kwargs)\u001b[0m\n\u001b[1;32m    232\u001b[0m         \u001b[0mname\u001b[0m \u001b[0;34m=\u001b[0m \u001b[0mestimator\u001b[0m\u001b[0;34m.\u001b[0m\u001b[0m__class__\u001b[0m\u001b[0;34m.\u001b[0m\u001b[0m__name__\u001b[0m \u001b[0;32mif\u001b[0m \u001b[0mname\u001b[0m \u001b[0;32mis\u001b[0m \u001b[0;32mNone\u001b[0m \u001b[0;32melse\u001b[0m \u001b[0mname\u001b[0m\u001b[0;34m\u001b[0m\u001b[0;34m\u001b[0m\u001b[0m\n\u001b[1;32m    233\u001b[0m \u001b[0;34m\u001b[0m\u001b[0m\n\u001b[0;32m--> 234\u001b[0;31m         y_pred, pos_label = _get_response(\n\u001b[0m\u001b[1;32m    235\u001b[0m             \u001b[0mX\u001b[0m\u001b[0;34m,\u001b[0m\u001b[0;34m\u001b[0m\u001b[0;34m\u001b[0m\u001b[0m\n\u001b[1;32m    236\u001b[0m             \u001b[0mestimator\u001b[0m\u001b[0;34m,\u001b[0m\u001b[0;34m\u001b[0m\u001b[0;34m\u001b[0m\u001b[0m\n",
            "\u001b[0;32m/usr/local/lib/python3.10/dist-packages/sklearn/metrics/_plot/base.py\u001b[0m in \u001b[0;36m_get_response\u001b[0;34m(X, estimator, response_method, pos_label)\u001b[0m\n\u001b[1;32m    106\u001b[0m         \u001b[0my_pred_shape\u001b[0m \u001b[0;34m=\u001b[0m \u001b[0my_pred\u001b[0m\u001b[0;34m.\u001b[0m\u001b[0mshape\u001b[0m\u001b[0;34m[\u001b[0m\u001b[0;36m1\u001b[0m\u001b[0;34m]\u001b[0m\u001b[0;34m\u001b[0m\u001b[0;34m\u001b[0m\u001b[0m\n\u001b[1;32m    107\u001b[0m         \u001b[0;32mif\u001b[0m \u001b[0my_pred_shape\u001b[0m \u001b[0;34m!=\u001b[0m \u001b[0;36m2\u001b[0m\u001b[0;34m:\u001b[0m\u001b[0;34m\u001b[0m\u001b[0;34m\u001b[0m\u001b[0m\n\u001b[0;32m--> 108\u001b[0;31m             raise ValueError(\n\u001b[0m\u001b[1;32m    109\u001b[0m                 \u001b[0;34mf\"{classification_error} fit on multiclass ({y_pred_shape} classes)\"\u001b[0m\u001b[0;34m\u001b[0m\u001b[0;34m\u001b[0m\u001b[0m\n\u001b[1;32m    110\u001b[0m                 \u001b[0;34m\" data\"\u001b[0m\u001b[0;34m\u001b[0m\u001b[0;34m\u001b[0m\u001b[0m\n",
            "\u001b[0;31mValueError\u001b[0m: Expected 'estimator' to be a binary classifier, but got LogisticRegression fit on multiclass (4 classes) data"
          ]
        },
        {
          "output_type": "display_data",
          "data": {
            "text/plain": [
              "<Figure size 1100x500 with 2 Axes>"
            ],
            "image/png": "[encoded data removed]"
          },
          "metadata": {}
        }
      ]
    },
    {
      "cell_type": "code",
      "source": [
        "\n",
        "# Write the DataFrame to a CSV file\n",
        "data.to_csv('uwezo1.csv', index=False)\n",
        "from IPython.display import HTML\n",
        "HTML('Download CSV file')\n"
      ],
      "metadata": {
        "colab": {
          "base_uri": "https://localhost:8080/",
          "height": 34
        },
        "id": "B76O8xUD2nQ4",
        "outputId": "26956b00-ebbb-4525-c468-52d023f7cc7f"
      },
      "execution_count": 95,
      "outputs": [
        {
          "output_type": "execute_result",
          "data": {
            "text/plain": [
              "<IPython.core.display.HTML object>"
            ],
            "text/html": [
              "Download CSV file"
            ]
          },
          "metadata": {},
          "execution_count": 95
        }
      ]
    }
  ],
  "metadata": {
    "colab": {
      "provenance": [],
      "authorship_tag": "ABX9TyPo/M5+pKUSBnGozRzYoV95",
      "include_colab_link": true
    },
    "kernelspec": {
      "display_name": "Python 3",
      "name": "python3"
    },
    "language_info": {
      "name": "python"
    }
  },
  "nbformat": 4,
  "nbformat_minor": 0
}